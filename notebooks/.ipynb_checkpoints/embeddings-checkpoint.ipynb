{
 "cells": [
  {
   "cell_type": "code",
   "execution_count": 1,
   "metadata": {},
   "outputs": [
    {
     "name": "stderr",
     "output_type": "stream",
     "text": [
      "Using TensorFlow backend.\n"
     ]
    }
   ],
   "source": [
    "import re\n",
    "import os\n",
    "import numpy as np\n",
    "import json\n",
    "import pickle\n",
    "import datetime\n",
    "import spacy\n",
    "from keras.utils import to_categorical\n",
    "from nltk.tokenize import word_tokenize,sent_tokenize\n",
    "from gensim.models import Word2Vec\n",
    "from load_squad_wiki_data import get_squad_wiki_data\n",
    "nlp = spacy.load('en')"
   ]
  },
  {
   "cell_type": "code",
   "execution_count": 2,
   "metadata": {
    "collapsed": true
   },
   "outputs": [],
   "source": [
    "class Embeddings:\n",
    "    def __init__(self, size, window, min_count, workers):\n",
    "        \n",
    "        self.size = size\n",
    "        self.window = window\n",
    "        self.min_count = min_count\n",
    "        self.workers = workers\n",
    "        base_file_name = '_'.join([str(number) for number in [size, window, min_count, workers]])\n",
    "        self.path_word2vec_model = '../data/word2vec_model_{0}.pickle'.format(base_file_name)\n",
    "        self.path_indexed_sentences = '../data/indexed_sentences_{0}.json'.format(base_file_name)\n",
    "        self.path_word_embeddings = '../data/word_embeddings_{0}.npz'.format(base_file_name)\n",
    "        self.path_indexed_vocabulary = '../data/indexed_vocabulary_{0}.json'.format(base_file_name)\n",
    "        self.path_pos_indexed_sentences = '../data/pos_indexed_sentences_{0}.json'.format(base_file_name)\n",
    "        self.path_pos_indexed_vocabulary = '../data/pos_indexed_vocabulary_{0}.json'.format(base_file_name)\n",
    "        self.load_embeddings()\n",
    "    \n",
    "    def tokenize_sentence(self, raw_text):\n",
    "        clean_text = re.sub(r'[^\\w\\'\\.\\+\\-\\=\\*\\s\\^]','' ,raw_text)\n",
    "        sentences = sent_tokenize(clean_text)\n",
    "        sentences = [sent.replace('.','') for sent in sentences]\n",
    "        tokenized_sentences = [word_tokenize(sent) for sent in sentences]\n",
    "        return tokenized_sentences\n",
    "    \n",
    "    def tokenize_index_sentence(self, sentence):\n",
    "        word2index, index2word = get_vocabulary()\n",
    "        tokenized_sentence = self.tokenize_sentence(sentence)\n",
    "        indexed_sentences = [[word2index[word] for word in sent] for sent in tokenized_sentences]\n",
    "        return indexed_sentences\n",
    "        \n",
    "        \n",
    "    def tag_sentence(self, text):\n",
    "        tokenized_pos_sentences = find_POS(text)\n",
    "        return tokenized_pos_sentences\n",
    "    \n",
    "    def find_POS(self, text):\n",
    "        final_pos_sents = []\n",
    "        sentences = sent_tokenize(text)\n",
    "        for sent in sentences:\n",
    "            doc = nlp(sent)\n",
    "            pos = []\n",
    "            for word in doc:\n",
    "                pos.append(word.pos_)\n",
    "            final_pos_sents.append(pos)\n",
    "        return final_pos_sents \n",
    "\n",
    "        \n",
    "    def preprocessor(self, raw_text, size, window, min_count, workers):  \n",
    "        print(\"Finding tokenized sentences\")\n",
    "        tokenized_sentences = self.tokenize_sentence(raw_text)\n",
    "        print(\"Finding pos tokenized sentences\")\n",
    "        tokenized_pos_sentences = self.find_POS(raw_text)\n",
    "        print(\"POS Tokenization Complete\")\n",
    "        vocab = ['PUNCT','SYM','X','ADJ','VERB','CONJ','NUM','DET','ADV','PROPN','NOUN','PART','INTJ','CCONJ','SPACE','ADP','SCONJ','AUX', 'PRON']\n",
    "        vocab = dict((word, index) for index, word in enumerate(vocab))\n",
    "        with open(self.path_pos_indexed_vocabulary,'w') as outfile:\n",
    "            json.dump(vocab, outfile)\n",
    "        print(\"Before Categorizing\")    \n",
    "        categorical_pos_sentences = [to_categorical([vocab[word] for word in sent], num_classes = len(vocab)) for sent in tokenized_pos_sentences] \n",
    "        print(\"After Categorizing\")\n",
    "        with open(self.path_pos_indexed_sentences,'w') as outfile:\n",
    "            json.dump(categorical_pos_sentences, outfile) \n",
    "        print(\"Categorical File Created With Data\")    \n",
    "        # initialize word2vector model\n",
    "        model = Word2Vec(sentences = tokenized_sentences, size = size, window = window, min_count = min_count, workers = workers)\n",
    "        # finding out the vocabulary of raw_text with index     \n",
    "        vocab = dict([(k, v.index) for k, v in model.wv.vocab.items()])\n",
    "        # Storeing the vocab2index in a seperate file\n",
    "        with open(self.path_indexed_vocabulary,'w') as outfile:\n",
    "            json.dump(vocab,outfile)\n",
    "        # replacing each word of tokenized_sentences by coressponding vocabulary index\n",
    "        indexed_sentences = [[vocab[word] for word in sent] for sent in tokenized_sentences]\n",
    "        # storeing indexed_sentences(tokenized sentences) in indexed.json file\n",
    "        with open(self.path_indexed_sentences,'w') as outfile:\n",
    "            json.dump(indexed_sentences,outfile)\n",
    "        # finding gensim weights\n",
    "        weights = model.wv.syn0\n",
    "        # storeing weights in wordembeddings.npz file\n",
    "        np.save(open(self.path_word_embeddings, 'wb'), weights)\n",
    "        # dump the word2vec model in dump file word2vec_model\n",
    "        with open(self.path_word2vec_model, 'wb') as output:\n",
    "            pickle.dump(model, output)\n",
    "\n",
    "    def load_embeddings(self):\n",
    "        if not (os.path.isfile(self.path_word2vec_model) or \n",
    "                os.path.isfile(self.path_word_embeddings) or \n",
    "                os.path.isfile(self.path_indexed_sentences) or\n",
    "                os.path.isfile(self.path_indexed_vocabulary)):\n",
    "            dataset = get_squad_wiki_data()\n",
    "            raw_text = \"\"\n",
    "            passage_text = \"\" \n",
    "            question_text = \"\"\n",
    "            passage_text_list = []\n",
    "            question_text_list = []\n",
    "            for data in dataset:\n",
    "                passage_text_list.append(data['Paragraph'])\n",
    "                question_text_list.extend(data['Question'])                \n",
    "            passage_text = \"\".join(passage_text_list)\n",
    "            question_text = \".\".join(question_text_list)\n",
    "            raw_text = passage_text + \" \" + question_text\n",
    "            raw_text = raw_text.lower()\n",
    "            self.preprocessor(raw_text, self.size, self.window, self.min_count, self.workers)        \n",
    "\n",
    "    # Will load and return weights from the existing embedding.npz file\n",
    "    def get_weights(self):\n",
    "        weights = np.load(open(self.path_word_embeddings,'rb'))\n",
    "        return weights\n",
    "\n",
    "    # Returns word2Index and index2word\n",
    "    def get_vocabulary(self):\n",
    "        with open(self.path_indexed_vocabulary, 'r') as f:\n",
    "            data = json.load(f)\n",
    "        word2idx = data\n",
    "        idx2word = dict([(v, k) for k, v in data.items()])\n",
    "        return word2idx, idx2word\n",
    "\n",
    "    # Returns the pickled model\n",
    "    def get_model(self):\n",
    "        with open(self.path_word2vec_model,'rb') as output:\n",
    "            model = pickle.load(output)\n",
    "        return model\n",
    "\n",
    "    # Returns the tokenized sentences\n",
    "    def get_tokenized_indexed_sentences(self):\n",
    "        with open(self.path_indexed_sentences, 'r') as f:\n",
    "            tokenized_sentences = json.load(f)\n",
    "        return tokenized_sentences\n",
    "    \n",
    "    # Returns pos2Index and index2pos\n",
    "    def get_pos_vocabulary(self):\n",
    "        with open(self.path_pos_indexed_vocabulary, 'r') as f:\n",
    "            data = json.load(f)\n",
    "        pos2idx = data\n",
    "        idx2pos = dict([(v, k) for k, v in data.items()])\n",
    "        return pos2idx, idx2pos\n",
    "    \n",
    "    # Returns the tokenized pos sentences\n",
    "    def get_pos_tokenized_indexed_sentences(self):\n",
    "        with open(self.path_pos_indexed_sentences, 'r') as f:\n",
    "            tokenized_pos_sentences = json.load(f)\n",
    "        return tokenized_pos_sentences"
   ]
  },
  {
   "cell_type": "code",
   "execution_count": 3,
   "metadata": {},
   "outputs": [
    {
     "name": "stdout",
     "output_type": "stream",
     "text": [
      "Finding tokenized sentences\n",
      "Finding pos tokenized sentences\n"
     ]
    },
    {
     "ename": "KeyboardInterrupt",
     "evalue": "",
     "output_type": "error",
     "traceback": [
      "\u001b[0;31m---------------------------------------------------------------------------\u001b[0m",
      "\u001b[0;31mKeyboardInterrupt\u001b[0m                         Traceback (most recent call last)",
      "\u001b[0;32m<ipython-input-3-156dcb789c33>\u001b[0m in \u001b[0;36m<module>\u001b[0;34m()\u001b[0m\n\u001b[1;32m      1\u001b[0m \u001b[0mstart_date\u001b[0m \u001b[0;34m=\u001b[0m \u001b[0mdatetime\u001b[0m\u001b[0;34m.\u001b[0m\u001b[0mdatetime\u001b[0m\u001b[0;34m.\u001b[0m\u001b[0mnow\u001b[0m\u001b[0;34m(\u001b[0m\u001b[0;34m)\u001b[0m\u001b[0;34m\u001b[0m\u001b[0m\n\u001b[0;32m----> 2\u001b[0;31m \u001b[0me\u001b[0m \u001b[0;34m=\u001b[0m \u001b[0mEmbeddings\u001b[0m\u001b[0;34m(\u001b[0m\u001b[0;36m100\u001b[0m\u001b[0;34m,\u001b[0m \u001b[0;36m4\u001b[0m\u001b[0;34m,\u001b[0m \u001b[0;36m1\u001b[0m\u001b[0;34m,\u001b[0m \u001b[0;36m4\u001b[0m\u001b[0;34m)\u001b[0m\u001b[0;34m\u001b[0m\u001b[0m\n\u001b[0m\u001b[1;32m      3\u001b[0m \u001b[0mend_date\u001b[0m \u001b[0;34m=\u001b[0m \u001b[0mdatetime\u001b[0m\u001b[0;34m.\u001b[0m\u001b[0mdatetime\u001b[0m\u001b[0;34m.\u001b[0m\u001b[0mnow\u001b[0m\u001b[0;34m(\u001b[0m\u001b[0;34m)\u001b[0m\u001b[0;34m\u001b[0m\u001b[0m\n\u001b[1;32m      4\u001b[0m \u001b[0;31m#print(\"TOTAL TIME ELAPSED IN EMBEDDINGS\")\u001b[0m\u001b[0;34m\u001b[0m\u001b[0;34m\u001b[0m\u001b[0m\n\u001b[1;32m      5\u001b[0m \u001b[0;31m#print(((end_date - start_date).hour),\" HOURS \",((end_date - start_date).minute),\" MINUTES \",((end_date - start_date).second),\" SECONDS \")\u001b[0m\u001b[0;34m\u001b[0m\u001b[0;34m\u001b[0m\u001b[0m\n",
      "\u001b[0;32m<ipython-input-2-3e6b01431dc7>\u001b[0m in \u001b[0;36m__init__\u001b[0;34m(self, size, window, min_count, workers)\u001b[0m\n\u001b[1;32m     13\u001b[0m         \u001b[0mself\u001b[0m\u001b[0;34m.\u001b[0m\u001b[0mpath_pos_indexed_sentences\u001b[0m \u001b[0;34m=\u001b[0m \u001b[0;34m'../data/pos_indexed_sentences_{0}.json'\u001b[0m\u001b[0;34m.\u001b[0m\u001b[0mformat\u001b[0m\u001b[0;34m(\u001b[0m\u001b[0mbase_file_name\u001b[0m\u001b[0;34m)\u001b[0m\u001b[0;34m\u001b[0m\u001b[0m\n\u001b[1;32m     14\u001b[0m         \u001b[0mself\u001b[0m\u001b[0;34m.\u001b[0m\u001b[0mpath_pos_indexed_vocabulary\u001b[0m \u001b[0;34m=\u001b[0m \u001b[0;34m'../data/pos_indexed_vocabulary_{0}.json'\u001b[0m\u001b[0;34m.\u001b[0m\u001b[0mformat\u001b[0m\u001b[0;34m(\u001b[0m\u001b[0mbase_file_name\u001b[0m\u001b[0;34m)\u001b[0m\u001b[0;34m\u001b[0m\u001b[0m\n\u001b[0;32m---> 15\u001b[0;31m         \u001b[0mself\u001b[0m\u001b[0;34m.\u001b[0m\u001b[0mload_embeddings\u001b[0m\u001b[0;34m(\u001b[0m\u001b[0;34m)\u001b[0m\u001b[0;34m\u001b[0m\u001b[0m\n\u001b[0m\u001b[1;32m     16\u001b[0m \u001b[0;34m\u001b[0m\u001b[0m\n\u001b[1;32m     17\u001b[0m     \u001b[0;32mdef\u001b[0m \u001b[0mtokenize_sentence\u001b[0m\u001b[0;34m(\u001b[0m\u001b[0mself\u001b[0m\u001b[0;34m,\u001b[0m \u001b[0mraw_text\u001b[0m\u001b[0;34m)\u001b[0m\u001b[0;34m:\u001b[0m\u001b[0;34m\u001b[0m\u001b[0m\n",
      "\u001b[0;32m<ipython-input-2-3e6b01431dc7>\u001b[0m in \u001b[0;36mload_embeddings\u001b[0;34m(self)\u001b[0m\n\u001b[1;32m     99\u001b[0m             \u001b[0mraw_text\u001b[0m \u001b[0;34m=\u001b[0m \u001b[0mpassage_text\u001b[0m \u001b[0;34m+\u001b[0m \u001b[0;34m\" \"\u001b[0m \u001b[0;34m+\u001b[0m \u001b[0mquestion_text\u001b[0m\u001b[0;34m\u001b[0m\u001b[0m\n\u001b[1;32m    100\u001b[0m             \u001b[0mraw_text\u001b[0m \u001b[0;34m=\u001b[0m \u001b[0mraw_text\u001b[0m\u001b[0;34m.\u001b[0m\u001b[0mlower\u001b[0m\u001b[0;34m(\u001b[0m\u001b[0;34m)\u001b[0m\u001b[0;34m\u001b[0m\u001b[0m\n\u001b[0;32m--> 101\u001b[0;31m             \u001b[0mself\u001b[0m\u001b[0;34m.\u001b[0m\u001b[0mpreprocessor\u001b[0m\u001b[0;34m(\u001b[0m\u001b[0mraw_text\u001b[0m\u001b[0;34m,\u001b[0m \u001b[0mself\u001b[0m\u001b[0;34m.\u001b[0m\u001b[0msize\u001b[0m\u001b[0;34m,\u001b[0m \u001b[0mself\u001b[0m\u001b[0;34m.\u001b[0m\u001b[0mwindow\u001b[0m\u001b[0;34m,\u001b[0m \u001b[0mself\u001b[0m\u001b[0;34m.\u001b[0m\u001b[0mmin_count\u001b[0m\u001b[0;34m,\u001b[0m \u001b[0mself\u001b[0m\u001b[0;34m.\u001b[0m\u001b[0mworkers\u001b[0m\u001b[0;34m)\u001b[0m\u001b[0;34m\u001b[0m\u001b[0m\n\u001b[0m\u001b[1;32m    102\u001b[0m \u001b[0;34m\u001b[0m\u001b[0m\n\u001b[1;32m    103\u001b[0m     \u001b[0;31m# Will load and return weights from the existing embedding.npz file\u001b[0m\u001b[0;34m\u001b[0m\u001b[0;34m\u001b[0m\u001b[0m\n",
      "\u001b[0;32m<ipython-input-2-3e6b01431dc7>\u001b[0m in \u001b[0;36mpreprocessor\u001b[0;34m(self, raw_text, size, window, min_count, workers)\u001b[0m\n\u001b[1;32m     49\u001b[0m         \u001b[0mtokenized_sentences\u001b[0m \u001b[0;34m=\u001b[0m \u001b[0mself\u001b[0m\u001b[0;34m.\u001b[0m\u001b[0mtokenize_sentence\u001b[0m\u001b[0;34m(\u001b[0m\u001b[0mraw_text\u001b[0m\u001b[0;34m)\u001b[0m\u001b[0;34m\u001b[0m\u001b[0m\n\u001b[1;32m     50\u001b[0m         \u001b[0mprint\u001b[0m\u001b[0;34m(\u001b[0m\u001b[0;34m\"Finding pos tokenized sentences\"\u001b[0m\u001b[0;34m)\u001b[0m\u001b[0;34m\u001b[0m\u001b[0m\n\u001b[0;32m---> 51\u001b[0;31m         \u001b[0mtokenized_pos_sentences\u001b[0m \u001b[0;34m=\u001b[0m \u001b[0mself\u001b[0m\u001b[0;34m.\u001b[0m\u001b[0mfind_POS\u001b[0m\u001b[0;34m(\u001b[0m\u001b[0mraw_text\u001b[0m\u001b[0;34m)\u001b[0m\u001b[0;34m\u001b[0m\u001b[0m\n\u001b[0m\u001b[1;32m     52\u001b[0m         \u001b[0mprint\u001b[0m\u001b[0;34m(\u001b[0m\u001b[0;34m\"POS Tokenization Complete\"\u001b[0m\u001b[0;34m)\u001b[0m\u001b[0;34m\u001b[0m\u001b[0m\n\u001b[1;32m     53\u001b[0m         \u001b[0mvocab\u001b[0m \u001b[0;34m=\u001b[0m \u001b[0;34m[\u001b[0m\u001b[0;34m'PUNCT'\u001b[0m\u001b[0;34m,\u001b[0m\u001b[0;34m'SYM'\u001b[0m\u001b[0;34m,\u001b[0m\u001b[0;34m'X'\u001b[0m\u001b[0;34m,\u001b[0m\u001b[0;34m'ADJ'\u001b[0m\u001b[0;34m,\u001b[0m\u001b[0;34m'VERB'\u001b[0m\u001b[0;34m,\u001b[0m\u001b[0;34m'CONJ'\u001b[0m\u001b[0;34m,\u001b[0m\u001b[0;34m'NUM'\u001b[0m\u001b[0;34m,\u001b[0m\u001b[0;34m'DET'\u001b[0m\u001b[0;34m,\u001b[0m\u001b[0;34m'ADV'\u001b[0m\u001b[0;34m,\u001b[0m\u001b[0;34m'PROPN'\u001b[0m\u001b[0;34m,\u001b[0m\u001b[0;34m'NOUN'\u001b[0m\u001b[0;34m,\u001b[0m\u001b[0;34m'PART'\u001b[0m\u001b[0;34m,\u001b[0m\u001b[0;34m'INTJ'\u001b[0m\u001b[0;34m,\u001b[0m\u001b[0;34m'CCONJ'\u001b[0m\u001b[0;34m,\u001b[0m\u001b[0;34m'SPACE'\u001b[0m\u001b[0;34m,\u001b[0m\u001b[0;34m'ADP'\u001b[0m\u001b[0;34m,\u001b[0m\u001b[0;34m'SCONJ'\u001b[0m\u001b[0;34m,\u001b[0m\u001b[0;34m'AUX'\u001b[0m\u001b[0;34m,\u001b[0m \u001b[0;34m'PRON'\u001b[0m\u001b[0;34m]\u001b[0m\u001b[0;34m\u001b[0m\u001b[0m\n",
      "\u001b[0;32m<ipython-input-2-3e6b01431dc7>\u001b[0m in \u001b[0;36mfind_POS\u001b[0;34m(self, text)\u001b[0m\n\u001b[1;32m     37\u001b[0m         \u001b[0msentences\u001b[0m \u001b[0;34m=\u001b[0m \u001b[0msent_tokenize\u001b[0m\u001b[0;34m(\u001b[0m\u001b[0mtext\u001b[0m\u001b[0;34m)\u001b[0m\u001b[0;34m\u001b[0m\u001b[0m\n\u001b[1;32m     38\u001b[0m         \u001b[0;32mfor\u001b[0m \u001b[0msent\u001b[0m \u001b[0;32min\u001b[0m \u001b[0msentences\u001b[0m\u001b[0;34m:\u001b[0m\u001b[0;34m\u001b[0m\u001b[0m\n\u001b[0;32m---> 39\u001b[0;31m             \u001b[0mdoc\u001b[0m \u001b[0;34m=\u001b[0m \u001b[0mnlp\u001b[0m\u001b[0;34m(\u001b[0m\u001b[0msent\u001b[0m\u001b[0;34m)\u001b[0m\u001b[0;34m\u001b[0m\u001b[0m\n\u001b[0m\u001b[1;32m     40\u001b[0m             \u001b[0mpos\u001b[0m \u001b[0;34m=\u001b[0m \u001b[0;34m[\u001b[0m\u001b[0;34m]\u001b[0m\u001b[0;34m\u001b[0m\u001b[0m\n\u001b[1;32m     41\u001b[0m             \u001b[0;32mfor\u001b[0m \u001b[0mword\u001b[0m \u001b[0;32min\u001b[0m \u001b[0mdoc\u001b[0m\u001b[0;34m:\u001b[0m\u001b[0;34m\u001b[0m\u001b[0m\n",
      "\u001b[0;32m/home/user/venvs/autofill/lib/python3.5/site-packages/spacy/language.py\u001b[0m in \u001b[0;36m__call__\u001b[0;34m(self, text, tag, parse, entity)\u001b[0m\n\u001b[1;32m    327\u001b[0m         \u001b[0;32mfor\u001b[0m \u001b[0mproc\u001b[0m \u001b[0;32min\u001b[0m \u001b[0mself\u001b[0m\u001b[0;34m.\u001b[0m\u001b[0mpipeline\u001b[0m\u001b[0;34m:\u001b[0m\u001b[0;34m\u001b[0m\u001b[0m\n\u001b[1;32m    328\u001b[0m             \u001b[0;32mif\u001b[0m \u001b[0mproc\u001b[0m \u001b[0;32mand\u001b[0m \u001b[0;32mnot\u001b[0m \u001b[0mskip\u001b[0m\u001b[0;34m.\u001b[0m\u001b[0mget\u001b[0m\u001b[0;34m(\u001b[0m\u001b[0mproc\u001b[0m\u001b[0;34m)\u001b[0m\u001b[0;34m:\u001b[0m\u001b[0;34m\u001b[0m\u001b[0m\n\u001b[0;32m--> 329\u001b[0;31m                 \u001b[0mproc\u001b[0m\u001b[0;34m(\u001b[0m\u001b[0mdoc\u001b[0m\u001b[0;34m)\u001b[0m\u001b[0;34m\u001b[0m\u001b[0m\n\u001b[0m\u001b[1;32m    330\u001b[0m         \u001b[0;32mreturn\u001b[0m \u001b[0mdoc\u001b[0m\u001b[0;34m\u001b[0m\u001b[0m\n\u001b[1;32m    331\u001b[0m \u001b[0;34m\u001b[0m\u001b[0m\n",
      "\u001b[0;32m/home/user/venvs/autofill/lib/python3.5/site-packages/spacy/syntax/parser.pyx\u001b[0m in \u001b[0;36mspacy.syntax.parser.Parser.__call__ (spacy/syntax/parser.cpp:7941)\u001b[0;34m()\u001b[0m\n",
      "\u001b[0;31mKeyboardInterrupt\u001b[0m: "
     ]
    }
   ],
   "source": [
    "start_date = datetime.datetime.now()\n",
    "e = Embeddings(100, 4, 1, 4)\n",
    "end_date = datetime.datetime.now()\n",
    "#print(\"TOTAL TIME ELAPSED IN EMBEDDINGS\")\n",
    "#print(((end_date - start_date).hour),\" HOURS \",((end_date - start_date).minute),\" MINUTES \",((end_date - start_date).second),\" SECONDS \")"
   ]
  },
  {
   "cell_type": "code",
   "execution_count": null,
   "metadata": {
    "collapsed": true
   },
   "outputs": [],
   "source": [
    "#e.get_model()"
   ]
  },
  {
   "cell_type": "code",
   "execution_count": null,
   "metadata": {
    "collapsed": true
   },
   "outputs": [],
   "source": [
    "#e.get_weights()"
   ]
  },
  {
   "cell_type": "code",
   "execution_count": null,
   "metadata": {
    "collapsed": true
   },
   "outputs": [],
   "source": [
    "#e.get_vocabulary()"
   ]
  },
  {
   "cell_type": "code",
   "execution_count": null,
   "metadata": {
    "collapsed": true
   },
   "outputs": [],
   "source": [
    "#e.get_tokenized_indexed_sentences()"
   ]
  },
  {
   "cell_type": "code",
   "execution_count": null,
   "metadata": {
    "collapsed": true
   },
   "outputs": [],
   "source": [
    "#vocab = ['PUNCT','SYM','X','ADJ','VERB','CONJ','NUM','DET','ADV','PROPN','NOUN','PART','INTJ','CCONJ','','']"
   ]
  }
 ],
 "metadata": {
  "kernelspec": {
   "display_name": "Python 3",
   "language": "python",
   "name": "python3"
  },
  "language_info": {
   "codemirror_mode": {
    "name": "ipython",
    "version": 3
   },
   "file_extension": ".py",
   "mimetype": "text/x-python",
   "name": "python",
   "nbconvert_exporter": "python",
   "pygments_lexer": "ipython3",
   "version": "3.5.2"
  }
 },
 "nbformat": 4,
 "nbformat_minor": 2
}
