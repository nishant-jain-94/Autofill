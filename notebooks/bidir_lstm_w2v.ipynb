{
 "cells": [
  {
   "cell_type": "markdown",
   "metadata": {},
   "source": [
    "### importing require packages"
   ]
  },
  {
   "cell_type": "code",
   "execution_count": 1,
   "metadata": {},
   "outputs": [
    {
     "name": "stderr",
     "output_type": "stream",
     "text": [
      "Using TensorFlow backend.\n"
     ]
    }
   ],
   "source": [
    "from __future__ import print_function\n",
    "\n",
    "import json\n",
    "import os\n",
    "import numpy as np\n",
    "import sys\n",
    "\n",
    "from gensim.models import Word2Vec\n",
    "from gensim.utils import simple_preprocess\n",
    "from keras.engine import Input\n",
    "from keras.layers import Embedding, merge\n",
    "from keras.models import Model\n",
    "from keras.models import Sequential\n",
    "from keras.layers import Dense\n",
    "from keras.layers import Dropout\n",
    "from keras.layers import LSTM, Bidirectional\n",
    "\n",
    "from nltk.tokenize import word_tokenize"
   ]
  },
  {
   "cell_type": "markdown",
   "metadata": {},
   "source": [
    "### tokenizer function"
   ]
  },
  {
   "cell_type": "code",
   "execution_count": 2,
   "metadata": {
    "collapsed": true
   },
   "outputs": [],
   "source": [
    "# tokenizer: can change this as needed\n",
    "# takes input one sentence at a time and returns individual words list\n",
    "tokenize = lambda x: word_tokenize(x)"
   ]
  },
  {
   "cell_type": "markdown",
   "metadata": {},
   "source": [
    "### create embeding and store weights for whole vocab"
   ]
  },
  {
   "cell_type": "code",
   "execution_count": 3,
   "metadata": {
    "collapsed": true
   },
   "outputs": [],
   "source": [
    "def create_embeddings(data_dir,\n",
    "                      embeddings_path='lstm2-w2vec/embeddings.npz',\n",
    "                      vocab_path='lstm2-w2vec/vocab.json',\n",
    "                      **params):\n",
    "    \"\"\"\n",
    "    Generate embeddings from a batch of text\n",
    "    :param embeddings_path: where to save the embeddings\n",
    "    :param vocab_path: where to save the word-index map\n",
    "    \"\"\"\n",
    "\n",
    "    class SentenceGenerator(object):\n",
    "        \"\"\"\n",
    "        Say we want to further preprocess the words from the files — convert to unicode, lowercase, \n",
    "        remove numbers, extract named entities… All of this can be done inside the MySentences iterator \n",
    "        and word2vec doesn’t need to know. All that is required is that the input yields one \n",
    "        sentence (list of utf8 words) after another\n",
    "        \n",
    "        \"\"\"\n",
    "        \n",
    "        def __init__(self, dirname):\n",
    "            self.dirname = os.path.join(os.getcwd(), dirname)\n",
    "        \n",
    "        ## iterator to yield tokenized format of one sentence at  a time\n",
    "        def __iter__(self):\n",
    "            for fname in os.listdir(self.dirname):\n",
    "                for line in open(os.path.join(self.dirname, fname)):\n",
    "                    yield tokenize(line.lower())\n",
    "\n",
    "    \"\"\"\n",
    "    Gensim only requires that the input must provide sentences sequentially, when iterated over. \n",
    "    No need to keep everything in RAM: we can provide one sentence, process it, \n",
    "    forget it, load another sentence    \n",
    "    \"\"\"\n",
    "    ## provide data directory and it will take sentences one at a time from all the files in directory\n",
    "        \n",
    "    sentences = SentenceGenerator(data_dir)\n",
    "    model = Word2Vec(sentences, **params)\n",
    "    \n",
    "    weights = model.wv.syn0\n",
    "    \n",
    "    ## storing weights to be later used in keras embedding layer\n",
    "    np.save(open(embeddings_path, 'wb'), weights)\n",
    "    \n",
    "    ## generating word2index\n",
    "    vocab = dict([(k, v.index) for k, v in model.wv.vocab.items()])\n",
    "    with open(vocab_path, 'w') as f:\n",
    "        f.write(json.dumps(vocab))\n",
    "    return model,weights"
   ]
  },
  {
   "cell_type": "code",
   "execution_count": 4,
   "metadata": {
    "collapsed": true
   },
   "outputs": [],
   "source": [
    "def load_vocab(vocab_path='lstm2-w2vec/vocab.json'):\n",
    "    \"\"\"\n",
    "    Load word -> index and index -> word mappings\n",
    "    :param vocab_path: where the word-index map is saved\n",
    "    :return: word2idx, idx2word\n",
    "    \"\"\"\n",
    "\n",
    "    with open(vocab_path, 'r') as f:\n",
    "        data = json.loads(f.read())\n",
    "    word2idx = data\n",
    "    idx2word = dict([(v, k) for k, v in data.items()])\n",
    "    return word2idx, idx2word"
   ]
  },
  {
   "cell_type": "code",
   "execution_count": 5,
   "metadata": {
    "collapsed": true
   },
   "outputs": [],
   "source": [
    "def word2vec_embedding_layer(embeddings_path='lstm2-w2vec/embeddings.npz'):\n",
    "    \"\"\"\n",
    "    Generate an embedding layer word2vec embeddings\n",
    "    :param embeddings_path: where the embeddings are saved (as a numpy file)\n",
    "    :return: the generated embedding layer\n",
    "    \"\"\"\n",
    "    \n",
    "    weights = np.load(open(embeddings_path, 'rb'))\n",
    "    layer = Embedding(input_dim=weights.shape[0],\n",
    "                      output_dim=weights.shape[1],\n",
    "                      #input_length=100,\n",
    "                      weights=[weights])\n",
    "    return layer"
   ]
  },
  {
   "cell_type": "code",
   "execution_count": 6,
   "metadata": {
    "collapsed": true,
    "scrolled": false
   },
   "outputs": [],
   "source": [
    "# specify embeddings in this environment variable\n",
    "data_path = 'dumy_text'\n",
    "\n",
    "# variable arguments are passed to gensim's word2vec model\n",
    "w2v_model, weigths_ = create_embeddings(data_path, size=100, min_count=1,\n",
    "                  window=5, sg=1, iter=25)"
   ]
  },
  {
   "cell_type": "code",
   "execution_count": 7,
   "metadata": {
    "collapsed": true
   },
   "outputs": [],
   "source": [
    "word2idx, idx2word = load_vocab()"
   ]
  },
  {
   "cell_type": "code",
   "execution_count": 8,
   "metadata": {
    "collapsed": true
   },
   "outputs": [],
   "source": [
    "vocab_size = len(word2idx.keys())\n",
    "epoch = 1\n",
    "batch_size = 32"
   ]
  },
  {
   "cell_type": "code",
   "execution_count": 9,
   "metadata": {
    "collapsed": true
   },
   "outputs": [],
   "source": [
    "filename = \"/home/user/Documents/RNN/alice_edited.txt\"\n",
    "input_txt = open(filename).read()\n",
    "input_txt = input_txt.lower()"
   ]
  },
  {
   "cell_type": "code",
   "execution_count": 10,
   "metadata": {
    "collapsed": true
   },
   "outputs": [],
   "source": [
    "tt = word_tokenize(input_txt)"
   ]
  },
  {
   "cell_type": "code",
   "execution_count": 11,
   "metadata": {},
   "outputs": [
    {
     "name": "stdout",
     "output_type": "stream",
     "text": [
      "Dataset size :  3561\n"
     ]
    }
   ],
   "source": [
    "x=[]\n",
    "y=[]\n",
    "window = 10\n",
    "n_words = vocab_size\n",
    "# generating dataset\n",
    "for i in range(0, n_words - window, 1):\n",
    "    seq_in = tt[i:i + window]\n",
    "    seq_out = tt[i + window]\n",
    "    x.append([word2idx[word] for word in seq_in])\n",
    "    y.append(weigths_[word2idx[seq_out]])\n",
    "n_patterns = len(x)\n",
    "print (\"Dataset size : \", n_patterns)"
   ]
  },
  {
   "cell_type": "code",
   "execution_count": 12,
   "metadata": {},
   "outputs": [
    {
     "data": {
      "text/plain": [
       "100"
      ]
     },
     "execution_count": 12,
     "metadata": {},
     "output_type": "execute_result"
    }
   ],
   "source": [
    "len(y[0])"
   ]
  },
  {
   "cell_type": "code",
   "execution_count": 13,
   "metadata": {
    "collapsed": true
   },
   "outputs": [],
   "source": [
    "y = np.array(y)"
   ]
  },
  {
   "cell_type": "code",
   "execution_count": 14,
   "metadata": {
    "collapsed": true
   },
   "outputs": [],
   "source": [
    "x = np.array(x)"
   ]
  },
  {
   "cell_type": "code",
   "execution_count": 33,
   "metadata": {},
   "outputs": [
    {
     "name": "stdout",
     "output_type": "stream",
     "text": [
      "_________________________________________________________________\n",
      "Layer (type)                 Output Shape              Param #   \n",
      "=================================================================\n",
      "embedding_2 (Embedding)      (None, None, 100)         357100    \n",
      "_________________________________________________________________\n",
      "bidirectional_3 (Bidirection (None, None, 1024)        2510848   \n",
      "_________________________________________________________________\n",
      "bidirectional_4 (Bidirection (None, 600)               3180000   \n",
      "_________________________________________________________________\n",
      "dense_2 (Dense)              (None, 100)               60100     \n",
      "=================================================================\n",
      "Total params: 6,108,048\n",
      "Trainable params: 6,108,048\n",
      "Non-trainable params: 0\n",
      "_________________________________________________________________\n"
     ]
    }
   ],
   "source": [
    "##layer = Embedding(input_dim=weights.shape[0],output_dim=weights.shape[1],weights=[weights])\n",
    "model = Sequential()\n",
    "model.add(word2vec_embedding_layer())\n",
    "model.add(Bidirectional(LSTM(1024,return_sequences=True)))\n",
    "#model.add(Dropout(0.2))\n",
    "model.add(Bidirectional(LSTM(600)))\n",
    "#model.add(Dropout(0.2))\n",
    "\n",
    "model.add(Dense(100, activation='relu'))\n",
    "model.compile(loss='mse', optimizer='adam',metrics=['accuracy'])\n",
    "model.summary()"
   ]
  },
  {
   "cell_type": "code",
   "execution_count": 65,
   "metadata": {
    "collapsed": true
   },
   "outputs": [
    {
     "name": "stdout",
     "output_type": "stream",
     "text": [
      "Train on 2848 samples, validate on 713 samples\n",
      "Epoch 1/59\n",
      "2848/2848 [==============================] - 51s - loss: 0.0411 - acc: 0.4041 - val_loss: 0.0587 - val_acc: 0.1122\n",
      "Epoch 2/59\n",
      "2848/2848 [==============================] - 51s - loss: 0.0407 - acc: 0.4105 - val_loss: 0.0583 - val_acc: 0.1164\n",
      "Epoch 3/59\n",
      "2848/2848 [==============================] - 51s - loss: 0.0401 - acc: 0.4442 - val_loss: 0.0592 - val_acc: 0.1206\n",
      "Epoch 4/59\n",
      "2848/2848 [==============================] - 51s - loss: 0.0394 - acc: 0.4417 - val_loss: 0.0585 - val_acc: 0.1234\n",
      "Epoch 5/59\n",
      "2848/2848 [==============================] - 51s - loss: 0.0388 - acc: 0.4835 - val_loss: 0.0602 - val_acc: 0.1192\n",
      "Epoch 6/59\n",
      "2848/2848 [==============================] - 51s - loss: 0.0383 - acc: 0.4853 - val_loss: 0.0598 - val_acc: 0.1136\n",
      "Epoch 7/59\n",
      "2848/2848 [==============================] - 56s - loss: 0.0376 - acc: 0.5158 - val_loss: 0.0601 - val_acc: 0.1248\n",
      "Epoch 8/59\n",
      "2848/2848 [==============================] - 54s - loss: 0.0371 - acc: 0.5330 - val_loss: 0.0603 - val_acc: 0.1094\n",
      "Epoch 9/59\n",
      "2848/2848 [==============================] - 58s - loss: 0.0365 - acc: 0.5551 - val_loss: 0.0600 - val_acc: 0.1431\n",
      "Epoch 10/59\n",
      "2848/2848 [==============================] - 58s - loss: 0.0361 - acc: 0.5727 - val_loss: 0.0603 - val_acc: 0.1388\n",
      "Epoch 11/59\n",
      "2848/2848 [==============================] - 51s - loss: 0.0357 - acc: 0.5994 - val_loss: 0.0603 - val_acc: 0.1220\n",
      "Epoch 12/59\n",
      "2848/2848 [==============================] - 54s - loss: 0.0353 - acc: 0.6243 - val_loss: 0.0605 - val_acc: 0.1248\n",
      "Epoch 13/59\n",
      "2848/2848 [==============================] - 52s - loss: 0.0350 - acc: 0.6517 - val_loss: 0.0598 - val_acc: 0.1248\n",
      "Epoch 14/59\n",
      "2848/2848 [==============================] - 51s - loss: 0.0348 - acc: 0.6675 - val_loss: 0.0603 - val_acc: 0.1136\n",
      "Epoch 15/59\n",
      "2848/2848 [==============================] - 51s - loss: 0.0345 - acc: 0.6787 - val_loss: 0.0598 - val_acc: 0.1192\n",
      "Epoch 16/59\n",
      "2848/2848 [==============================] - 52s - loss: 0.0343 - acc: 0.7005 - val_loss: 0.0603 - val_acc: 0.1262\n",
      "Epoch 17/59\n",
      "2848/2848 [==============================] - 51s - loss: 0.0342 - acc: 0.7166 - val_loss: 0.0600 - val_acc: 0.1332\n",
      "Epoch 18/59\n",
      "2848/2848 [==============================] - 52s - loss: 0.0341 - acc: 0.7230 - val_loss: 0.0599 - val_acc: 0.1080\n",
      "Epoch 19/59\n",
      "2848/2848 [==============================] - 52s - loss: 0.0340 - acc: 0.7549 - val_loss: 0.0605 - val_acc: 0.1206\n",
      "Epoch 20/59\n",
      "2848/2848 [==============================] - 52s - loss: 0.0339 - acc: 0.7521 - val_loss: 0.0600 - val_acc: 0.1290\n",
      "Epoch 21/59\n",
      "2848/2848 [==============================] - 52s - loss: 0.0338 - acc: 0.7556 - val_loss: 0.0600 - val_acc: 0.1178\n",
      "Epoch 22/59\n",
      "2848/2848 [==============================] - 57s - loss: 0.0337 - acc: 0.7739 - val_loss: 0.0602 - val_acc: 0.1220\n",
      "Epoch 23/59\n",
      "2848/2848 [==============================] - 52s - loss: 0.0336 - acc: 0.7834 - val_loss: 0.0597 - val_acc: 0.1178\n",
      "Epoch 24/59\n",
      "2848/2848 [==============================] - 51s - loss: 0.0336 - acc: 0.7967 - val_loss: 0.0599 - val_acc: 0.1122\n",
      "Epoch 25/59\n",
      "2848/2848 [==============================] - 54s - loss: 0.0335 - acc: 0.7995 - val_loss: 0.0599 - val_acc: 0.1136\n",
      "Epoch 26/59\n",
      "2848/2848 [==============================] - 54s - loss: 0.0335 - acc: 0.8100 - val_loss: 0.0597 - val_acc: 0.1276\n",
      "Epoch 27/59\n",
      "2848/2848 [==============================] - 52s - loss: 0.0334 - acc: 0.8255 - val_loss: 0.0597 - val_acc: 0.1220\n",
      "Epoch 28/59\n",
      "2848/2848 [==============================] - 52s - loss: 0.0334 - acc: 0.8304 - val_loss: 0.0596 - val_acc: 0.1220\n",
      "Epoch 29/59\n",
      "2848/2848 [==============================] - 53s - loss: 0.0334 - acc: 0.8329 - val_loss: 0.0596 - val_acc: 0.1164\n",
      "Epoch 30/59\n",
      "2848/2848 [==============================] - 52s - loss: 0.0333 - acc: 0.8279 - val_loss: 0.0596 - val_acc: 0.1206\n",
      "Epoch 31/59\n",
      "2848/2848 [==============================] - 51s - loss: 0.0333 - acc: 0.8469 - val_loss: 0.0597 - val_acc: 0.1220\n",
      "Epoch 32/59\n",
      "2848/2848 [==============================] - 52s - loss: 0.0333 - acc: 0.8448 - val_loss: 0.0593 - val_acc: 0.1164\n",
      "Epoch 33/59\n",
      "2848/2848 [==============================] - 80s - loss: 0.0333 - acc: 0.8459 - val_loss: 0.0594 - val_acc: 0.1262\n",
      "Epoch 34/59\n",
      "2848/2848 [==============================] - 52s - loss: 0.0333 - acc: 0.8434 - val_loss: 0.0598 - val_acc: 0.1206\n",
      "Epoch 35/59\n",
      "2848/2848 [==============================] - 52s - loss: 0.0332 - acc: 0.8392 - val_loss: 0.0593 - val_acc: 0.1136\n",
      "Epoch 36/59\n",
      "2848/2848 [==============================] - 51s - loss: 0.0332 - acc: 0.8508 - val_loss: 0.0595 - val_acc: 0.1234\n",
      "Epoch 37/59\n",
      "2848/2848 [==============================] - 51s - loss: 0.0332 - acc: 0.8504 - val_loss: 0.0591 - val_acc: 0.1234\n",
      "Epoch 38/59\n",
      "2848/2848 [==============================] - 52s - loss: 0.0332 - acc: 0.8588 - val_loss: 0.0592 - val_acc: 0.1262\n",
      "Epoch 39/59\n",
      "2848/2848 [==============================] - 51s - loss: 0.0332 - acc: 0.8543 - val_loss: 0.0594 - val_acc: 0.1248\n",
      "Epoch 40/59\n",
      "2848/2848 [==============================] - 51s - loss: 0.0332 - acc: 0.8680 - val_loss: 0.0591 - val_acc: 0.1206\n",
      "Epoch 41/59\n",
      "2848/2848 [==============================] - 233s - loss: 0.0332 - acc: 0.8610 - val_loss: 0.0592 - val_acc: 0.1262\n",
      "Epoch 42/59\n",
      "2848/2848 [==============================] - 120s - loss: 0.0332 - acc: 0.8648 - val_loss: 0.0589 - val_acc: 0.1262\n",
      "Epoch 43/59\n",
      "2848/2848 [==============================] - 54s - loss: 0.0331 - acc: 0.8617 - val_loss: 0.0591 - val_acc: 0.1403\n",
      "Epoch 44/59\n",
      "2848/2848 [==============================] - 55s - loss: 0.0331 - acc: 0.8655 - val_loss: 0.0590 - val_acc: 0.1234\n",
      "Epoch 45/59\n",
      "2848/2848 [==============================] - 52s - loss: 0.0331 - acc: 0.8743 - val_loss: 0.0589 - val_acc: 0.1234\n",
      "Epoch 46/59\n",
      "2848/2848 [==============================] - 51s - loss: 0.0331 - acc: 0.8757 - val_loss: 0.0590 - val_acc: 0.1262\n",
      "Epoch 47/59\n",
      "2848/2848 [==============================] - 51s - loss: 0.0331 - acc: 0.8746 - val_loss: 0.0591 - val_acc: 0.1290\n",
      "Epoch 48/59\n",
      "2848/2848 [==============================] - 51s - loss: 0.0331 - acc: 0.8761 - val_loss: 0.0589 - val_acc: 0.1304\n",
      "Epoch 49/59\n",
      "2848/2848 [==============================] - 51s - loss: 0.0331 - acc: 0.8722 - val_loss: 0.0588 - val_acc: 0.1276\n",
      "Epoch 50/59\n",
      "2848/2848 [==============================] - 51s - loss: 0.0331 - acc: 0.8771 - val_loss: 0.0588 - val_acc: 0.1318\n",
      "Epoch 51/59\n",
      "2848/2848 [==============================] - 70s - loss: 0.0331 - acc: 0.8834 - val_loss: 0.0589 - val_acc: 0.1276\n",
      "Epoch 52/59\n",
      "2848/2848 [==============================] - 53s - loss: 0.0331 - acc: 0.8876 - val_loss: 0.0590 - val_acc: 0.1304\n",
      "Epoch 53/59\n",
      "2848/2848 [==============================] - 52s - loss: 0.0331 - acc: 0.8690 - val_loss: 0.0588 - val_acc: 0.1220\n",
      "Epoch 54/59\n",
      "2848/2848 [==============================] - 51s - loss: 0.0331 - acc: 0.8690 - val_loss: 0.0586 - val_acc: 0.1234\n",
      "Epoch 55/59\n",
      "2848/2848 [==============================] - 51s - loss: 0.0331 - acc: 0.8666 - val_loss: 0.0587 - val_acc: 0.1262\n",
      "Epoch 56/59\n",
      "2848/2848 [==============================] - 51s - loss: 0.0331 - acc: 0.8662 - val_loss: 0.0587 - val_acc: 0.1220\n",
      "Epoch 57/59\n",
      "2848/2848 [==============================] - 51s - loss: 0.0331 - acc: 0.8669 - val_loss: 0.0586 - val_acc: 0.1220\n",
      "Epoch 58/59\n",
      "2848/2848 [==============================] - 51s - loss: 0.0330 - acc: 0.8715 - val_loss: 0.0586 - val_acc: 0.1248\n",
      "Epoch 59/59\n",
      "2848/2848 [==============================] - 51s - loss: 0.0330 - acc: 0.8771 - val_loss: 0.0585 - val_acc: 0.1276\n"
     ]
    },
    {
     "data": {
      "text/plain": [
       "<keras.callbacks.History at 0x7f26fbd773c8>"
      ]
     },
     "execution_count": 65,
     "metadata": {},
     "output_type": "execute_result"
    }
   ],
   "source": [
    "model.fit(x,y,batch_size=64,epochs=59,verbose=1,validation_split=0.2)"
   ]
  },
  {
   "cell_type": "code",
   "execution_count": null,
   "metadata": {
    "collapsed": true
   },
   "outputs": [],
   "source": []
  },
  {
   "cell_type": "code",
   "execution_count": 66,
   "metadata": {
    "collapsed": true
   },
   "outputs": [],
   "source": [
    "#np.array([x[2]]).shape"
   ]
  },
  {
   "cell_type": "code",
   "execution_count": 83,
   "metadata": {
    "collapsed": true
   },
   "outputs": [],
   "source": [
    "t1 = model.predict(np.array([x[79]]))"
   ]
  },
  {
   "cell_type": "code",
   "execution_count": 84,
   "metadata": {},
   "outputs": [
    {
     "data": {
      "text/plain": [
       "(1, 100)"
      ]
     },
     "execution_count": 84,
     "metadata": {},
     "output_type": "execute_result"
    }
   ],
   "source": [
    "t1.shape"
   ]
  },
  {
   "cell_type": "code",
   "execution_count": 85,
   "metadata": {
    "scrolled": true
   },
   "outputs": [
    {
     "data": {
      "text/plain": [
       "[('could', 0.6972576379776001),\n",
       " ('fancy', 0.6012360453605652),\n",
       " ('venture', 0.5958577990531921),\n",
       " ('dare', 0.588391125202179),\n",
       " ('answer', 0.5864632725715637),\n",
       " ('remember', 0.5841941237449646),\n",
       " ('wondering', 0.5829741954803467),\n",
       " ('well', 0.5812236666679382),\n",
       " ('might', 0.568535327911377),\n",
       " ('eggs', 0.5633950233459473)]"
      ]
     },
     "execution_count": 85,
     "metadata": {},
     "output_type": "execute_result"
    }
   ],
   "source": [
    "w2v_model.similar_by_vector(t1[0])"
   ]
  },
  {
   "cell_type": "code",
   "execution_count": 78,
   "metadata": {
    "scrolled": false
   },
   "outputs": [
    {
     "name": "stdout",
     "output_type": "stream",
     "text": [
      "\" hurried on , alice started to her feet , for\n",
      "it knowledge , sister was sister across the run sister "
     ]
    }
   ],
   "source": [
    "start = 230\n",
    "pattern = list(x[start])\n",
    "print(\"\\\"\",' '.join(idx2word[index] for index in pattern))\n",
    "    \n",
    "for i in range(10):\n",
    "    prediction = model.predict(np.array([pattern]))\n",
    "    #index = 0 #np.argmax(prediction)0\n",
    "    pred_word = w2v_model.similar_by_vector(prediction[0])[0][0]\n",
    "    sys.stdout.write(pred_word+\" \")\n",
    "    pattern.append(word2idx[pred_word])\n",
    "    pattern = pattern[1:len(pattern)]\n"
   ]
  },
  {
   "cell_type": "code",
   "execution_count": null,
   "metadata": {
    "collapsed": true
   },
   "outputs": [],
   "source": []
  },
  {
   "cell_type": "code",
   "execution_count": null,
   "metadata": {
    "collapsed": true
   },
   "outputs": [],
   "source": []
  }
 ],
 "metadata": {
  "kernelspec": {
   "display_name": "Python 3",
   "language": "python",
   "name": "python3"
  },
  "language_info": {
   "codemirror_mode": {
    "name": "ipython",
    "version": 3
   },
   "file_extension": ".py",
   "mimetype": "text/x-python",
   "name": "python",
   "nbconvert_exporter": "python",
   "pygments_lexer": "ipython3",
   "version": "3.5.2"
  }
 },
 "nbformat": 4,
 "nbformat_minor": 2
}
