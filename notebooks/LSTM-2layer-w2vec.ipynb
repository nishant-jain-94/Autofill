{
 "cells": [
  {
   "cell_type": "markdown",
   "metadata": {},
   "source": [
    "### importing require packages"
   ]
  },
  {
   "cell_type": "code",
   "execution_count": 270,
   "metadata": {},
   "outputs": [],
   "source": [
    "from __future__ import print_function\n",
    "\n",
    "import json\n",
    "import os\n",
    "import numpy as np\n",
    "import sys\n",
    "\n",
    "from gensim.models import Word2Vec\n",
    "from gensim.utils import simple_preprocess\n",
    "from keras.engine import Input\n",
    "from keras.layers import Embedding, merge\n",
    "from keras.models import Model\n",
    "from keras.models import Sequential\n",
    "from keras.layers import Dense\n",
    "from keras.layers import Dropout\n",
    "from keras.layers import LSTM\n",
    "\n",
    "from nltk.tokenize import word_tokenize"
   ]
  },
  {
   "cell_type": "markdown",
   "metadata": {},
   "source": [
    "### tokenizer function"
   ]
  },
  {
   "cell_type": "code",
   "execution_count": 271,
   "metadata": {
    "collapsed": true
   },
   "outputs": [],
   "source": [
    "# tokenizer: can change this as needed\n",
    "# takes input one sentence at a time and returns individual words list\n",
    "tokenize = lambda x: word_tokenize(x)"
   ]
  },
  {
   "cell_type": "markdown",
   "metadata": {},
   "source": [
    "### create embeding and store weights for whole vocab"
   ]
  },
  {
   "cell_type": "code",
   "execution_count": 272,
   "metadata": {
    "collapsed": true
   },
   "outputs": [],
   "source": [
    "def create_embeddings(data_dir,\n",
    "                      embeddings_path='lstm2-w2vec/embeddings.npz',\n",
    "                      vocab_path='lstm2-w2vec/vocab.json',\n",
    "                      **params):\n",
    "    \"\"\"\n",
    "    Generate embeddings from a batch of text\n",
    "    :param embeddings_path: where to save the embeddings\n",
    "    :param vocab_path: where to save the word-index map\n",
    "    \"\"\"\n",
    "\n",
    "    class SentenceGenerator(object):\n",
    "        \"\"\"\n",
    "        Say we want to further preprocess the words from the files — convert to unicode, lowercase, \n",
    "        remove numbers, extract named entities… All of this can be done inside the MySentences iterator \n",
    "        and word2vec doesn’t need to know. All that is required is that the input yields one \n",
    "        sentence (list of utf8 words) after another\n",
    "        \n",
    "        \"\"\"\n",
    "        \n",
    "        def __init__(self, dirname):\n",
    "            self.dirname = os.path.join(os.getcwd(), dirname)\n",
    "        \n",
    "        ## iterator to yield tokenized format of one sentence at  a time\n",
    "        def __iter__(self):\n",
    "            for fname in os.listdir(self.dirname):\n",
    "                for line in open(os.path.join(self.dirname, fname)):\n",
    "                    yield tokenize(line.lower())\n",
    "\n",
    "    \"\"\"\n",
    "    Gensim only requires that the input must provide sentences sequentially, when iterated over. \n",
    "    No need to keep everything in RAM: we can provide one sentence, process it, \n",
    "    forget it, load another sentence    \n",
    "    \"\"\"\n",
    "    ## provide data directory and it will take sentences one at a time from all the files in directory\n",
    "        \n",
    "    sentences = SentenceGenerator(data_dir)\n",
    "    model = Word2Vec(sentences, **params)\n",
    "    \n",
    "    weights = model.wv.syn0\n",
    "    \n",
    "    ## storing weights to be later used in keras embedding layer\n",
    "    np.save(open(embeddings_path, 'wb'), weights)\n",
    "    \n",
    "    ## generating word2index\n",
    "    vocab = dict([(k, v.index) for k, v in model.wv.vocab.items()])\n",
    "    with open(vocab_path, 'w') as f:\n",
    "        f.write(json.dumps(vocab))\n",
    "    return model,weights"
   ]
  },
  {
   "cell_type": "code",
   "execution_count": 273,
   "metadata": {
    "collapsed": true
   },
   "outputs": [],
   "source": [
    "def load_vocab(vocab_path='lstm2-w2vec/vocab.json'):\n",
    "    \"\"\"\n",
    "    Load word -> index and index -> word mappings\n",
    "    :param vocab_path: where the word-index map is saved\n",
    "    :return: word2idx, idx2word\n",
    "    \"\"\"\n",
    "\n",
    "    with open(vocab_path, 'r') as f:\n",
    "        data = json.loads(f.read())\n",
    "    word2idx = data\n",
    "    idx2word = dict([(v, k) for k, v in data.items()])\n",
    "    return word2idx, idx2word"
   ]
  },
  {
   "cell_type": "code",
   "execution_count": 274,
   "metadata": {
    "collapsed": true
   },
   "outputs": [],
   "source": [
    "def word2vec_embedding_layer(embeddings_path='lstm2-w2vec/embeddings.npz'):\n",
    "    \"\"\"\n",
    "    Generate an embedding layer word2vec embeddings\n",
    "    :param embeddings_path: where the embeddings are saved (as a numpy file)\n",
    "    :return: the generated embedding layer\n",
    "    \"\"\"\n",
    "    \n",
    "    weights = np.load(open(embeddings_path, 'rb'))\n",
    "    layer = Embedding(input_dim=weights.shape[0],\n",
    "                      output_dim=weights.shape[1],\n",
    "                      #input_length=100,\n",
    "                      weights=[weights])\n",
    "    return layer"
   ]
  },
  {
   "cell_type": "code",
   "execution_count": 275,
   "metadata": {
    "scrolled": true
   },
   "outputs": [],
   "source": [
    "# specify embeddings in this environment variable\n",
    "data_path = 'corpus'\n",
    "\n",
    "# variable arguments are passed to gensim's word2vec model\n",
    "w2v_model, weigths_ = create_embeddings(data_path, size=100, min_count=1,\n",
    "                  window=5, sg=1, iter=25)"
   ]
  },
  {
   "cell_type": "code",
   "execution_count": 276,
   "metadata": {
    "collapsed": true
   },
   "outputs": [],
   "source": [
    "word2idx, idx2word = load_vocab()"
   ]
  },
  {
   "cell_type": "code",
   "execution_count": 277,
   "metadata": {
    "collapsed": true
   },
   "outputs": [],
   "source": [
    "vocab_size = len(word2idx.keys())\n",
    "epoch = 1\n",
    "batch_size = 32"
   ]
  },
  {
   "cell_type": "code",
   "execution_count": 278,
   "metadata": {},
   "outputs": [],
   "source": [
    "filename = \"corpus/dracula2.txt\"\n",
    "input_txt = open(filename).read()\n",
    "input_txt = input_txt.lower()"
   ]
  },
  {
   "cell_type": "code",
   "execution_count": 279,
   "metadata": {},
   "outputs": [],
   "source": [
    "tt = word_tokenize(input_txt)"
   ]
  },
  {
   "cell_type": "code",
   "execution_count": 280,
   "metadata": {},
   "outputs": [
    {
     "name": "stdout",
     "output_type": "stream",
     "text": [
      "Dataset size :  77\n"
     ]
    }
   ],
   "source": [
    "x=[]\n",
    "y=[]\n",
    "window = 10\n",
    "n_words = vocab_size\n",
    "# generating dataset\n",
    "for i in range(0, n_words - window, 1):\n",
    "    seq_in = tt[i:i + window]\n",
    "    seq_out = tt[i + window]\n",
    "    x.append([word2idx[word] for word in seq_in])\n",
    "    y.append(weigths_[word2idx[seq_out]])\n",
    "n_patterns = len(x)\n",
    "print (\"Dataset size : \", n_patterns)"
   ]
  },
  {
   "cell_type": "code",
   "execution_count": 281,
   "metadata": {},
   "outputs": [
    {
     "data": {
      "text/plain": [
       "array([ -6.06145896e-03,  -2.04539206e-03,  -5.47052408e-03,\n",
       "        -1.91847357e-05,   3.34095699e-03,  -5.90201758e-04,\n",
       "         4.70602978e-03,   1.87155732e-03,   1.12713445e-02,\n",
       "        -1.17304467e-03,  -1.87587249e-03,  -9.59220063e-03,\n",
       "        -4.89463145e-03,   4.35876893e-03,   5.81940822e-03,\n",
       "         4.84026223e-03,  -5.85034816e-03,  -1.33772357e-03,\n",
       "         1.83229670e-02,  -4.62397560e-03,   4.27276082e-03,\n",
       "        -8.61322787e-03,   4.59064217e-03,   3.86356772e-03,\n",
       "        -6.02713699e-05,  -1.65506348e-03,  -1.63820281e-04,\n",
       "        -6.69088447e-03,   7.56821409e-03,  -7.53825344e-03,\n",
       "        -6.50216965e-03,  -1.12099078e-05,   3.06755910e-03,\n",
       "         9.93078807e-04,  -1.43825011e-02,  -6.98222639e-03,\n",
       "         2.07250263e-03,  -9.45661915e-04,  -2.89390818e-03,\n",
       "         9.62779624e-04,   1.33635092e-03,   6.12916937e-03,\n",
       "        -5.05341589e-03,   9.31442436e-03,   3.99526581e-03,\n",
       "        -9.93528031e-03,  -1.31426398e-02,   2.72287987e-03,\n",
       "         1.99323846e-03,  -4.69252525e-04,  -1.38283139e-02,\n",
       "        -6.00131322e-03,   6.97204098e-03,  -1.03146238e-02,\n",
       "         1.23405969e-02,  -3.68422968e-03,   1.55018910e-03,\n",
       "         3.52816540e-03,  -1.15467273e-02,  -8.96762591e-03,\n",
       "         4.53130947e-03,  -1.20727103e-02,  -5.99842565e-03,\n",
       "         1.72185693e-02,   6.08296273e-03,  -4.17160988e-03,\n",
       "        -5.07248798e-03,  -4.90605598e-03,  -2.55476125e-03,\n",
       "        -1.40400534e-03,  -6.34999946e-03,   9.28244554e-03,\n",
       "        -4.94731637e-03,  -3.68745718e-03,  -2.37375591e-03,\n",
       "         7.73778243e-04,  -1.19868442e-02,   9.00290348e-03,\n",
       "        -8.37880932e-03,  -1.23820389e-02,  -5.73685742e-04,\n",
       "         1.30330836e-02,  -4.65846993e-03,   2.03948095e-03,\n",
       "        -1.76352775e-03,  -9.44970059e-04,  -6.74683321e-03,\n",
       "         4.53798287e-03,   3.68520804e-03,   9.47227050e-03,\n",
       "        -2.01589777e-04,   1.38771173e-03,   6.14029961e-03,\n",
       "         1.71735859e-03,  -2.25785980e-03,  -8.54036212e-03,\n",
       "         5.97508624e-05,  -1.72715809e-03,  -4.68627317e-03,\n",
       "        -5.57402009e-03], dtype=float32)"
      ]
     },
     "execution_count": 281,
     "metadata": {},
     "output_type": "execute_result"
    }
   ],
   "source": [
    "y[0]"
   ]
  },
  {
   "cell_type": "code",
   "execution_count": 282,
   "metadata": {},
   "outputs": [],
   "source": [
    "y = np.array(y)"
   ]
  },
  {
   "cell_type": "code",
   "execution_count": 283,
   "metadata": {},
   "outputs": [],
   "source": [
    "x = np.array(x)"
   ]
  },
  {
   "cell_type": "code",
   "execution_count": 284,
   "metadata": {},
   "outputs": [
    {
     "name": "stdout",
     "output_type": "stream",
     "text": [
      "_________________________________________________________________\n",
      "Layer (type)                 Output Shape              Param #   \n",
      "=================================================================\n",
      "embedding_20 (Embedding)     (None, None, 100)         8700      \n",
      "_________________________________________________________________\n",
      "lstm_33 (LSTM)               (None, None, 512)         1255424   \n",
      "_________________________________________________________________\n",
      "dropout_25 (Dropout)         (None, None, 512)         0         \n",
      "_________________________________________________________________\n",
      "lstm_34 (LSTM)               (None, 64)                147712    \n",
      "_________________________________________________________________\n",
      "dropout_26 (Dropout)         (None, 64)                0         \n",
      "_________________________________________________________________\n",
      "dense_19 (Dense)             (None, 100)               6500      \n",
      "=================================================================\n",
      "Total params: 1,418,336\n",
      "Trainable params: 1,418,336\n",
      "Non-trainable params: 0\n",
      "_________________________________________________________________\n"
     ]
    }
   ],
   "source": [
    "##layer = Embedding(input_dim=weights.shape[0],output_dim=weights.shape[1],weights=[weights])\n",
    "model = Sequential()\n",
    "model.add(word2vec_embedding_layer())\n",
    "model.add(LSTM(512, return_sequences=True))\n",
    "model.add(Dropout(0.2))\n",
    "model.add(LSTM(64))\n",
    "model.add(Dropout(0.2))\n",
    "model.add(Dense(100, activation='sigmoid'))\n",
    "model.compile(loss='mse', optimizer='adam',metrics=['accuracy'])\n",
    "model.summary()"
   ]
  },
  {
   "cell_type": "code",
   "execution_count": 285,
   "metadata": {},
   "outputs": [
    {
     "name": "stdout",
     "output_type": "stream",
     "text": [
      "Epoch 1/50\n",
      "77/77 [==============================] - 1s - loss: 0.2497 - acc: 0.0000e+00     \n",
      "Epoch 2/50\n",
      "77/77 [==============================] - 0s - loss: 0.2432 - acc: 0.0000e+00     \n",
      "Epoch 3/50\n",
      "77/77 [==============================] - 0s - loss: 0.2096 - acc: 0.0000e+00     \n",
      "Epoch 4/50\n",
      "77/77 [==============================] - 0s - loss: 0.1478 - acc: 0.0000e+00     \n",
      "Epoch 5/50\n",
      "77/77 [==============================] - 0s - loss: 0.1069 - acc: 0.0000e+00     \n",
      "Epoch 6/50\n",
      "77/77 [==============================] - 0s - loss: 0.0855 - acc: 0.0000e+00     \n",
      "Epoch 7/50\n",
      "77/77 [==============================] - 0s - loss: 0.0672 - acc: 0.0000e+00     \n",
      "Epoch 8/50\n",
      "77/77 [==============================] - 0s - loss: 0.0532 - acc: 0.0130     \n",
      "Epoch 9/50\n",
      "77/77 [==============================] - 0s - loss: 0.0415 - acc: 0.0130         \n",
      "Epoch 10/50\n",
      "77/77 [==============================] - 0s - loss: 0.0320 - acc: 0.0130     \n",
      "Epoch 11/50\n",
      "77/77 [==============================] - 0s - loss: 0.0256 - acc: 0.0000e+00     \n",
      "Epoch 12/50\n",
      "77/77 [==============================] - 0s - loss: 0.0198 - acc: 0.0000e+00     \n",
      "Epoch 13/50\n",
      "77/77 [==============================] - 0s - loss: 0.0159 - acc: 0.0000e+00     \n",
      "Epoch 14/50\n",
      "77/77 [==============================] - 0s - loss: 0.0125 - acc: 0.0000e+00     \n",
      "Epoch 15/50\n",
      "77/77 [==============================] - 0s - loss: 0.0110 - acc: 0.0000e+00     \n",
      "Epoch 16/50\n",
      "77/77 [==============================] - 0s - loss: 0.0093 - acc: 0.0390     \n",
      "Epoch 17/50\n",
      "77/77 [==============================] - 0s - loss: 0.0077 - acc: 0.0000e+00     \n",
      "Epoch 18/50\n",
      "77/77 [==============================] - 0s - loss: 0.0066 - acc: 0.0000e+00     \n",
      "Epoch 19/50\n",
      "77/77 [==============================] - 0s - loss: 0.0057 - acc: 0.0000e+00     \n",
      "Epoch 20/50\n",
      "77/77 [==============================] - 0s - loss: 0.0052 - acc: 0.0130        \n",
      "Epoch 21/50\n",
      "77/77 [==============================] - 0s - loss: 0.0048 - acc: 0.0130         \n",
      "Epoch 22/50\n",
      "77/77 [==============================] - 0s - loss: 0.0044 - acc: 0.0000e+00     \n",
      "Epoch 23/50\n",
      "77/77 [==============================] - 0s - loss: 0.0045 - acc: 0.0390        \n",
      "Epoch 24/50\n",
      "77/77 [==============================] - 0s - loss: 0.0036 - acc: 0.0130        \n",
      "Epoch 25/50\n",
      "77/77 [==============================] - 0s - loss: 0.0036 - acc: 0.0130        \n",
      "Epoch 26/50\n",
      "77/77 [==============================] - 0s - loss: 0.0033 - acc: 0.0260     \n",
      "Epoch 27/50\n",
      "77/77 [==============================] - 0s - loss: 0.0028 - acc: 0.0130        \n",
      "Epoch 28/50\n",
      "77/77 [==============================] - 0s - loss: 0.0030 - acc: 0.0000e+00     \n",
      "Epoch 29/50\n",
      "77/77 [==============================] - 0s - loss: 0.0027 - acc: 0.0130        \n",
      "Epoch 30/50\n",
      "77/77 [==============================] - 0s - loss: 0.0025 - acc: 0.0130        \n",
      "Epoch 31/50\n",
      "77/77 [==============================] - 0s - loss: 0.0025 - acc: 0.0000e+00     \n",
      "Epoch 32/50\n",
      "77/77 [==============================] - 0s - loss: 0.0026 - acc: 0.0000e+00     \n",
      "Epoch 33/50\n",
      "77/77 [==============================] - 0s - loss: 0.0023 - acc: 0.0000e+00     \n",
      "Epoch 34/50\n",
      "77/77 [==============================] - 0s - loss: 0.0020 - acc: 0.0000e+00     \n",
      "Epoch 35/50\n",
      "77/77 [==============================] - 0s - loss: 0.0021 - acc: 0.0000e+00     \n",
      "Epoch 36/50\n",
      "77/77 [==============================] - 0s - loss: 0.0020 - acc: 0.0000e+00     \n",
      "Epoch 37/50\n",
      "77/77 [==============================] - 0s - loss: 0.0020 - acc: 0.0130     \n",
      "Epoch 38/50\n",
      "77/77 [==============================] - 0s - loss: 0.0018 - acc: 0.0000e+00     \n",
      "Epoch 39/50\n",
      "77/77 [==============================] - 0s - loss: 0.0019 - acc: 0.0000e+00     \n",
      "Epoch 40/50\n",
      "77/77 [==============================] - 0s - loss: 0.0018 - acc: 0.0260     \n",
      "Epoch 41/50\n",
      "77/77 [==============================] - 0s - loss: 0.0017 - acc: 0.0130     \n",
      "Epoch 42/50\n",
      "77/77 [==============================] - 0s - loss: 0.0015 - acc: 0.0130     \n",
      "Epoch 43/50\n",
      "77/77 [==============================] - 0s - loss: 0.0016 - acc: 0.0130     \n",
      "Epoch 44/50\n",
      "77/77 [==============================] - 0s - loss: 0.0016 - acc: 0.0000e+00     \n",
      "Epoch 45/50\n",
      "77/77 [==============================] - 0s - loss: 0.0015 - acc: 0.0130        \n",
      "Epoch 46/50\n",
      "77/77 [==============================] - 0s - loss: 0.0014 - acc: 0.0390     \n",
      "Epoch 47/50\n",
      "77/77 [==============================] - 0s - loss: 0.0013 - acc: 0.0000e+00     \n",
      "Epoch 48/50\n",
      "77/77 [==============================] - 0s - loss: 0.0013 - acc: 0.0000e+00     \n",
      "Epoch 49/50\n",
      "77/77 [==============================] - 0s - loss: 0.0013 - acc: 0.0000e+00     \n",
      "Epoch 50/50\n",
      "77/77 [==============================] - 0s - loss: 0.0014 - acc: 0.0130         \n"
     ]
    },
    {
     "data": {
      "text/plain": [
       "<keras.callbacks.History at 0x7f13025fedd8>"
      ]
     },
     "execution_count": 285,
     "metadata": {},
     "output_type": "execute_result"
    }
   ],
   "source": [
    "model.fit(x,y,batch_size=32,epochs=50,verbose=1)"
   ]
  },
  {
   "cell_type": "code",
   "execution_count": 286,
   "metadata": {},
   "outputs": [
    {
     "data": {
      "text/plain": [
       "(1, 10)"
      ]
     },
     "execution_count": 286,
     "metadata": {},
     "output_type": "execute_result"
    }
   ],
   "source": [
    "np.array([x[22]]).shape"
   ]
  },
  {
   "cell_type": "code",
   "execution_count": 287,
   "metadata": {},
   "outputs": [],
   "source": [
    "t1 = model.predict(np.array([x[22]]))"
   ]
  },
  {
   "cell_type": "code",
   "execution_count": 288,
   "metadata": {},
   "outputs": [
    {
     "data": {
      "text/plain": [
       "(1, 100)"
      ]
     },
     "execution_count": 288,
     "metadata": {},
     "output_type": "execute_result"
    }
   ],
   "source": [
    "t1.shape"
   ]
  },
  {
   "cell_type": "code",
   "execution_count": 289,
   "metadata": {},
   "outputs": [
    {
     "data": {
      "text/plain": [
       "[('would', 0.20618267357349396),\n",
       " ('which', 0.17116126418113708),\n",
       " ('morning', 0.13392218947410583),\n",
       " ('us', 0.1264861822128296),\n",
       " ('an', 0.12239344418048859),\n",
       " ('very', 0.108067087829113),\n",
       " ('width', 0.101803719997406),\n",
       " ('western', 0.10017617791891098),\n",
       " ('wonderful', 0.09842932969331741),\n",
       " ('rule', 0.0934724509716034)]"
      ]
     },
     "execution_count": 289,
     "metadata": {},
     "output_type": "execute_result"
    }
   ],
   "source": [
    "w2v_model.similar_by_vector(t1[0])"
   ]
  },
  {
   "cell_type": "code",
   "execution_count": 290,
   "metadata": {},
   "outputs": [
    {
     "name": "stdout",
     "output_type": "stream",
     "text": [
      "\" 3 may . bistritz left munich at 8:35 p. m.\n",
      "would would would would would would would would would would "
     ]
    }
   ],
   "source": [
    "start = 0\n",
    "pattern = list(x[start])\n",
    "print(\"\\\"\",' '.join(idx2word[index] for index in pattern))\n",
    "for i in range(10):\n",
    "    prediction = model.predict(np.array([pattern]))\n",
    "    index = 0 #np.argmax(prediction)\n",
    "    pred_word = w2v_model.similar_by_vector(prediction[index])[0][0]\n",
    "    sys.stdout.write(pred_word+\" \")\n",
    "    pattern.append(index)\n",
    "    pattern = pattern[1:len(pattern)]"
   ]
  },
  {
   "cell_type": "code",
   "execution_count": null,
   "metadata": {
    "collapsed": true
   },
   "outputs": [],
   "source": []
  },
  {
   "cell_type": "code",
   "execution_count": null,
   "metadata": {
    "collapsed": true
   },
   "outputs": [],
   "source": []
  }
 ],
 "metadata": {
  "kernelspec": {
   "display_name": "Python 3",
   "language": "python",
   "name": "python3"
  },
  "language_info": {
   "codemirror_mode": {
    "name": "ipython",
    "version": 3
   },
   "file_extension": ".py",
   "mimetype": "text/x-python",
   "name": "python",
   "nbconvert_exporter": "python",
   "pygments_lexer": "ipython3",
   "version": "3.5.2"
  }
 },
 "nbformat": 4,
 "nbformat_minor": 2
}
