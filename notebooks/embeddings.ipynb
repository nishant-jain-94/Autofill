{
 "cells": [
  {
   "cell_type": "code",
   "execution_count": 1,
   "metadata": {},
   "outputs": [
    {
     "name": "stderr",
     "output_type": "stream",
     "text": [
      "Using TensorFlow backend.\n"
     ]
    }
   ],
   "source": [
    "import re\n",
    "import os\n",
    "import numpy as np\n",
    "import json\n",
    "import pickle\n",
    "import datetime\n",
    "import spacy\n",
    "from keras.utils import to_categorical\n",
    "from nltk.tokenize import word_tokenize,sent_tokenize\n",
    "from gensim.models import Word2Vec\n",
    "from load_squad_wiki_data import get_squad_wiki_data\n",
    "nlp = spacy.load('en', parser=False, entity=False, matcher=False, add_vectors=False)"
   ]
  },
  {
   "cell_type": "code",
   "execution_count": 2,
   "metadata": {
    "collapsed": true
   },
   "outputs": [],
   "source": [
    "class Embeddings:\n",
    "    def __init__(self, size, window, min_count, workers):\n",
    "        \n",
    "        self.size = size\n",
    "        self.window = window\n",
    "        self.min_count = min_count\n",
    "        self.workers = workers\n",
    "        base_file_name = '_'.join([str(number) for number in [size, window, min_count, workers]])\n",
    "        self.path_word2vec_model = '../data/word2vec_model_{0}.pickle'.format(base_file_name)\n",
    "        self.path_indexed_sentences = '../data/indexed_sentences_{0}.json'.format(base_file_name)\n",
    "        self.path_word_embeddings = '../data/word_embeddings_{0}.npz'.format(base_file_name)\n",
    "        self.path_indexed_vocabulary = '../data/indexed_vocabulary_{0}.json'.format(base_file_name)\n",
    "        self.path_pos_categorical_indexed_sentences = '../data/pos_categorical_indexed_sentences_{0}.json'.format(base_file_name)\n",
    "        self.path_pos_indexed_vocabulary = '../data/pos_indexed_vocabulary_{0}.json'.format(base_file_name)\n",
    "        self.load_embeddings()\n",
    "    \n",
    "    def tokenize_sentence(self, raw_text):\n",
    "        sentences = sent_tokenize(raw_text)\n",
    "        sentences = [re.sub(r'[^\\w\\'\\+\\-\\=\\*\\s\\^]', '', sent) for sent in sentences]\n",
    "        tokenized_sentences = [word_tokenize(sent) for sent in sentences]\n",
    "        return tokenized_sentences\n",
    "    \n",
    "    def tokenize_index_sentence(self, sentence):\n",
    "        word2index, index2word = self.get_vocabulary()\n",
    "        tokenized_sentences = self.tokenize_sentence(sentence.lower())\n",
    "        indexed_sentences = [[word2index[word] for word in sent] for sent in tokenized_sentences]\n",
    "        return indexed_sentences\n",
    "        \n",
    "        \n",
    "    def tag_sentence(self, text):\n",
    "        tokenized_sentences = self.tokenize_sentence(text.lower())\n",
    "        tokenized_pos_sentences = self.find_POS(tokenized_sentences)\n",
    "        return tokenized_pos_sentences\n",
    "    \n",
    "    def find_POS(self, tokenized_sentences):\n",
    "        final_pos_sents = []\n",
    "        for sent in tokenized_sentences:\n",
    "            doc = nlp(' '.join(sent))\n",
    "            pos = []\n",
    "            for word in doc:\n",
    "                pos.append(word.pos_)\n",
    "            final_pos_sents.append(pos)\n",
    "        return final_pos_sents \n",
    "\n",
    "        \n",
    "    def preprocessor(self, raw_text, size, window, min_count, workers):  \n",
    "        print(\"Creating tokenized sentences\")\n",
    "        tokenized_sentences = self.tokenize_sentence(raw_text)\n",
    "        print(\"Creating pos tokenized sentences\")\n",
    "        tokenized_pos_sentences = self.find_POS(tokenized_sentences)\n",
    "        print(\"POS Tokenization Complete\")\n",
    "        vocab = ['PUNCT','SYM','X','ADJ','VERB','CONJ','NUM','DET','ADV','PROPN','NOUN','PART','INTJ','CCONJ','SPACE','ADP','SCONJ','AUX', 'PRON']\n",
    "        vocab = dict((word, index) for index, word in enumerate(vocab))\n",
    "        with open(self.path_pos_indexed_vocabulary,'w') as outfile:\n",
    "            json.dump(vocab, outfile)\n",
    "        print(\"Categorizing Sentence\")\n",
    "        categorical_pos_sentences = [to_categorical([vocab[word] for word in sent], num_classes = len(vocab)).tolist() for sent in tokenized_pos_sentences] \n",
    "        print(\"Saving the Categorical POS Sentences into file\")\n",
    "        with open(self.path_pos_categorical_indexed_sentences,'w') as outfile:\n",
    "            json.dump(categorical_pos_sentences, outfile) \n",
    "        print(\"Categorical File Created With Data\")    \n",
    "        # initialize word2vector model\n",
    "        model = Word2Vec(sentences = tokenized_sentences, size = size, window = window, min_count = min_count, workers = workers)\n",
    "        # finding out the vocabulary of raw_text with index     \n",
    "        vocab = dict([(k, v.index) for k, v in model.wv.vocab.items()])\n",
    "        # Storeing the vocab2index in a seperate file\n",
    "        print(\"Saving Vocabulary Sentences into file\")\n",
    "        with open(self.path_indexed_vocabulary,'w') as outfile:\n",
    "            json.dump(vocab,outfile)\n",
    "        # replacing each word of tokenized_sentences by coressponding vocabulary index\n",
    "        indexed_sentences = [[vocab[word] for word in sent] for sent in tokenized_sentences]\n",
    "        # storeing indexed_sentences(tokenized sentences) in indexed.json file\n",
    "        print(\"Saving Indexed Sentences into file\")\n",
    "        with open(self.path_indexed_sentences,'w') as outfile:\n",
    "            json.dump(indexed_sentences,outfile)\n",
    "        # finding gensim weights\n",
    "        weights = model.wv.syn0\n",
    "        # storeing weights in wordembeddings.npz file\n",
    "        print(\"Saving Word Embeddings into the file\")\n",
    "        np.save(open(self.path_word_embeddings, 'wb'), weights)\n",
    "        # dump the word2vec model in dump file word2vec_model\n",
    "        print(\"Saving Model into the file\")\n",
    "        with open(self.path_word2vec_model, 'wb') as output:\n",
    "            pickle.dump(model, output)\n",
    "\n",
    "    def load_embeddings(self):\n",
    "        if not (os.path.isfile(self.path_word2vec_model) or \n",
    "                os.path.isfile(self.path_word_embeddings) or \n",
    "                os.path.isfile(self.path_indexed_sentences) or\n",
    "                os.path.isfile(self.path_indexed_vocabulary) or\n",
    "                os.path.isfile(self.path_pos_indexed_vocabulary) or\n",
    "                os.path.isfile(self.path_pos_categorical_indexed_sentences)):\n",
    "            dataset = get_squad_wiki_data()\n",
    "            raw_text = \"\"\n",
    "            passage_text = \"\" \n",
    "            question_text = \"\"\n",
    "            passage_text_list = []\n",
    "            question_text_list = []\n",
    "            for data in dataset:\n",
    "                passage_text_list.append(data['Paragraph'])\n",
    "                question_text_list.extend(data['Question'])                \n",
    "            passage_text = \"\".join(passage_text_list)\n",
    "            question_text = \".\".join(question_text_list)\n",
    "            raw_text = passage_text + \" \" + question_text\n",
    "            raw_text = raw_text.lower()\n",
    "            self.preprocessor(raw_text, self.size, self.window, self.min_count, self.workers)        \n",
    "\n",
    "    # Will load and return weights from the existing embedding.npz file\n",
    "    def get_weights(self):\n",
    "        weights = np.load(open(self.path_word_embeddings,'rb'))\n",
    "        return weights\n",
    "\n",
    "    # Returns word2Index and index2word\n",
    "    def get_vocabulary(self):\n",
    "        with open(self.path_indexed_vocabulary, 'r') as f:\n",
    "            data = json.load(f)\n",
    "        word2idx = data\n",
    "        idx2word = dict([(v, k) for k, v in data.items()])\n",
    "        return word2idx, idx2word\n",
    "\n",
    "    # Returns the pickled model\n",
    "    def get_model(self):\n",
    "        with open(self.path_word2vec_model,'rb') as output:\n",
    "            model = pickle.load(output)\n",
    "        return model\n",
    "\n",
    "    # Returns the tokenized sentences\n",
    "    def get_tokenized_indexed_sentences(self):\n",
    "        with open(self.path_indexed_sentences, 'r') as f:\n",
    "            tokenized_sentences = json.load(f)\n",
    "        return tokenized_sentences\n",
    "    \n",
    "    # Returns pos2Index and index2pos\n",
    "    def get_pos_vocabulary(self):\n",
    "        with open(self.path_pos_indexed_vocabulary, 'r') as f:\n",
    "            data = json.load(f)\n",
    "        pos2idx = data\n",
    "        idx2pos = dict([(v, k) for k, v in data.items()])\n",
    "        return pos2idx, idx2pos\n",
    "    \n",
    "    # Returns the tokenized pos sentences\n",
    "    def get_pos_categorical_indexed_sentences(self):\n",
    "        with open(self.path_pos_categorical_indexed_sentences, 'r') as f:\n",
    "            tokenized_pos_sentences = json.load(f)\n",
    "        return tokenized_pos_sentences"
   ]
  },
  {
   "cell_type": "code",
   "execution_count": 3,
   "metadata": {
    "collapsed": true
   },
   "outputs": [],
   "source": [
    "start_date = datetime.datetime.now()\n",
    "e = Embeddings(100, 4, 1, 4)\n",
    "end_date = datetime.datetime.now()\n",
    "#print(\"TOTAL TIME ELAPSED IN EMBEDDINGS\")\n",
    "#print(((end_date - start_date).hour),\" HOURS \",((end_date - start_date).minute),\" MINUTES \",((end_date - start_date).second),\" SECONDS \")"
   ]
  },
  {
   "cell_type": "code",
   "execution_count": 4,
   "metadata": {},
   "outputs": [],
   "source": [
    "# e.get_model()"
   ]
  },
  {
   "cell_type": "code",
   "execution_count": 5,
   "metadata": {},
   "outputs": [],
   "source": [
    "# e.get_weights()"
   ]
  },
  {
   "cell_type": "code",
   "execution_count": 6,
   "metadata": {},
   "outputs": [],
   "source": [
    "# e.get_vocabulary()"
   ]
  },
  {
   "cell_type": "code",
   "execution_count": 7,
   "metadata": {},
   "outputs": [],
   "source": [
    "# e.get_tokenized_indexed_sentences()"
   ]
  },
  {
   "cell_type": "code",
   "execution_count": 8,
   "metadata": {},
   "outputs": [],
   "source": [
    "# print(e.tokenize_index_sentence(\"this is Nikola Tesla\"))\n",
    "# e.tag_sentence(\"this is nikola tesla\")"
   ]
  },
  {
   "cell_type": "code",
   "execution_count": null,
   "metadata": {
    "collapsed": true
   },
   "outputs": [],
   "source": [
    "#vocab = ['PUNCT','SYM','X','ADJ','VERB','CONJ','NUM','DET','ADV','PROPN','NOUN','PART','INTJ','CCONJ','','']"
   ]
  },
  {
   "cell_type": "code",
   "execution_count": null,
   "metadata": {
    "collapsed": true
   },
   "outputs": [],
   "source": []
  }
 ],
 "metadata": {
  "kernelspec": {
   "display_name": "Python 3",
   "language": "python",
   "name": "python3"
  },
  "language_info": {
   "codemirror_mode": {
    "name": "ipython",
    "version": 3
   },
   "file_extension": ".py",
   "mimetype": "text/x-python",
   "name": "python",
   "nbconvert_exporter": "python",
   "pygments_lexer": "ipython3",
   "version": "3.5.2"
  }
 },
 "nbformat": 4,
 "nbformat_minor": 2
}
