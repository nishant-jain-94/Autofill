{
 "cells": [
  {
   "cell_type": "code",
   "execution_count": 1,
   "metadata": {},
   "outputs": [
    {
     "name": "stderr",
     "output_type": "stream",
     "text": [
      "Using TensorFlow backend.\n"
     ]
    }
   ],
   "source": [
    "import pandas as pd\n",
    "import numpy as np\n",
    "from keras.models import Sequential\n",
    "from keras.layers import Dense\n",
    "from keras.layers import Dropout\n",
    "from keras.layers import GRU\n",
    "from keras.callbacks import ModelCheckpoint\n",
    "from keras.utils import np_utils\n",
    "from keras.layers import Embedding\n",
    "from nltk.tokenize import word_tokenize\n"
   ]
  },
  {
   "cell_type": "code",
   "execution_count": 11,
   "metadata": {},
   "outputs": [],
   "source": [
    "filename = \"/home/user/Downloads/rnn-assignments/alice.txt\"\n",
    "txt = open(filename).read()\n",
    "txt = txt.lower()\n"
   ]
  },
  {
   "cell_type": "code",
   "execution_count": 12,
   "metadata": {},
   "outputs": [],
   "source": [
    "#tokenizing the input text\n",
    "word_token = word_tokenize(txt)"
   ]
  },
  {
   "cell_type": "code",
   "execution_count": 13,
   "metadata": {},
   "outputs": [],
   "source": [
    "# converting words to int\n",
    "words = sorted(list(set(word_token)))\n",
    "word_to_int = dict((w,i) for i,w in enumerate(words))\n",
    "\n",
    "# reversed dict\n",
    "reverse_dict = dict((word_to_int[i],i) for i in word_to_int)\n"
   ]
  },
  {
   "cell_type": "code",
   "execution_count": 14,
   "metadata": {},
   "outputs": [
    {
     "name": "stdout",
     "output_type": "stream",
     "text": [
      "Number of words :  32149\n",
      "Size of Vocabulary :  3091\n"
     ]
    }
   ],
   "source": [
    "# word and vocabulary count\n",
    "n_words = len(word_token)\n",
    "n_vocab = len(word_to_int)\n",
    "print(\"Number of words : \",n_words)\n",
    "print(\"Size of Vocabulary : \",n_vocab)"
   ]
  },
  {
   "cell_type": "code",
   "execution_count": 15,
   "metadata": {},
   "outputs": [],
   "source": [
    "# parameters\n",
    "window = 50\n",
    "epoch = 2\n",
    "batch_size = 512"
   ]
  },
  {
   "cell_type": "code",
   "execution_count": 16,
   "metadata": {
    "collapsed": true
   },
   "outputs": [],
   "source": [
    "# intialize arrays\n",
    "x=[]\n",
    "y=[]"
   ]
  },
  {
   "cell_type": "code",
   "execution_count": 17,
   "metadata": {},
   "outputs": [
    {
     "name": "stdout",
     "output_type": "stream",
     "text": [
      "Dataset size :  32099\n"
     ]
    }
   ],
   "source": [
    "# generating dataset\n",
    "for i in range(0, n_words - window, 1):\n",
    "    seq_in = word_token[i:i + window]\n",
    "    seq_out = word_token[i + window]\n",
    "    x.append([word_to_int[word] for word in seq_in])\n",
    "    y.append(word_to_int[seq_out])\n",
    "n_patterns = len(x)\n",
    "print (\"Dataset size : \", n_patterns)"
   ]
  },
  {
   "cell_type": "code",
   "execution_count": 18,
   "metadata": {},
   "outputs": [],
   "source": [
    "# Reshaping input\n",
    "x = np.reshape(x,(n_patterns, window, 1))\n",
    "y = np_utils.to_categorical(y)"
   ]
  },
  {
   "cell_type": "code",
   "execution_count": 24,
   "metadata": {},
   "outputs": [
    {
     "name": "stdout",
     "output_type": "stream",
     "text": [
      "_________________________________________________________________\n",
      "Layer (type)                 Output Shape              Param #   \n",
      "=================================================================\n",
      "gru_7 (GRU)                  (None, 50, 256)           198144    \n",
      "_________________________________________________________________\n",
      "dropout_7 (Dropout)          (None, 50, 256)           0         \n",
      "_________________________________________________________________\n",
      "gru_8 (GRU)                  (None, 128)               147840    \n",
      "_________________________________________________________________\n",
      "dropout_8 (Dropout)          (None, 128)               0         \n",
      "_________________________________________________________________\n",
      "dense_4 (Dense)              (None, 3091)              398739    \n",
      "=================================================================\n",
      "Total params: 744,723\n",
      "Trainable params: 744,723\n",
      "Non-trainable params: 0\n",
      "_________________________________________________________________\n"
     ]
    }
   ],
   "source": [
    "# Define the LSTM model\n",
    "model = Sequential()\n",
    "#model.add(Embedding(n_vocab,100,input_length=window ))\n",
    "model.add(GRU(256, input_shape=(x.shape[1], x.shape[2]),return_sequences=True))\n",
    "model.add(Dropout(0.2))\n",
    "model.add(GRU(128))\n",
    "model.add(Dropout(0.2))\n",
    "model.add(Dense(y.shape[1], activation='softmax'))\n",
    "model.compile(loss='categorical_crossentropy', optimizer='adam',metrics=['accuracy'])\n",
    "model.summary()"
   ]
  },
  {
   "cell_type": "code",
   "execution_count": 21,
   "metadata": {
    "scrolled": true
   },
   "outputs": [
    {
     "name": "stdout",
     "output_type": "stream",
     "text": [
      "Train on 8000 samples, validate on 2000 samples\n",
      "Epoch 1/2\n",
      "8000/8000 [==============================] - 64s - loss: 7.0009 - acc: 0.0736 - val_loss: 6.2595 - val_acc: 0.0710\n",
      "Epoch 2/2\n",
      "8000/8000 [==============================] - 64s - loss: 5.8911 - acc: 0.0738 - val_loss: 6.0416 - val_acc: 0.0710\n"
     ]
    },
    {
     "data": {
      "text/plain": [
       "<keras.callbacks.History at 0x7f4ec3ec8080>"
      ]
     },
     "execution_count": 21,
     "metadata": {},
     "output_type": "execute_result"
    }
   ],
   "source": [
    "model.fit(x[:10000], y[:10000], epochs=epoch, batch_size=batch_size, validation_split=0.2)"
   ]
  },
  {
   "cell_type": "code",
   "execution_count": 25,
   "metadata": {},
   "outputs": [
    {
     "name": "stdout",
     "output_type": "stream",
     "text": [
      " 96/100 [===========================>..] - ETA: 0s"
     ]
    }
   ],
   "source": [
    "ans = model.predict_classes(x[0:100])"
   ]
  },
  {
   "cell_type": "code",
   "execution_count": 26,
   "metadata": {},
   "outputs": [
    {
     "name": "stdout",
     "output_type": "stream",
     "text": [
      "original word :  made\n",
      "predicted word :  whispers\n",
      "\n",
      "original word :  her\n",
      "predicted word :  whispers\n",
      "\n",
      "original word :  feel\n",
      "predicted word :  whispers\n",
      "\n",
      "original word :  very\n",
      "predicted word :  whispers\n",
      "\n",
      "original word :  sleepy\n",
      "predicted word :  whispers\n",
      "\n",
      "original word :  and\n",
      "predicted word :  whispers\n",
      "\n",
      "original word :  stupid\n",
      "predicted word :  whispers\n",
      "\n",
      "original word :  )\n",
      "predicted word :  whispers\n",
      "\n",
      "original word :  ,\n",
      "predicted word :  whispers\n",
      "\n",
      "original word :  whether\n",
      "predicted word :  whispers\n",
      "\n",
      "original word :  the\n",
      "predicted word :  whispers\n",
      "\n",
      "original word :  pleasure\n",
      "predicted word :  whispers\n",
      "\n",
      "original word :  of\n",
      "predicted word :  whispers\n",
      "\n",
      "original word :  making\n",
      "predicted word :  whispers\n",
      "\n",
      "original word :  a\n",
      "predicted word :  whispers\n",
      "\n",
      "original word :  daisy-chain\n",
      "predicted word :  whispers\n",
      "\n",
      "original word :  would\n",
      "predicted word :  whispers\n",
      "\n",
      "original word :  be\n",
      "predicted word :  whispers\n",
      "\n",
      "original word :  worth\n",
      "predicted word :  whispers\n",
      "\n",
      "original word :  the\n",
      "predicted word :  whispers\n",
      "\n",
      "original word :  trouble\n",
      "predicted word :  whispers\n",
      "\n",
      "original word :  of\n",
      "predicted word :  whispers\n",
      "\n",
      "original word :  getting\n",
      "predicted word :  whispers\n",
      "\n",
      "original word :  up\n",
      "predicted word :  whispers\n",
      "\n",
      "original word :  and\n",
      "predicted word :  whispers\n",
      "\n",
      "original word :  picking\n",
      "predicted word :  whispers\n",
      "\n",
      "original word :  the\n",
      "predicted word :  whispers\n",
      "\n",
      "original word :  daisies\n",
      "predicted word :  whispers\n",
      "\n",
      "original word :  ,\n",
      "predicted word :  whispers\n",
      "\n",
      "original word :  when\n",
      "predicted word :  whispers\n",
      "\n",
      "original word :  suddenly\n",
      "predicted word :  whispers\n",
      "\n",
      "original word :  a\n",
      "predicted word :  whispers\n",
      "\n",
      "original word :  white\n",
      "predicted word :  whispers\n",
      "\n",
      "original word :  rabbit\n",
      "predicted word :  whispers\n",
      "\n",
      "original word :  with\n",
      "predicted word :  whispers\n",
      "\n",
      "original word :  pink\n",
      "predicted word :  whispers\n",
      "\n",
      "original word :  eyes\n",
      "predicted word :  whispers\n",
      "\n",
      "original word :  ran\n",
      "predicted word :  whispers\n",
      "\n",
      "original word :  close\n",
      "predicted word :  whispers\n",
      "\n",
      "original word :  by\n",
      "predicted word :  whispers\n",
      "\n",
      "original word :  her\n",
      "predicted word :  whispers\n",
      "\n",
      "original word :  .\n",
      "predicted word :  whispers\n",
      "\n",
      "original word :  there\n",
      "predicted word :  whispers\n",
      "\n",
      "original word :  was\n",
      "predicted word :  whispers\n",
      "\n",
      "original word :  nothing\n",
      "predicted word :  whispers\n",
      "\n",
      "original word :  so\n",
      "predicted word :  whispers\n",
      "\n",
      "original word :  very\n",
      "predicted word :  whispers\n",
      "\n",
      "original word :  remarkable\n",
      "predicted word :  whispers\n",
      "\n",
      "original word :  in\n",
      "predicted word :  whispers\n",
      "\n",
      "original word :  that\n",
      "predicted word :  whispers\n",
      "\n",
      "original word :  ;\n",
      "predicted word :  whispers\n",
      "\n",
      "original word :  nor\n",
      "predicted word :  whispers\n",
      "\n",
      "original word :  did\n",
      "predicted word :  whispers\n",
      "\n",
      "original word :  alice\n",
      "predicted word :  whispers\n",
      "\n",
      "original word :  think\n",
      "predicted word :  whispers\n",
      "\n",
      "original word :  it\n",
      "predicted word :  whispers\n",
      "\n",
      "original word :  so\n",
      "predicted word :  whispers\n",
      "\n",
      "original word :  very\n",
      "predicted word :  whispers\n",
      "\n",
      "original word :  much\n",
      "predicted word :  whispers\n",
      "\n",
      "original word :  out\n",
      "predicted word :  whispers\n",
      "\n",
      "original word :  of\n",
      "predicted word :  whispers\n",
      "\n",
      "original word :  the\n",
      "predicted word :  whispers\n",
      "\n",
      "original word :  way\n",
      "predicted word :  whispers\n",
      "\n",
      "original word :  to\n",
      "predicted word :  whispers\n",
      "\n",
      "original word :  hear\n",
      "predicted word :  whispers\n",
      "\n",
      "original word :  the\n",
      "predicted word :  whispers\n",
      "\n",
      "original word :  rabbit\n",
      "predicted word :  whispers\n",
      "\n",
      "original word :  say\n",
      "predicted word :  whispers\n",
      "\n",
      "original word :  to\n",
      "predicted word :  whispers\n",
      "\n",
      "original word :  itself\n",
      "predicted word :  whispers\n",
      "\n",
      "original word :  ,\n",
      "predicted word :  whispers\n",
      "\n",
      "original word :  ‘oh\n",
      "predicted word :  whispers\n",
      "\n",
      "original word :  dear\n",
      "predicted word :  whispers\n",
      "\n",
      "original word :  !\n",
      "predicted word :  whispers\n",
      "\n",
      "original word :  oh\n",
      "predicted word :  whispers\n",
      "\n",
      "original word :  dear\n",
      "predicted word :  whispers\n",
      "\n",
      "original word :  !\n",
      "predicted word :  whispers\n",
      "\n",
      "original word :  i\n",
      "predicted word :  whispers\n",
      "\n",
      "original word :  shall\n",
      "predicted word :  whispers\n",
      "\n",
      "original word :  be\n",
      "predicted word :  whispers\n",
      "\n",
      "original word :  late\n",
      "predicted word :  whispers\n",
      "\n",
      "original word :  !\n",
      "predicted word :  whispers\n",
      "\n",
      "original word :  ’\n",
      "predicted word :  whispers\n",
      "\n",
      "original word :  (\n",
      "predicted word :  whispers\n",
      "\n",
      "original word :  when\n",
      "predicted word :  whispers\n",
      "\n",
      "original word :  she\n",
      "predicted word :  whispers\n",
      "\n",
      "original word :  thought\n",
      "predicted word :  whispers\n",
      "\n",
      "original word :  it\n",
      "predicted word :  whispers\n",
      "\n",
      "original word :  over\n",
      "predicted word :  whispers\n",
      "\n",
      "original word :  afterwards\n",
      "predicted word :  whispers\n",
      "\n",
      "original word :  ,\n",
      "predicted word :  whispers\n",
      "\n",
      "original word :  it\n",
      "predicted word :  whispers\n",
      "\n",
      "original word :  occurred\n",
      "predicted word :  whispers\n",
      "\n",
      "original word :  to\n",
      "predicted word :  whispers\n",
      "\n",
      "original word :  her\n",
      "predicted word :  whispers\n",
      "\n",
      "original word :  that\n",
      "predicted word :  whispers\n",
      "\n",
      "original word :  she\n",
      "predicted word :  whispers\n",
      "\n",
      "original word :  ought\n",
      "predicted word :  whispers\n",
      "\n",
      "original word :  to\n",
      "predicted word :  whispers\n",
      "\n",
      "original word :  have\n",
      "predicted word :  whispers\n",
      "\n"
     ]
    }
   ],
   "source": [
    "# printing the original and predicted words\n",
    "for i,j in zip(ans,range(0,100,1)):\n",
    "    print(\"original word : \",word_token[j+100])\n",
    "    print(\"predicted word : \",reverse_dict[i])\n",
    "    print()"
   ]
  },
  {
   "cell_type": "code",
   "execution_count": null,
   "metadata": {
    "collapsed": true
   },
   "outputs": [],
   "source": []
  }
 ],
 "metadata": {
  "kernelspec": {
   "display_name": "Python 3",
   "language": "python",
   "name": "python3"
  },
  "language_info": {
   "codemirror_mode": {
    "name": "ipython",
    "version": 3
   },
   "file_extension": ".py",
   "mimetype": "text/x-python",
   "name": "python",
   "nbconvert_exporter": "python",
   "pygments_lexer": "ipython3",
   "version": "3.5.2"
  }
 },
 "nbformat": 4,
 "nbformat_minor": 2
}
