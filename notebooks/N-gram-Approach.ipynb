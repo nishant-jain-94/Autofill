{
 "cells": [
  {
   "cell_type": "markdown",
   "metadata": {},
   "source": [
    "# N-gram-Approach"
   ]
  },
  {
   "cell_type": "markdown",
   "metadata": {},
   "source": [
    "### Importing require packages"
   ]
  },
  {
   "cell_type": "code",
   "execution_count": 1,
   "metadata": {
    "collapsed": true
   },
   "outputs": [],
   "source": [
    "import nltk\n",
    "from nltk.tokenize import word_tokenize\n",
    "import re\n",
    "from nltk.util import ngrams\n",
    "from nltk.probability import ConditionalFreqDist, ConditionalProbDist, MLEProbDist\n",
    "import json"
   ]
  },
  {
   "cell_type": "markdown",
   "metadata": {},
   "source": [
    "### Loading Data"
   ]
  },
  {
   "cell_type": "code",
   "execution_count": 2,
   "metadata": {
    "collapsed": true
   },
   "outputs": [],
   "source": [
    "with open(\"../data/squad_wiki_data.json\",\"r\") as outfile:\n",
    "    dataset = json.load(outfile)"
   ]
  },
  {
   "cell_type": "code",
   "execution_count": 3,
   "metadata": {
    "collapsed": true
   },
   "outputs": [],
   "source": [
    "questions = dataset[0]['Question']\n",
    "questions = ' '.join(questions)"
   ]
  },
  {
   "cell_type": "markdown",
   "metadata": {},
   "source": [
    "### Generatng n_grams-bigrams"
   ]
  },
  {
   "cell_type": "code",
   "execution_count": 4,
   "metadata": {
    "collapsed": true
   },
   "outputs": [],
   "source": [
    "def generate_conditional_prob_dist(training_passage, n):\n",
    "    \"\"\"Given a passage generates ngrams and then subsequently decrements n, where n >= 2 \"\"\"\n",
    "    \n",
    "    ## removing special character and symbols and converting to lower case\n",
    "    training_passage = re.sub(r\"[^\\w\\'\\?]\", ' ', training_passage).lower()\n",
    "    \n",
    "    ## tokenizing the sanitized passage\n",
    "    words = nltk.word_tokenize(training_passage)\n",
    "    \n",
    "    cfdist_list = []\n",
    "    cpdist_list = []\n",
    "    \n",
    "    ## generating cpdist and n_grams for n_plus_one to bigrams\n",
    "    for i in range(n, 1, -1):\n",
    "        ## generating n_plus_one_grams and converting into list\n",
    "        n_grams_generated = list(ngrams(words, i))\n",
    "        \n",
    "        ## converting into (n_gram, n+1 words) for prediction\n",
    "        n_grams_for_predict = [(n_gram[:-1], n_gram[-1]) for n_gram in n_grams_generated] \n",
    "        \n",
    "        ## calculating conditionalfrequency for all n_grams\n",
    "        cfdist = ConditionalFreqDist(n_grams_for_predict)\n",
    "        \n",
    "        ## calculating conditional probablitlity of next word for all n_grams\n",
    "        cpdist = ConditionalProbDist(cfdist, MLEProbDist)\n",
    "        \n",
    "        cfdist_list.append(cfdist)\n",
    "        cpdist_list.append(cpdist)\n",
    "    \n",
    "    return cpdist_list"
   ]
  },
  {
   "cell_type": "code",
   "execution_count": 5,
   "metadata": {},
   "outputs": [],
   "source": [
    "cp_list = generate_conditional_prob_dist(questions, 5)"
   ]
  },
  {
   "cell_type": "markdown",
   "metadata": {},
   "source": [
    "### Predict the next word function"
   ]
  },
  {
   "cell_type": "code",
   "execution_count": 6,
   "metadata": {},
   "outputs": [],
   "source": [
    "def predict_next_using_n_grams(n_grams, cpdist_list, mode=\"nsent\"):\n",
    "    \n",
    "    next_prediction = None\n",
    "    residue = \"\"\n",
    "    \n",
    "    # n_gram = tuple of n_words #input to the function\n",
    "    len_n_grams = len(n_grams)\n",
    "    \n",
    "    # to end the recursion\n",
    "    if(len_n_grams==0): return #no prediction available\n",
    "    \n",
    "    len_cpdist = len(cpdist_list)\n",
    "    \n",
    "    #handling sentence with length more than the n_grams generated\n",
    "    if len_n_grams > len_cpdist: \n",
    "        residue = ' '.join(n_grams[:-len_cpdist])\n",
    "        n_grams = n_grams[-len_cpdist:]\n",
    "        len_n_grams = len(n_grams)\n",
    "    \n",
    "    # possible predictions\n",
    "    possible_pred = list(cpdist_list[len_cpdist-len_n_grams][n_grams].samples())\n",
    "    \n",
    "    # number of possible prediciton for the provided n_grams\n",
    "    n_possible_pred = len(possible_pred)\n",
    "    \n",
    "    if n_possible_pred > 0:\n",
    "        \n",
    "        if(mode == 'nword'):\n",
    "            if(n_possible_pred == 1):\n",
    "                next_prediction = '\\n'.join(possible_pred[:5])\n",
    "            \n",
    "        if(mode == 'nsent'):\n",
    "            possible_predictions = []\n",
    "            for pred in possible_pred[:1]:\n",
    "                print(pred)\n",
    "                pred_words = list(n_grams)\n",
    "                next_pred = pred\n",
    "                while next_pred != '?':\n",
    "                    pred_words.append(next_pred)\n",
    "                    candidate_pred = list(cpdist_list[len_cpdist-len_n_grams][tuple(pred_words[-len_n_grams:])].samples())\n",
    "                    next_pred = candidate_pred[0] if \"?\" not in candidate_pred else \"?\"\n",
    "                pred_words.append('?')\n",
    "                possible_predictions.append(' '.join(pred_words))\n",
    "            next_prediction = '\\n'.join(possible_predictions)\n",
    "    \n",
    "    else:\n",
    "        # If prediciton is not available for the provided n_grams backoff\n",
    "        residue = residue + \" \" + n_grams[0] \n",
    "        n_grams = n_grams[1:]\n",
    "        next_prediction = predict_next_using_n_grams(n_grams, cpdist_list, mode)\n",
    "        \n",
    "    return residue + \" \" + next_prediction\n",
    "    "
   ]
  },
  {
   "cell_type": "code",
   "execution_count": 7,
   "metadata": {
    "collapsed": true
   },
   "outputs": [],
   "source": [
    "def generate_prediction(n_grams, mode=\"nsent\"):\n",
    "    n_grams = re.sub(\"[^\\w\\']\", ' ', n_grams).lower()\n",
    "    n_grams = tuple(nltk.word_tokenize(n_grams))\n",
    "    return predict_next_using_n_grams(n_grams, cp_list, mode)"
   ]
  },
  {
   "cell_type": "code",
   "execution_count": null,
   "metadata": {
    "collapsed": true
   },
   "outputs": [],
   "source": []
  }
 ],
 "metadata": {
  "kernelspec": {
   "display_name": "Python 3",
   "language": "python",
   "name": "python3"
  },
  "language_info": {
   "codemirror_mode": {
    "name": "ipython",
    "version": 3
   },
   "file_extension": ".py",
   "mimetype": "text/x-python",
   "name": "python",
   "nbconvert_exporter": "python",
   "pygments_lexer": "ipython3",
   "version": "3.5.2"
  }
 },
 "nbformat": 4,
 "nbformat_minor": 2
}
