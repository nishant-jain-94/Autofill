{
 "cells": [
  {
   "cell_type": "code",
   "execution_count": 1,
   "metadata": {
    "collapsed": true
   },
   "outputs": [],
   "source": [
    "import re\n",
    "import numpy as np\n",
    "import json\n",
    "from nltk.tokenize import word_tokenize,sent_tokenize\n",
    "from gensim.models import Word2Vec"
   ]
  },
  {
   "cell_type": "code",
   "execution_count": 10,
   "metadata": {
    "collapsed": true
   },
   "outputs": [],
   "source": [
    "def squaddata_processing():\n",
    "    with open('/home/user/Autofill/data/dev-v1.1.json') as data_file:\n",
    "        dataset = json.load(data_file)\n",
    "    raw_data = []\n",
    "    for data in dataset['data']:\n",
    "        paragraphs = (data['paragraphs'])\n",
    "        dct = {}\n",
    "        for paragraph in paragraphs:\n",
    "            dct['Passage'] = paragraph['context']\n",
    "            qlist = []\n",
    "            for questions in paragraph['qas']:\n",
    "                qlist.append(questions['question'])\n",
    "            dct['Question'] = list(set(qlist)) \n",
    "        raw_data.append(dct) \n",
    "    with open('/home/user/Autofill/data/squaddata.json','w') as outfile:\n",
    "        json.dump(raw_data,outfile)    "
   ]
  },
  {
   "cell_type": "code",
   "execution_count": 11,
   "metadata": {
    "collapsed": true
   },
   "outputs": [],
   "source": [
    "def combined_file():\n",
    "    with open('/home/user/Autofill/data/squaddata.json') as data_file:\n",
    "        dataset1 = json.load(data_file)\n",
    "    with open('/home/user/Autofill/data/wiki_text (1).json') as data_file:\n",
    "        dataset2 = json.load(data_file)\n",
    "    final_dict = {}    \n",
    "    final_para = \"\"\n",
    "    final_question = []\n",
    "    for i in range(0,len(dataset1),1):\n",
    "        para = (dataset1[i]['Passage'])\n",
    "        final_para = final_para + \" \" + para\n",
    "        for j in range(0,len(dataset1[i]['Question']),1):\n",
    "            final_question.append(dataset1[i]['Question'][j])\n",
    "    final_para = final_para + \" \"        \n",
    "    for i in range(0,len(dataset2),1):\n",
    "        para = (dataset2[i]['Passage'])\n",
    "        final_para = final_para + \" \" +para\n",
    "        for j in range(0,len(dataset2[i]['Question']),1):\n",
    "            final_question.append(dataset2[i]['Question'][j])\n",
    "    final_dict['Paragraph'] = final_para\n",
    "    final_dict['Question'] = final_question\n",
    "    final_data = []\n",
    "    final_data.append(final_dict)\n",
    "    with open('/home/user/Autofill/data/final_json_file.json','w') as outfile:\n",
    "        json.dump(final_data,outfile)"
   ]
  },
  {
   "cell_type": "code",
   "execution_count": 18,
   "metadata": {
    "collapsed": true
   },
   "outputs": [],
   "source": [
    "def preprocessor(raw_text):\n",
    "    # removes all the punctuations and retains only alphabets,digits,fullstop,apostrophe\n",
    "    clean_text = re.sub(r'[^\\w\\'\\.\\+\\-\\=\\*\\^]',' ' ,raw_text)\n",
    "    # sentence tokenize clean text\n",
    "    sentences = sent_tokenize(clean_text)\n",
    "    # replace full stops from each sentence in sentences list by null\n",
    "    sentences = [sent.replace('.','') for sent in sentences]\n",
    "    # word tokenize each sentence in sentences list\n",
    "    tokenized_sentences = [word_tokenize(sent) for sent in sentences]\n",
    "    # initialize word2vector model\n",
    "    model = Word2Vec(sentences = tokenized_sentences, size = 5, window = 5, min_count = 1, workers = 4)\n",
    "    # finding out the vocabulary of raw_text with index\n",
    "    vocab = dict([(k, v.index) for k, v in model.wv.vocab.items()])\n",
    "    # replacing each word of tokenized_sentences by coressponding vocabulary index\n",
    "    indexed_sentences = [[vocab[word] for word in sent] for sent in tokenized_sentences]\n",
    "    # storeing indexed_sentences in indexed.json file\n",
    "    with open('/home/user/Autofill/data/indexed.json','w') as outfile:\n",
    "        json.dump(indexed_sentences,outfile)\n",
    "    # finding gensim weights\n",
    "    weights = model.wv.syn0\n",
    "    # storeing weights in wordembeddings.npz file\n",
    "    np.save(open('/home/user/Autofill/data/wordembeddings.npz', 'wb'), weights)"
   ]
  },
  {
   "cell_type": "code",
   "execution_count": 12,
   "metadata": {
    "collapsed": true
   },
   "outputs": [],
   "source": [
    "squaddata_processing()"
   ]
  },
  {
   "cell_type": "code",
   "execution_count": 13,
   "metadata": {},
   "outputs": [],
   "source": [
    "combined_file()"
   ]
  },
  {
   "cell_type": "code",
   "execution_count": 19,
   "metadata": {},
   "outputs": [],
   "source": [
    "with open('/home/user/Autofill/data/final_json_file.json') as data_file:\n",
    "        dataset = json.load(data_file)\n",
    "passage_text = dataset[0]['Paragraph']\n",
    "question_text = \"\" \n",
    "for quest in dataset[0]['Question']:\n",
    "    question_text = question_text + \" \" + quest \n",
    "raw_text = passage_text + question_text\n",
    "preprocessor(raw_text)        "
   ]
  },
  {
   "cell_type": "code",
   "execution_count": null,
   "metadata": {
    "collapsed": true
   },
   "outputs": [],
   "source": []
  }
 ],
 "metadata": {
  "kernelspec": {
   "display_name": "Python 3",
   "language": "python",
   "name": "python3"
  },
  "language_info": {
   "codemirror_mode": {
    "name": "ipython",
    "version": 3
   },
   "file_extension": ".py",
   "mimetype": "text/x-python",
   "name": "python",
   "nbconvert_exporter": "python",
   "pygments_lexer": "ipython3",
   "version": "3.5.2"
  }
 },
 "nbformat": 4,
 "nbformat_minor": 2
}
