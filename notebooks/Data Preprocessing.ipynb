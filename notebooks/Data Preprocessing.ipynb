{
 "cells": [
  {
   "cell_type": "code",
   "execution_count": 1,
   "metadata": {
    "collapsed": true
   },
   "outputs": [],
   "source": [
    "import re\n",
    "import os\n",
    "import numpy as np\n",
    "import json\n",
    "import pickle\n",
    "from nltk.tokenize import word_tokenize,sent_tokenize\n",
    "from gensim.models import Word2Vec"
   ]
  },
  {
   "cell_type": "code",
   "execution_count": 2,
   "metadata": {
    "collapsed": true
   },
   "outputs": [],
   "source": [
    "def preprocessor(raw_text, size, window, min_count, workers):\n",
    "    # removes all the punctuations and retains only alphabets,digits,fullstop,apostrophe\n",
    "    clean_text = re.sub(r'[^\\w\\'\\.\\+\\-\\=\\*\\^]',' ' ,raw_text)\n",
    "    # sentence tokenize clean text\n",
    "    sentences = sent_tokenize(clean_text)\n",
    "    # replace full stops from each sentence in sentences list by null\n",
    "    sentences = [sent.replace('.','') for sent in sentences]\n",
    "    # word tokenize each sentence in sentences list\n",
    "    tokenized_sentences = [word_tokenize(sent) for sent in sentences]\n",
    "    # initialize word2vector model\n",
    "    model = Word2Vec(sentences = tokenized_sentences, size = size, window = window, min_count = min_count, workers = workers)\n",
    "    # finding out the vocabulary of raw_text with index     \n",
    "    vocab = dict([(k, v.index) for k, v in model.wv.vocab.items()])\n",
    "    # Storeing the vocab2index in a seperate file\n",
    "    with open('./../data/indexed_vocabulary.json','w') as outfile:\n",
    "        json.dump(vocab,outfile)\n",
    "    # replacing each word of tokenized_sentences by coressponding vocabulary index\n",
    "    indexed_sentences = [[vocab[word] for word in sent] for sent in tokenized_sentences]\n",
    "    # storeing indexed_sentences(tokenized sentences) in indexed.json file\n",
    "    with open('./../data/indexed_sentences.json','w') as outfile:\n",
    "        json.dump(indexed_sentences,outfile)\n",
    "    # finding gensim weights\n",
    "    weights = model.wv.syn0\n",
    "    # storeing weights in wordembeddings.npz file\n",
    "    np.save(open('./../data/wordembeddings.npz', 'wb'), weights)\n",
    "    # dump the word2vec model in dump file word2vec_model\n",
    "    with open(\"./../data/word2vec_model.pickle\", 'wb') as output:\n",
    "        pickle.dump(model, output)"
   ]
  },
  {
   "cell_type": "code",
   "execution_count": 3,
   "metadata": {
    "collapsed": true
   },
   "outputs": [],
   "source": [
    "def final_processing(size, window, min_count, workers):\n",
    "    with open('./../data/final_json_file.json') as data_file:\n",
    "            dataset = json.load(data_file)\n",
    "    raw_text = \"\"\n",
    "    passage_text = \"\" \n",
    "    question_text = \"\"\n",
    "    passage_text_list = []\n",
    "    question_text_list = []\n",
    "    for data in dataset:\n",
    "        passage_text_list.append(data['Paragraph'])\n",
    "        question_text_list.extend(data['Question'])                \n",
    "    passage_text = \" \".join(passage_text_list)\n",
    "    question_text = \" \".join(question_text_list)\n",
    "    raw_text = passage_text + \" \" + question_text\n",
    "    preprocessor(raw_text, size, window, min_count, workers)        "
   ]
  },
  {
   "cell_type": "code",
   "execution_count": 4,
   "metadata": {
    "collapsed": true
   },
   "outputs": [],
   "source": [
    "# Will load and return weights from the existing embedding.npz file\n",
    "def get_weights():\n",
    "    weights = np.load(open('./../data/wordembeddings.npz', 'rb'))\n",
    "    return weights"
   ]
  },
  {
   "cell_type": "code",
   "execution_count": 5,
   "metadata": {
    "collapsed": true
   },
   "outputs": [],
   "source": [
    "# Returns word2Index and index2word\n",
    "def get_vocabulary():\n",
    "    with open('./../data/indexed_vocabulary.json', 'r') as f:\n",
    "        data = json.load(f)\n",
    "    word2idx = data\n",
    "    idx2word = dict([(v, k) for k, v in data.items()])\n",
    "    return word2idx, idx2word"
   ]
  },
  {
   "cell_type": "code",
   "execution_count": 6,
   "metadata": {
    "collapsed": true
   },
   "outputs": [],
   "source": [
    "# Returns the pickled model\n",
    "def get_model():\n",
    "    with open('./../data/word2vec_model.pickle','rb') as output:\n",
    "        model = pickle.load(output)\n",
    "    return model"
   ]
  },
  {
   "cell_type": "code",
   "execution_count": 7,
   "metadata": {
    "collapsed": true
   },
   "outputs": [],
   "source": [
    "# Returns the tokenized sentences\n",
    "def get_tokenized_indexed_sentences():\n",
    "    with open('./../data/indexed_sentences.json', 'r') as f:\n",
    "        tokenized_sentences = json.load(f)\n",
    "    return tokenized_sentences    "
   ]
  },
  {
   "cell_type": "code",
   "execution_count": null,
   "metadata": {},
   "outputs": [],
   "source": [
    "final_processing(5,4,1,4)"
   ]
  },
  {
   "cell_type": "code",
   "execution_count": null,
   "metadata": {
    "collapsed": true
   },
   "outputs": [],
   "source": [
    "weights = get_weights()"
   ]
  },
  {
   "cell_type": "code",
   "execution_count": null,
   "metadata": {
    "collapsed": true
   },
   "outputs": [],
   "source": [
    "word2index,index2word = get_vocabulary()"
   ]
  },
  {
   "cell_type": "code",
   "execution_count": null,
   "metadata": {},
   "outputs": [],
   "source": [
    "word2vec_model = get_model()"
   ]
  },
  {
   "cell_type": "code",
   "execution_count": null,
   "metadata": {
    "collapsed": true
   },
   "outputs": [],
   "source": [
    "tokenized_sentences = get_tokenized_indexed_sentences()"
   ]
  },
  {
   "cell_type": "code",
   "execution_count": null,
   "metadata": {
    "collapsed": true
   },
   "outputs": [],
   "source": [
    "if ((os.path.isfile('./../data/wiki_text.json') and os.access('./../data/wiki_text.json', os.R_OK))\n",
    "    and (os.path.isfile('./../data/squaddata.json') and os.access('./../data/squaddata.json', os.R_OK))):\n",
    "    os.system('./../src/load_from_squad_and_wiki.py')\n",
    "    load_from_squad_and_wiki.merge_file()    \n",
    "else    \n",
    "    os.system('./../src/load_from_wiki.py')\n",
    "    os.system('./../src/load_from_squad_and_wiki.py')\n",
    "    load_from_wiki.\n",
    "    load_from_squad_and_wiki.squaddata_processing()\n",
    "os.system('./../src/data_preprocessing.py')\n"
   ]
  },
  {
   "cell_type": "code",
   "execution_count": null,
   "metadata": {
    "collapsed": true
   },
   "outputs": [],
   "source": [
    "#execfile('./../src/load_from_wiki.py')"
   ]
  }
 ],
 "metadata": {
  "kernelspec": {
   "display_name": "Python 3",
   "language": "python",
   "name": "python3"
  },
  "language_info": {
   "codemirror_mode": {
    "name": "ipython",
    "version": 3
   },
   "file_extension": ".py",
   "mimetype": "text/x-python",
   "name": "python",
   "nbconvert_exporter": "python",
   "pygments_lexer": "ipython3",
   "version": "3.5.2"
  }
 },
 "nbformat": 4,
 "nbformat_minor": 2
}
