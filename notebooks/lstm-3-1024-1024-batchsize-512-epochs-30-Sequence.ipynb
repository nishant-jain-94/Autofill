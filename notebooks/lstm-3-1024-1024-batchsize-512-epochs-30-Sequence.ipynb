{
 "cells": [
  {
   "cell_type": "markdown",
   "metadata": {},
   "source": [
    "### importing require packages"
   ]
  },
  {
   "cell_type": "code",
   "execution_count": 133,
   "metadata": {},
   "outputs": [],
   "source": [
    "from __future__ import print_function\n",
    "\n",
    "import json\n",
    "import os\n",
    "import numpy as np\n",
    "import sys\n",
    "import h5py\n",
    "\n",
    "from gensim.models import Word2Vec\n",
    "from gensim.utils import simple_preprocess\n",
    "from keras.layers import Embedding\n",
    "from keras.models import Sequential\n",
    "from keras.layers import Dense\n",
    "from keras.layers import Dropout\n",
    "from keras.layers import LSTM\n",
    "from keras.preprocessing import sequence\n",
    "from intersect_embeddings import Embeddings\n",
    "from keras.callbacks import ModelCheckpoint\n",
    "\n",
    "import plotly.plotly as py\n",
    "import plotly.graph_objs as go\n",
    "\n",
    "from nltk.tokenize import word_tokenize\n",
    "import random\n",
    "from itertools import groupby"
   ]
  },
  {
   "cell_type": "markdown",
   "metadata": {},
   "source": [
    "## Instantiate Embeddings "
   ]
  },
  {
   "cell_type": "code",
   "execution_count": 7,
   "metadata": {
    "collapsed": true
   },
   "outputs": [],
   "source": [
    "embeddings = Embeddings(300, 4, 1, 4)"
   ]
  },
  {
   "cell_type": "markdown",
   "metadata": {},
   "source": [
    "### Getting data from preprocessing"
   ]
  },
  {
   "cell_type": "code",
   "execution_count": 8,
   "metadata": {},
   "outputs": [
    {
     "name": "stdout",
     "output_type": "stream",
     "text": [
      "Loading Indexed Sentences...\n"
     ]
    }
   ],
   "source": [
    "word2vec_model = embeddings.get_intersected_model()\n",
    "word2index, index2word = embeddings.get_vocabulary()\n",
    "word2vec_weights = word2vec_model.wv.syn0\n",
    "tokenized_indexed_sentences = embeddings.get_indexed_sentences()"
   ]
  },
  {
   "cell_type": "code",
   "execution_count": 9,
   "metadata": {
    "collapsed": true
   },
   "outputs": [],
   "source": [
    "word2index = {word:index+1 for word, index in word2index.items()}\n",
    "index2word = {index:word for word, index in word2index.items()}"
   ]
  },
  {
   "cell_type": "code",
   "execution_count": 10,
   "metadata": {},
   "outputs": [
    {
     "data": {
      "text/plain": [
       "{'serves': 1978,\n",
       " 'unpredictable': 22529,\n",
       " 'papacy': 5100,\n",
       " 'the_village': 41151,\n",
       " 'murad_ii': 17698,\n",
       " 'early-spring': 35732,\n",
       " '1868_to_1876': 44635,\n",
       " 'anglo-saxon': 5438,\n",
       " 'virginia_key': 52473,\n",
       " 'idealogy': 39439,\n",
       " 'dinophyte': 30121,\n",
       " 'kick': 9552,\n",
       " 'operation_tomahawk': 52247,\n",
       " 'enablements': 24720,\n",
       " 'rsa': 26941,\n",
       " 'funneling': 35294,\n",
       " 'week': 3138,\n",
       " 'austrian': 2668,\n",
       " 'matricide': 18887,\n",
       " 'attraction': 3604,\n",
       " 'treaties': 1176,\n",
       " 'paul_sheehy': 30418,\n",
       " 'occupy': 2352,\n",
       " 'inn': 5584,\n",
       " \"sant'agata\": 38316,\n",
       " 'windows_8': 3298,\n",
       " 'oceania': 50836,\n",
       " '8_million': 22514,\n",
       " 'contoller': 25765,\n",
       " 'wallis_simpson': 20411,\n",
       " 'consuls': 13563,\n",
       " 'pandemic': 18087,\n",
       " 'hanzhong': 45318,\n",
       " 'conga': 26900,\n",
       " 'education': 300,\n",
       " 'enacting': 14167,\n",
       " 'fireworks': 11270,\n",
       " 'hayk': 51361,\n",
       " 'the_princess_elizabeth': 29527,\n",
       " 'lakulish': 45066,\n",
       " 'inside': 1666,\n",
       " 'the_dornbirner_ach': 17381,\n",
       " 'indian_ocean': 45330,\n",
       " 'the_gurjara_pratihara_empire': 19374,\n",
       " 'vowel': 4211,\n",
       " 'knell': 49814,\n",
       " 'the_roman_kingdom': 14644,\n",
       " 'classis': 32372,\n",
       " 'transfered': 19551,\n",
       " 'infallible': 43773,\n",
       " 'sultana': 18036,\n",
       " 'insects': 804,\n",
       " 'q_bridge': 38834,\n",
       " 'caveats': 41027,\n",
       " 'variously': 47925,\n",
       " 'tangs': 36372,\n",
       " 'relations': 1363,\n",
       " 'aksumite': 35160,\n",
       " 'gary_kildall': 27297,\n",
       " 'moldovan': 36357,\n",
       " 'brewers': 14032,\n",
       " 'reims': 13665,\n",
       " 'self-mortification': 30465,\n",
       " 'redistributes': 23032,\n",
       " 'lane_crawford': 19540,\n",
       " 'aattack': 38253,\n",
       " 'noise': 5893,\n",
       " 'late_august': 29922,\n",
       " 'hermes': 32113,\n",
       " 'ahmad': 16352,\n",
       " 'guided': 7686,\n",
       " 'amersterdam_avenue': 36684,\n",
       " 'png': 35809,\n",
       " 'delisted': 14250,\n",
       " 'imaginging': 32506,\n",
       " 'afroasiatic': 36504,\n",
       " 'the_pledge_of_allegiance': 39811,\n",
       " 'north_africans': 23914,\n",
       " 'seismologists': 17944,\n",
       " 'bording': 40627,\n",
       " 'not': 55,\n",
       " '1488': 39888,\n",
       " 'portland': 41155,\n",
       " 'the_arc_de_triomphe': 51363,\n",
       " 'stuka': 47337,\n",
       " '2008': 579,\n",
       " 'city_hall': 17750,\n",
       " 'perceptible': 43594,\n",
       " 'yard': 5678,\n",
       " '1730': 15498,\n",
       " 'circumnavigate': 32408,\n",
       " 'caliphs': 11802,\n",
       " 'disco_eye-cued': 22828,\n",
       " 'hmnb_davenport': 13997,\n",
       " 'merchantmen': 50174,\n",
       " 'workhorses': 39788,\n",
       " 'the_high_court': 44008,\n",
       " 'devensian': 25861,\n",
       " 'fooled': 33642,\n",
       " '114th_street': 13600,\n",
       " 'lower-case': 16055,\n",
       " 'ducks': 5948,\n",
       " 'july_23_1989': 19381,\n",
       " 'pharaohs': 28504,\n",
       " 'agains': 42485,\n",
       " 'ripples': 24604,\n",
       " 'mundofox': 32838,\n",
       " 'yeas': 49039,\n",
       " 'kimberly_amadeo': 28991,\n",
       " 'classification_of_mammals': 34385,\n",
       " 'ferguson': 14061,\n",
       " 'mianyang_city': 13911,\n",
       " 'specifies': 6112,\n",
       " 'the_north_carolina_constitution': 26043,\n",
       " 'the_windows_store': 13294,\n",
       " '14th': 8217,\n",
       " 'the_late_13th': 44359,\n",
       " \"luke's-roosevelt\": 48497,\n",
       " 'possesses': 24507,\n",
       " 'the_morean_war': 40910,\n",
       " 'milder': 45512,\n",
       " 'ingaas': 47118,\n",
       " 'abc_films': 20906,\n",
       " 'port_of_london_authority': 25710,\n",
       " 'semen': 34521,\n",
       " 'koine': 28227,\n",
       " 'yourself': 19894,\n",
       " 'kineys': 29541,\n",
       " 'mammals': 2313,\n",
       " 'the_buddha_of': 35854,\n",
       " 'bilingual-spanish': 40367,\n",
       " 'anti-defense': 17655,\n",
       " '187th': 31139,\n",
       " 'entetainment': 47384,\n",
       " 'bulk': 4860,\n",
       " 'transistor': 2717,\n",
       " 'kimat': 28263,\n",
       " 'harkness': 49991,\n",
       " 'thomas_blantz': 41853,\n",
       " 'flower': 4780,\n",
       " 'flip': 20831,\n",
       " 'escalation': 34417,\n",
       " 'new_haven-based': 44639,\n",
       " 'janet': 23252,\n",
       " 'hrothgar_a': 42706,\n",
       " 'the_italian_empire': 23930,\n",
       " 'manichaean': 36215,\n",
       " 'sunni_islam': 17121,\n",
       " 'kaw-goosh-kaw-nick': 47034,\n",
       " 'commended': 24657,\n",
       " 'march_23_1833': 27115,\n",
       " 'volta': 12769,\n",
       " 'john_rawsl': 37215,\n",
       " 'accountants': 29260,\n",
       " 'annulled': 32015,\n",
       " 'encounters': 5244,\n",
       " 'encourage': 2439,\n",
       " 'minibus': 18819,\n",
       " 'revoled': 33455,\n",
       " 'wv': 29342,\n",
       " 'viceregal': 12271,\n",
       " 'eased': 21118,\n",
       " 'relatinship': 42629,\n",
       " 'fables': 45499,\n",
       " 'zywny': 41519,\n",
       " 'codeshare': 31162,\n",
       " 'old_dutch': 13002,\n",
       " 'delve': 29271,\n",
       " 'essentialism': 52345,\n",
       " 'narth': 11027,\n",
       " '97_of': 50511,\n",
       " 'finite': 4570,\n",
       " 'st_mary': 11456,\n",
       " 'grooves': 12349,\n",
       " 'horn_of_africa': 14326,\n",
       " 'windows_95': 32156,\n",
       " 'flaw': 7103,\n",
       " 'misrata': 13591,\n",
       " 'sen': 41006,\n",
       " 'conformities': 27128,\n",
       " '1995-1996': 44705,\n",
       " 'irish-american': 40142,\n",
       " 'sultan_selim': 11075,\n",
       " 'the_quran': 18795,\n",
       " 'junctions': 15736,\n",
       " 'vince_lombardi_trophy': 40628,\n",
       " 'merged': 2999,\n",
       " 'nintendo_magazine': 28388,\n",
       " 'sisvel': 13799,\n",
       " 'cunha': 19906,\n",
       " 'pertains': 13961,\n",
       " 'configured': 13670,\n",
       " 'hamilton': 19902,\n",
       " 'medinese': 42847,\n",
       " 'waht': 13317,\n",
       " 'the_theory_of_games': 26481,\n",
       " 'aslatia': 49541,\n",
       " 'notre': 10438,\n",
       " 'cardiff_university': 34101,\n",
       " 'began': 378,\n",
       " 'vendor': 11638,\n",
       " 'obvious': 7565,\n",
       " 'disorers': 40650,\n",
       " 'pitcher': 19996,\n",
       " 'thailand': 3389,\n",
       " 'july_18_2007': 41240,\n",
       " 'nomine': 28137,\n",
       " 'grimm': 9042,\n",
       " 'assignment': 14529,\n",
       " 'pplace': 39192,\n",
       " 'countries': 122,\n",
       " '1807': 38260,\n",
       " 'dismissal': 12749,\n",
       " 'researcher': 5286,\n",
       " 'generated': 2486,\n",
       " 'unabsorbed': 31382,\n",
       " 'grand_master': 51791,\n",
       " 'codependent': 27206,\n",
       " 'john_marshall': 38895,\n",
       " 'purporting': 52612,\n",
       " 'reprinting': 23771,\n",
       " 'premier': 2425,\n",
       " 'galkayo': 48036,\n",
       " 'color-rendering': 50757,\n",
       " 'cincinnati': 21208,\n",
       " \"the_palme_d'or_at\": 44394,\n",
       " 'contribute': 1940,\n",
       " 'partridge': 50703,\n",
       " 'subcategory': 32794,\n",
       " 'vihuelas': 45440,\n",
       " 'steep': 6644,\n",
       " 'balanced': 10764,\n",
       " 'lond': 24809,\n",
       " 'replaced': 500,\n",
       " 'ali_ibn_abi_talib': 39581,\n",
       " 'dissipated': 27439,\n",
       " 'the_previous_year_in_2011-12': 28990,\n",
       " 'duped': 47543,\n",
       " 'gram': 10310,\n",
       " 'the_medical_institute': 39805,\n",
       " 'entire': 1678,\n",
       " 'farmer': 20528,\n",
       " \"'giant\": 49058,\n",
       " 'analogously': 29753,\n",
       " 'deja_vu': 14600,\n",
       " 'administration': 1636,\n",
       " 'slums': 11811,\n",
       " 'main_building': 30548,\n",
       " \"ku's_school_of_business\": 17697,\n",
       " 'atari': 12862,\n",
       " 'phonetical': 49750,\n",
       " 'chernaya': 25483,\n",
       " 'inaccessible': 26912,\n",
       " 'richard_sheale': 37979,\n",
       " 'new_yorkese': 43678,\n",
       " 'stirling': 24455,\n",
       " 'equatorial_african': 29628,\n",
       " 'coastline': 4516,\n",
       " 'electrical_world': 30420,\n",
       " 'victor_hugo': 22635,\n",
       " 'southwest_ledge_lighthouse': 27192,\n",
       " 'hybrid': 9068,\n",
       " 'margaret_sullavan': 34522,\n",
       " 'property': 812,\n",
       " 'intervals': 11087,\n",
       " 'marxists': 20279,\n",
       " 'coldplay': 7365,\n",
       " '526': 26760,\n",
       " 'pro-life': 20559,\n",
       " 'upper-level': 36021,\n",
       " 'falco': 27988,\n",
       " 'the_end_of_glory': 38993,\n",
       " 'full': 896,\n",
       " 'valery_giscard': 43312,\n",
       " 'enumerators': 24635,\n",
       " 'utilized': 3215,\n",
       " 'patent-free': 36628,\n",
       " '1997_to_2004': 30300,\n",
       " 'the_area_provostdean': 45596,\n",
       " '2010-2011': 50919,\n",
       " 'defent': 28260,\n",
       " 'violently': 28218,\n",
       " 'inhibition': 17093,\n",
       " 'cluny': 14158,\n",
       " 'ghandi': 50105,\n",
       " 'liklihood': 48956,\n",
       " 'disposable': 21260,\n",
       " 'emergingdeveloping': 30115,\n",
       " 'solemn': 37478,\n",
       " 'contorl': 44340,\n",
       " 'impeachment': 14331,\n",
       " 'endeavor': 11828,\n",
       " 'routed': 13650,\n",
       " 'isaac_asimov': 51675,\n",
       " 'simulation': 16558,\n",
       " 'baymax': 26393,\n",
       " 'total_war_game': 26514,\n",
       " 'john_collier': 31597,\n",
       " 'mercenary': 10346,\n",
       " 'rbi': 19124,\n",
       " 'colonizes': 51418,\n",
       " 'conservative_presbyterian_church': 40042,\n",
       " 'reproducing': 23445,\n",
       " 'the_nhk_color': 34729,\n",
       " 'unwilling': 41700,\n",
       " 'the_majuro_declaration': 52222,\n",
       " 'att_broadband': 21825,\n",
       " 'st_pancras_international': 52671,\n",
       " 'west_bromwich_albion': 34285,\n",
       " 'freeway': 6869,\n",
       " 'waterwheel-powered': 30963,\n",
       " 'kony': 42906,\n",
       " 'normality': 47197,\n",
       " 'john_wesley': 12588,\n",
       " 'celebrity': 5952,\n",
       " 'blockading': 34235,\n",
       " 'the_fars_province': 18647,\n",
       " 'salah_ahmed': 46836,\n",
       " 'ballet': 7028,\n",
       " 'hyperinflation': 24980,\n",
       " 'cones': 21350,\n",
       " 'thrive': 4346,\n",
       " 'millennia': 16836,\n",
       " 'superhero': 10916,\n",
       " 'the_eastern_civilization': 49427,\n",
       " 'latino_americans': 50983,\n",
       " 'ps+': 42041,\n",
       " 'herman_goldstone': 27691,\n",
       " 'john_harris': 33286,\n",
       " '90_minutes': 30819,\n",
       " 'erectus': 40114,\n",
       " 'societal': 6074,\n",
       " 'davos': 50215,\n",
       " 'lodges': 3170,\n",
       " 'weather': 1235,\n",
       " 'daylighting': 27472,\n",
       " 'king_louis_xv': 51271,\n",
       " 'oracle-bone': 26167,\n",
       " 'pc_magazine': 24624,\n",
       " 'abducted': 45287,\n",
       " 'sundried': 36436,\n",
       " 'windows_rt': 11844,\n",
       " 'bone_society': 42389,\n",
       " 'contradictory': 8135,\n",
       " 'paul_vi': 1052,\n",
       " 'adolpt': 26059,\n",
       " '6000_years_ago': 47876,\n",
       " 'sunup': 35472,\n",
       " 'conservators': 38423,\n",
       " 'pigeons': 9039,\n",
       " 'tom_hiddleston': 26069,\n",
       " 'hinderance': 26294,\n",
       " 'self-select': 30702,\n",
       " 'nbc_blue': 30144,\n",
       " '1959_to_1973': 41256,\n",
       " 'phychology': 50760,\n",
       " 'he': 107,\n",
       " 'wenchuan': 11404,\n",
       " 'reformers': 6640,\n",
       " 'retrospectives': 29981,\n",
       " 'carotenoids': 12334,\n",
       " 'east_5th_street': 38134,\n",
       " 'inexperienced': 30274,\n",
       " 'manifest': 15444,\n",
       " 'mediatisation': 22307,\n",
       " 'non-dipolar': 24556,\n",
       " 'encompassed': 10592,\n",
       " 'supercontinent': 8767,\n",
       " 'accordance': 10627,\n",
       " 'overturns': 28050,\n",
       " 'destroy': 2403,\n",
       " 'mainau': 36843,\n",
       " \"grammy's_awards\": 27991,\n",
       " 'whigs': 5348,\n",
       " 'the_world_championships': 50694,\n",
       " 'the_uss_bogue': 41257,\n",
       " 'cayuga': 36417,\n",
       " 'genoa': 30976,\n",
       " 'gambetta': 31038,\n",
       " '15th_century': 28840,\n",
       " 'cream': 10188,\n",
       " 'lorenz': 13752,\n",
       " 'travaux': 45848,\n",
       " 'south_tuscon': 23619,\n",
       " 'ironbottom_sound': 47047,\n",
       " 'senatorial': 27605,\n",
       " 'stressed': 8543,\n",
       " 'occupation': 1332,\n",
       " 'dcsnet': 27096,\n",
       " 'main_street': 37021,\n",
       " 'hudon': 51320,\n",
       " 'fatty': 6119,\n",
       " 'liabilities': 34163,\n",
       " 'san_jose_department': 34751,\n",
       " 'burrough': 50043,\n",
       " 'roger_de_tosny': 40262,\n",
       " 'results': 1379,\n",
       " 'downing': 49278,\n",
       " 'north_tower': 42640,\n",
       " 'texts': 1646,\n",
       " \"'the_grand_concourse\": 23224,\n",
       " 'nicholas_steno': 27070,\n",
       " 'out_one': 48327,\n",
       " 'cpus': 9716,\n",
       " 'blossomed': 42257,\n",
       " 'marshals': 39670,\n",
       " 'prosody': 48981,\n",
       " 'miramar': 36057,\n",
       " 'methodology': 6973,\n",
       " 'cochlea': 32987,\n",
       " 'the_quebec_junior_football_league': 23400,\n",
       " 'super': 2500,\n",
       " 'hurricanes': 7842,\n",
       " 'ler_of': 44268,\n",
       " 'north_carolinas_7th': 32215,\n",
       " 'third-largest': 29420,\n",
       " 'software_assurance': 41165,\n",
       " 'between_14th_and_min_18th_century': 42527,\n",
       " 'the_football_association_premier_league': 30794,\n",
       " 'observances': 11477,\n",
       " 'chunks': 34272,\n",
       " 'wave-affiliated': 50372,\n",
       " '1983': 3786,\n",
       " 'ciliary': 23818,\n",
       " 'madrasahs': 14909,\n",
       " 'kosher': 31340,\n",
       " 'soviet_russian_republic': 25193,\n",
       " 'mouth': 4561,\n",
       " 'al-haramain_foundation': 48202,\n",
       " 'viskuli': 28196,\n",
       " 'abandoned': 3001,\n",
       " 'the_constitutional_court': 15145,\n",
       " 'major': 124,\n",
       " 'the_turnbull_government': 43638,\n",
       " 'redefine': 20482,\n",
       " 'the_armistice_of_mudros': 28497,\n",
       " 'tongzhi': 13675,\n",
       " 'grand_central_terminal': 39328,\n",
       " 'compact': 4503,\n",
       " 'conclave': 16980,\n",
       " 'moer': 45014,\n",
       " 'january_1844': 26933,\n",
       " 'latimer': 14026,\n",
       " 'admirers': 11415,\n",
       " 'bactrian': 17315,\n",
       " 'bolinopsis': 28789,\n",
       " 'assigns': 19980,\n",
       " 'incapicitated': 35765,\n",
       " 'hubble': 24850,\n",
       " 'lain_gray': 33101,\n",
       " 'evaluations': 14584,\n",
       " 'frozen': 9455,\n",
       " 'template': 10675,\n",
       " 'eyevision': 24492,\n",
       " 'afrikaans': 4996,\n",
       " 'nizam': 20586,\n",
       " 'demolishing': 28666,\n",
       " 'aircrews': 50316,\n",
       " 'often': 126,\n",
       " 'wallacea': 44153,\n",
       " 'at_least_seven_straight_days': 42696,\n",
       " 'expained': 29152,\n",
       " 'keynes': 15414,\n",
       " 'bayezid': 38603,\n",
       " 'mavericks': 36477,\n",
       " 'rodeo': 24286,\n",
       " 'stuco': 19741,\n",
       " 'precautions': 20745,\n",
       " 'refromed': 37046,\n",
       " 'werner_heisenberg': 34165,\n",
       " 'raffles_millennium_international': 39510,\n",
       " 'french_army_of_chalons': 28555,\n",
       " 'irreversible': 22049,\n",
       " 'scandale': 47096,\n",
       " '0': 9670,\n",
       " 'china': 222,\n",
       " 'starwave_mobile': 48903,\n",
       " 'gamesradar': 51481,\n",
       " 'the_french_emperor_napoleon': 25561,\n",
       " 'rabbinical': 36389,\n",
       " 'westquay': 47350,\n",
       " 'aec': 14260,\n",
       " 'finance': 3761,\n",
       " 'cajmere': 29443,\n",
       " 'detroit_center': 27811,\n",
       " 'soundtrack': 3918,\n",
       " 'underprivileged': 25040,\n",
       " 'modern_greek': 46449,\n",
       " 'run-off': 45158,\n",
       " 'queen_of_popular_music': 44088,\n",
       " 'write-up': 39818,\n",
       " 'crowded': 25485,\n",
       " 'huguenot-descended': 25637,\n",
       " 'wembley': 11490,\n",
       " 'substrate': 27503,\n",
       " 'cushitic': 37406,\n",
       " 'symbollically': 47756,\n",
       " 'the_dartford_sister': 42986,\n",
       " 'sensible': 28694,\n",
       " 'june_2010': 11536,\n",
       " 'bernini': 40988,\n",
       " 'steel-wire': 45475,\n",
       " 'beneventum': 28801,\n",
       " 'applicability': 27346,\n",
       " 'high_school': 24557,\n",
       " 'absorb': 3178,\n",
       " 'smtp': 39880,\n",
       " 'alzheimers': 28257,\n",
       " 'aluminum': 5858,\n",
       " 'ecologists': 17182,\n",
       " 'rest-mass': 44614,\n",
       " \"the_hundred_years'_war\": 16739,\n",
       " 'high-altitude': 26521,\n",
       " 'in-flight': 25032,\n",
       " 'stems': 8749,\n",
       " 'terminology': 12160,\n",
       " 'beomce': 45721,\n",
       " 'stereotype': 23395,\n",
       " 'the_library_of_congress': 18015,\n",
       " 'value': 638,\n",
       " 'poem': 3274,\n",
       " 'the_champalimaud_foundation': 22052,\n",
       " 'queen_of_england': 22205,\n",
       " 'the_methodist_church': 21025,\n",
       " 'porpular': 49663,\n",
       " 'oriental': 13868,\n",
       " 'fallibilism': 34078,\n",
       " 'theodore_hesburgh_library': 33322,\n",
       " 'the_late_80s': 13013,\n",
       " '1889': 9415,\n",
       " 'the_sugarland_express': 18254,\n",
       " 'g3p': 41736,\n",
       " 'julio_iglesias': 42886,\n",
       " 'bismark': 36621,\n",
       " 'costs': 2933,\n",
       " 'june_2012': 12501,\n",
       " 'constructrion': 34701,\n",
       " 'stenus': 46313,\n",
       " 'tamar': 15726,\n",
       " 'cargo_gateway_of_the_americas': 29055,\n",
       " 'neurotansmitter': 39846,\n",
       " 'fences': 17306,\n",
       " 'dwipa': 26733,\n",
       " 'non-verbal': 40973,\n",
       " '1_of': 47483,\n",
       " 'the_new_jim_crow_mass_incarceration_in_the_age_of_colorblindness': 52545,\n",
       " 'alfranj': 51484,\n",
       " 'discovery': 2408,\n",
       " 'togas': 24828,\n",
       " 'the_charleston_police_department': 14479,\n",
       " 'sexes': 25573,\n",
       " 'itu-r': 14518,\n",
       " 'may_2003': 37503,\n",
       " 'between_1948_and_1958': 37238,\n",
       " 'nuncio': 26856,\n",
       " 'inmate': 46714,\n",
       " 'sweeping': 16746,\n",
       " 'the_act_of_1946': 37280,\n",
       " 'rb': 5124,\n",
       " 'censuses': 11396,\n",
       " 'recommends': 13027,\n",
       " 'endeavoured': 34175,\n",
       " 'distinguishments': 37347,\n",
       " '2015-2016': 48111,\n",
       " 'spiral_scratch': 33934,\n",
       " 'assume': 3210,\n",
       " 'khitan_tumens': 29490,\n",
       " 'amity': 9903,\n",
       " 'father_edward_sorin': 13828,\n",
       " 'house_of_assembly': 48366,\n",
       " 'the_dutch_navy': 28886,\n",
       " 'elba': 43220,\n",
       " 'free-to-air': 11607,\n",
       " 'milonga': 52168,\n",
       " 'bundled': 7484,\n",
       " 'testing': 1080,\n",
       " 'the_game_of_asscociation_football': 45765,\n",
       " 'the_state_summer_residence': 24078,\n",
       " 'popularized': 6063,\n",
       " 'rillito_river_park': 24926,\n",
       " 'milton_eisenhower': 41135,\n",
       " 'experiences': 3453,\n",
       " 'the_next': 20383,\n",
       " 'cubbie-bear': 36105,\n",
       " 'pelosi': 30479,\n",
       " 'virginia_biotechnology_research': 44667,\n",
       " 'conscious': 12453,\n",
       " 'cultivated': 6076,\n",
       " 'the_glastonbury_music': 40529,\n",
       " 'useage': 23867,\n",
       " 'room': 2108,\n",
       " 'the_high_renaissance': 38447,\n",
       " 'subsidizing': 45995,\n",
       " '68mcu': 36957,\n",
       " 'george_humphrey': 51139,\n",
       " 'bees': 8775,\n",
       " 'writ': 35396,\n",
       " 'pleasant': 50595,\n",
       " 'st_helens': 36426,\n",
       " 'meadwestvaco': 47288,\n",
       " 'yehuda_hachasid': 39493,\n",
       " 'virtue': 10550,\n",
       " 'mixed_race': 28707,\n",
       " 'lawrence': 7976,\n",
       " 'opisthokonts': 17561,\n",
       " 'inter-chip': 15871,\n",
       " 'too-fast': 46857,\n",
       " 'the_raleigh_cougars': 30109,\n",
       " 'waihopai': 45885,\n",
       " 'riding': 7951,\n",
       " 'financial': 497,\n",
       " 'unrest': 6305,\n",
       " 'realms': 5804,\n",
       " 'girls_love_beyoncé': 39498,\n",
       " 'maintain': 2046,\n",
       " \"'caged\": 41079,\n",
       " 'horner': 49953,\n",
       " 'madrasah': 8888,\n",
       " 'launced': 42788,\n",
       " 'chalk': 23564,\n",
       " 'charles_hartshorne': 24169,\n",
       " 'brits': 17906,\n",
       " 'treaty_of_alliance': 39692,\n",
       " 'panoramic': 30958,\n",
       " 'the_world_war_ii': 19088,\n",
       " 'david_quammen': 52280,\n",
       " 'posits': 17215,\n",
       " 'arctic': 6532,\n",
       " 'early_settlers': 37083,\n",
       " 'adinath': 29674,\n",
       " 'pariah': 20280,\n",
       " 'harp': 44803,\n",
       " 'unemployment': 2294,\n",
       " 'dynagroove': 51997,\n",
       " 'manx': 15404,\n",
       " 'embezzle': 50656,\n",
       " 'the_proterozoic_era': 29868,\n",
       " 'connecter': 50517,\n",
       " 'deg': 31974,\n",
       " 'seminole': 47085,\n",
       " 'the_wayback_machine': 7932,\n",
       " 'journeys': 29854,\n",
       " 'the_center_for_new_religions': 39622,\n",
       " 'wealthy': 4239,\n",
       " 'irina_margareta_nistor': 44126,\n",
       " 'between_the_ice_sheets': 34306,\n",
       " 'serpent': 37812,\n",
       " 'royalties': 22301,\n",
       " 'godfather': 21953,\n",
       " 'meanings': 8023,\n",
       " '1-1': 47562,\n",
       " 'honour_for_services': 33662,\n",
       " 'ed_policy': 17930,\n",
       " 'bbc2': 13658,\n",
       " \"'the_kidnapping_of_edgardo_mortara\": 21124,\n",
       " 'humble': 20526,\n",
       " 'pleuobrachia': 25628,\n",
       " 'ray_holmes': 13605,\n",
       " '1203': 17521,\n",
       " 'militarism': 18501,\n",
       " 'prop': 22517,\n",
       " 'the_thanksgiving_day': 47748,\n",
       " 'vassilis_vryonides': 38307,\n",
       " 'rescator': 46086,\n",
       " 'essays': 11077,\n",
       " 'kms': 46134,\n",
       " 'resupplying': 49787,\n",
       " '6': 4204,\n",
       " 'the_us': 5523,\n",
       " 'tetragraph': 39653,\n",
       " 'maney': 32210,\n",
       " 'granite_peak': 37255,\n",
       " 'anti-christian': 41869,\n",
       " 'obstruction': 10828,\n",
       " 'equilateral': 35856,\n",
       " '1870': 7129,\n",
       " 'ranunculus': 47806,\n",
       " 'newsstand': 51109,\n",
       " 'colonialism': 5537,\n",
       " 'expels': 50355,\n",
       " 'the_beauty_of_durres': 27843,\n",
       " 'funny': 21736,\n",
       " 'remind': 10455,\n",
       " 'incurs': 41922,\n",
       " 'hemagglutinin': 46655,\n",
       " 'startup': 11021,\n",
       " 'suddhodana': 32637,\n",
       " 'take_me_out_to_a_cubs_game': 43519,\n",
       " 'authenticated': 47728,\n",
       " 'ectoderm': 21318,\n",
       " 'mp2': 51699,\n",
       " 'oscar': 9161,\n",
       " 'the_dc_national_guard': 25237,\n",
       " 'occur': 209,\n",
       " 'trident': 11763,\n",
       " 'theist': 21539,\n",
       " 'corrected': 8267,\n",
       " 'walmart': 44608,\n",
       " 'singledouble_summer_time': 50871,\n",
       " 'voice-aspirated': 40077,\n",
       " 'farenheit': 37123,\n",
       " 'the_wagner_act': 33788,\n",
       " 'almost_14_of': 27450,\n",
       " 'nonprofit': 8929,\n",
       " 'the_adrienne_arsht_center_for': 19877,\n",
       " 'absorbs': 8538,\n",
       " 'the_williams_tower': 52264,\n",
       " 'hinduism': 5055,\n",
       " 'diminished': 6988,\n",
       " 'bomb-shelters': 40903,\n",
       " 'frigid': 32756,\n",
       " 'cremyll-stonehouse': 47273,\n",
       " '406_of': 38859,\n",
       " 'alone': 3483,\n",
       " 'motors': 1953,\n",
       " 'fuly': 49326,\n",
       " 'locks': 21883,\n",
       " 'floing': 35685,\n",
       " '90th': 16049,\n",
       " 'bielany_forest': 37904,\n",
       " 'sheffield': 50896,\n",
       " 'hurling': 49810,\n",
       " 'vincent': 42724,\n",
       " 'proportions': 15631,\n",
       " 'raf_brize': 33159,\n",
       " 'principalities': 7287,\n",
       " 'gerald_freedman': 47321,\n",
       " 'the_european_age_of': 29611,\n",
       " 'the_kashmir_shaivism': 36687,\n",
       " 'eager': 37540,\n",
       " 'violinists': 36569,\n",
       " 'instructive': 44264,\n",
       " 'employ': 2847,\n",
       " '525-line': 45255,\n",
       " 'manor': 15269,\n",
       " 'silver_samurai': 43034,\n",
       " 'tesserae': 9192,\n",
       " 'gilded': 23668,\n",
       " 'university_town': 20865,\n",
       " 'affective-motivational': 25569,\n",
       " 'specify': 5068,\n",
       " 'march_of_1953': 30880,\n",
       " 'vital': 4957,\n",
       " 'mexican-american': 12870,\n",
       " 'the_google_book_search': 46825,\n",
       " 'dbase': 11294,\n",
       " 'jesus_a': 31673,\n",
       " 'the_forney_library': 27161,\n",
       " 'zone': 1967,\n",
       " 'imperialists': 36970,\n",
       " 'fasted': 38271,\n",
       " 'meatpacking_district': 18681,\n",
       " '11-plus': 49874,\n",
       " 'vasaris': 31609,\n",
       " 'sinagapore': 31503,\n",
       " 'talbot_hughes': 26618,\n",
       " 'frontal': 31452,\n",
       " 'moths': 10078,\n",
       " 'un-elected': 27392,\n",
       " 'mayow': 22122,\n",
       " 'voyage': 5421,\n",
       " 'lawmaking': 11268,\n",
       " 'career': 1442,\n",
       " 'fitna': 51469,\n",
       " 'overdependence': 35629,\n",
       " 'objected': 8142,\n",
       " 'recall': 6182,\n",
       " 'east_2nd_street': 44696,\n",
       " 'paleogeographic': 33185,\n",
       " 'ostsiedlung': 45573,\n",
       " 'castel_gofolfo': 41950,\n",
       " 'southwest_asia': 47600,\n",
       " 'social_policy': 32681,\n",
       " 'ayyubid': 35787,\n",
       " 'm1a2_abrams': 44566,\n",
       " 'swakopmund': 24950,\n",
       " 'enobled': 25440,\n",
       " 'the_national_presbyterian_church': 50083,\n",
       " 'wall-paintings': 33245,\n",
       " 'insulating': 32632,\n",
       " 'fatima_house': 24623,\n",
       " 'hugh_wood': 51122,\n",
       " 'mode': 2789,\n",
       " 'mustaqbal_media_corporation': 26701,\n",
       " 'akbar': 41481,\n",
       " 'moleben': 18916,\n",
       " 'its_first_season': 19501,\n",
       " 'ecology': 8460,\n",
       " 'wolf_link_amiibo': 37180,\n",
       " 'fishguard': 42763,\n",
       " 'interfere': 8273,\n",
       " '2008-2009': 19949,\n",
       " 'the_higher_education_commission': 42050,\n",
       " 'chromatophores': 51875,\n",
       " 'ends': 4926,\n",
       " 'mosaics': 1488,\n",
       " 'lindzen': 21726,\n",
       " 'byng': 41287,\n",
       " 'selena': 35733,\n",
       " 'between_1973_and_2015': 28914,\n",
       " 'via': 1805,\n",
       " 'equinut': 19121,\n",
       " 'galloway': 18960,\n",
       " 'exerted': 23128,\n",
       " 'mandatory_palestine': 35977,\n",
       " 'morelos': 44482,\n",
       " 'raided': 7847,\n",
       " 'deadweight': 41776,\n",
       " 'the_arabian_peninsula': 13630,\n",
       " 'karl_von_löesch': 25501,\n",
       " 'highschools': 41224,\n",
       " 'tuileries_garden': 51115,\n",
       " 'overlord': 24832,\n",
       " 'noticeable': 12908,\n",
       " 'interdenominational': 42909,\n",
       " 'opera_america': 46504,\n",
       " 'laserdiscs': 4020,\n",
       " 'kreep': 44530,\n",
       " 'the_calendar_act': 31995,\n",
       " 'als': 23229,\n",
       " 'the_evanston_campus_framework_plan': 30389,\n",
       " 'contributor': 7721,\n",
       " 'diego_maradona': 19250,\n",
       " 'accumulating': 14607,\n",
       " 'ironing': 34053,\n",
       " 'cd-r': 38794,\n",
       " 'waqfs': 37438,\n",
       " 'espanyol': 6208,\n",
       " 'stratigraphy': 30604,\n",
       " 'neo_plasticism': 34083,\n",
       " 'arthurian': 40455,\n",
       " 'many_years_older': 33532,\n",
       " 'postmodernism': 31257,\n",
       " 'fibre': 22571,\n",
       " 'm5': 51440,\n",
       " 'mengjiang': 44333,\n",
       " 'the_sedition_act': 29610,\n",
       " 'stoning': 28386,\n",
       " 'slate': 9268,\n",
       " 'september_2006': 18770,\n",
       " 'birding': 25192,\n",
       " 'rewe-zentrale_ag': 34595,\n",
       " 'emulators': 15407,\n",
       " 'jessica_sanchez': 14638,\n",
       " 'republic_day': 17298,\n",
       " 'sanitarium': 15180,\n",
       " 'hamaynkner': 33905,\n",
       " 'parchments': 25320,\n",
       " 'the_detroit_medical_center': 25295,\n",
       " 'brigadier': 25991,\n",
       " 'paula_abdul': 10776,\n",
       " 'pre-christian': 38804,\n",
       " 'relaunch': 23550,\n",
       " 'said': 241,\n",
       " 'resume': 5739,\n",
       " 'world_war_i': 3007,\n",
       " 'mediates': 48141,\n",
       " 'israelites': 15868,\n",
       " 'chhauni_silkhana': 36121,\n",
       " 'the_kings_court': 27653,\n",
       " 'documentary': 4053,\n",
       " 'lexical': 18821,\n",
       " 'origional': 50143,\n",
       " 'adaptively': 23869,\n",
       " 'guinean': 50622,\n",
       " 'legumes': 15917,\n",
       " 'london-based': 22642,\n",
       " 'the_indian_rebellion': 7477,\n",
       " 'simplified': 10818,\n",
       " 'palaeopolis': 46446,\n",
       " 'dragon': 14312,\n",
       " 'beer-like': 24999,\n",
       " 'gou': 14333,\n",
       " 'titles': 1826,\n",
       " 'pan-slavic': 42858,\n",
       " 'regis': 50671,\n",
       " 'the_city_government': 35866,\n",
       " 'driven': 5248,\n",
       " 'ratification': 8933,\n",
       " 'museums': 4267,\n",
       " \"'tamari_ostia\": 52256,\n",
       " 'maradona': 24694,\n",
       " \"'instrumentalism\": 31846,\n",
       " 'mdna': 10624,\n",
       " 'asympotic': 39004,\n",
       " 'paulinella': 44436,\n",
       " 'the_federalist_papers': 47506,\n",
       " 'retests': 44492,\n",
       " 'loyalties': 17714,\n",
       " 'scientism': 20298,\n",
       " 'archived': 19105,\n",
       " 'monatomic': 40002,\n",
       " 'the_day_of_the_175th_anniversary': 37326,\n",
       " 'four_months': 16646,\n",
       " '500-1400': 29400,\n",
       " 'two-phased': 36317,\n",
       " 'proficient': 12470,\n",
       " 'descended': 2752,\n",
       " 'governatorate': 33821,\n",
       " 'fim': 49548,\n",
       " 'watermill': 25353,\n",
       " 'aboral': 14792,\n",
       " 'no_boundaries': 46312,\n",
       " 'mostly-unplanned': 41921,\n",
       " 'historicism': 24106,\n",
       " 'frederick_zugibe': 38105,\n",
       " 'environmentin': 32150,\n",
       " 'nazis': 5490,\n",
       " 'transactions': 9545,\n",
       " 'heritage': 2633,\n",
       " 'odc': 52124,\n",
       " 'vaccum': 40839,\n",
       " 'suez_canal': 8998,\n",
       " 'beara': 36751,\n",
       " 'one-charger-fits-all': 41314,\n",
       " 'cary': 24596,\n",
       " 'demonized': 34864,\n",
       " 'ifpi': 46743,\n",
       " 'liveable': 9432,\n",
       " 'renaissance_humanism': 37697,\n",
       " 'robert_j_shiller': 32423,\n",
       " 'the_greatest_hits_compilation': 32065,\n",
       " 'foreshore': 22468,\n",
       " 'bronx': 888,\n",
       " 'donald_davies_develop': 27535,\n",
       " 'doson': 18578,\n",
       " 'nizari': 49061,\n",
       " 'radioactivity': 38173,\n",
       " 'emerge': 3061,\n",
       " 'james_lovell': 28070,\n",
       " 'boer': 34859,\n",
       " 'object-relational': 23251,\n",
       " 'readings': 8649,\n",
       " 'benigno_andrade': 42285,\n",
       " 'chickamauga': 41341,\n",
       " 'pla_north_east': 32388,\n",
       " '1922_to_1954': 43443,\n",
       " 'saint_fm': 8831,\n",
       " 'friars': 5634,\n",
       " 'floating': 10174,\n",
       " 'hamlet': 20519,\n",
       " 'creationism': 37087,\n",
       " 'climbed': 11598,\n",
       " 'sh': 20809,\n",
       " 'four-note': 15857,\n",
       " 'roland_faber': 43382,\n",
       " 'magnetoception': 29391,\n",
       " 'replicate': 11605,\n",
       " 'usb_implementers_forum': 38385,\n",
       " 'js_bach': 24889,\n",
       " 'imperial_college_union': 29795,\n",
       " 'tranformers': 37120,\n",
       " 'every_7700_years': 49984,\n",
       " 'burns': 17504,\n",
       " 'days': 1748,\n",
       " 'cittern': 30375,\n",
       " 'arr': 26682,\n",
       " 'the_detroit_opera_house': 32341,\n",
       " 'balta_liman': 18837,\n",
       " 'black_sabbath': 14742,\n",
       " 'the_ashkenazi': 48406,\n",
       " 'aeolic': 40822,\n",
       " 'somewhat': 6266,\n",
       " 'peter_jennings': 27918,\n",
       " 'merriam-webster': 17062,\n",
       " 'landlords': 12480,\n",
       " 'eople': 24672,\n",
       " 'circuit': 1963,\n",
       " 'imperial_university': 35620,\n",
       " 'the_month_of_august': 19875,\n",
       " 'phil_skinner': 16068,\n",
       " 'scheme': 2462,\n",
       " 'the_beichuan_fault': 17473,\n",
       " 'everett-seattle': 42069,\n",
       " 'multi-party': 19130,\n",
       " 'the_great_gatsby': 21515,\n",
       " \"people's_deputies\": 39140,\n",
       " 'intuitive': 31363,\n",
       " 'spanish_america': 17483,\n",
       " 'pieces': 2078,\n",
       " 'baths': 13622,\n",
       " 'circuitous': 42116,\n",
       " 'executive_vp_of_label_strategy': 30679,\n",
       " 'sponsorship': 6227,\n",
       " 'subdivisions': 26872,\n",
       " 'proprietors': 49581,\n",
       " 'postponed': 12958,\n",
       " 'the_zhejiang_communist_party': 47115,\n",
       " 'stunt': 14713,\n",
       " 'subway': 4306,\n",
       " 'discus': 49044,\n",
       " 'loops': 23107,\n",
       " 'localizing': 15729,\n",
       " 'circassians': 43471,\n",
       " '1960s': 13042,\n",
       " 'the_scientific_revolution': 9284,\n",
       " 'teresa': 22672,\n",
       " 'runner-up': 47048,\n",
       " 'xylem': 25700,\n",
       " 'germania_inferior': 37730,\n",
       " ...}"
      ]
     },
     "execution_count": 10,
     "metadata": {},
     "output_type": "execute_result"
    }
   ],
   "source": [
    "word2index"
   ]
  },
  {
   "cell_type": "code",
   "execution_count": 11,
   "metadata": {},
   "outputs": [
    {
     "data": {
      "text/plain": [
       "[1, 3, 2206, 9, 388, 498, 93, 108, 5, 0]"
      ]
     },
     "execution_count": 11,
     "metadata": {},
     "output_type": "execute_result"
    }
   ],
   "source": [
    "tokenized_indexed_sentences[0]"
   ]
  },
  {
   "cell_type": "code",
   "execution_count": 12,
   "metadata": {
    "collapsed": true
   },
   "outputs": [],
   "source": [
    "tokenized_indexed_sentences = [np.array(sentence) + 1 for sentence in tokenized_indexed_sentences if len(sentence) > 0]"
   ]
  },
  {
   "cell_type": "code",
   "execution_count": 13,
   "metadata": {},
   "outputs": [
    {
     "data": {
      "text/plain": [
       "array([   2,    4, 2207,   10,  389,  499,   94,  109,    6,    1])"
      ]
     },
     "execution_count": 13,
     "metadata": {},
     "output_type": "execute_result"
    }
   ],
   "source": [
    "tokenized_indexed_sentences[0]"
   ]
  },
  {
   "cell_type": "code",
   "execution_count": 14,
   "metadata": {
    "collapsed": true
   },
   "outputs": [],
   "source": [
    "new_weights = np.zeros((1, word2vec_weights.shape[1]))"
   ]
  },
  {
   "cell_type": "code",
   "execution_count": 15,
   "metadata": {
    "collapsed": true
   },
   "outputs": [],
   "source": [
    "new_weights = np.append(new_weights, word2vec_weights, axis=0)"
   ]
  },
  {
   "cell_type": "code",
   "execution_count": 16,
   "metadata": {},
   "outputs": [
    {
     "data": {
      "text/plain": [
       "(52731, 300)"
      ]
     },
     "execution_count": 16,
     "metadata": {},
     "output_type": "execute_result"
    }
   ],
   "source": [
    "new_weights.shape"
   ]
  },
  {
   "cell_type": "code",
   "execution_count": 17,
   "metadata": {},
   "outputs": [
    {
     "data": {
      "text/plain": [
       "array([ 0.35742188,  0.03369141, -0.03881836,  0.07666016, -0.06079102,\n",
       "        0.6328125 ,  0.05615234,  0.04345703,  0.00265503, -0.21582031,\n",
       "        0.40234375, -0.0559082 , -0.15820312,  0.21289062,  0.28710938,\n",
       "        0.54296875, -0.13085938,  0.14746094,  0.06738281, -0.171875  ,\n",
       "        0.07373047, -0.0006485 , -0.10986328, -0.13476562,  0.06152344,\n",
       "       -0.03833008, -0.07519531, -0.00221252,  0.09179688, -0.37890625,\n",
       "       -0.31054688, -0.07666016, -0.484375  , -0.0546875 , -0.13183594,\n",
       "       -0.33203125,  0.20996094,  0.25      ,  0.0534668 ,  0.08496094,\n",
       "       -0.1875    ,  0.09960938,  0.24902344, -0.07714844, -0.01123047,\n",
       "       -0.06787109,  0.21191406, -0.11865234, -0.01660156,  0.22265625,\n",
       "       -0.37695312,  0.36914062, -0.51171875,  0.06640625, -0.19726562,\n",
       "       -0.01818848,  0.0612793 , -0.21582031,  0.13574219, -0.08154297,\n",
       "        0.18652344,  0.3203125 ,  0.26367188,  0.24609375,  0.01208496,\n",
       "        0.04931641,  0.18652344,  0.29296875,  0.21289062,  0.06884766,\n",
       "        0.13476562, -0.17480469, -0.02246094,  0.25195312,  0.02380371,\n",
       "       -0.00354004,  0.09228516,  0.1953125 , -0.07763672, -0.13867188,\n",
       "        0.05175781,  0.17578125, -0.02124023, -0.38476562, -0.16992188,\n",
       "       -0.12597656, -0.11376953,  0.13671875, -0.06835938, -0.00921631,\n",
       "        0.04394531, -0.27148438, -0.45703125, -0.08837891,  0.04321289,\n",
       "        0.15332031,  0.1796875 , -0.02099609,  0.20507812, -0.05688477,\n",
       "        0.10839844, -0.12011719,  0.203125  , -0.31054688,  0.28125   ,\n",
       "       -0.23828125, -0.44921875, -0.02966309,  0.19628906, -0.36523438,\n",
       "        0.05761719,  0.15527344,  0.10742188,  0.23242188, -0.13085938,\n",
       "        0.14257812, -0.32617188,  0.09423828,  0.32421875,  0.00183868,\n",
       "        0.20703125,  0.203125  ,  0.07617188, -0.17285156, -0.10449219,\n",
       "        0.15136719, -0.06542969,  0.11083984,  0.04956055,  0.25585938,\n",
       "       -0.10302734, -0.08886719, -0.23925781,  0.11328125,  0.14941406,\n",
       "       -0.03833008,  0.12402344,  0.13085938,  0.19433594,  0.03613281,\n",
       "        0.0072937 , -0.0612793 , -0.20703125,  0.38867188,  0.12988281,\n",
       "        0.23925781, -0.36523438,  0.265625  , -0.50390625,  0.21679688,\n",
       "        0.26367188,  0.05566406, -0.26757812,  0.23632812, -0.171875  ,\n",
       "       -0.11181641,  0.16796875, -0.23925781, -0.02380371,  0.10400391,\n",
       "       -0.20117188,  0.12402344, -0.10546875,  0.02233887,  0.15234375,\n",
       "        0.31640625,  0.05322266, -0.20214844,  0.13769531,  0.00442505,\n",
       "        0.14550781, -0.0703125 ,  0.17382812, -0.18457031, -0.21191406,\n",
       "        0.07275391, -0.1640625 , -0.01660156, -0.0019989 ,  0.01361084,\n",
       "        0.04223633, -0.01116943,  0.05786133, -0.13378906, -0.24804688,\n",
       "       -0.38085938, -0.03100586, -0.10839844,  0.21386719,  0.03686523,\n",
       "       -0.11279297,  0.34765625,  0.20507812, -0.14941406,  0.05175781,\n",
       "       -0.06445312, -0.16210938, -0.15917969, -0.12792969, -0.18554688,\n",
       "       -0.08007812,  0.02526855, -0.17285156,  0.14550781,  0.1015625 ,\n",
       "        0.04321289, -0.19433594,  0.10107422,  0.11279297, -0.14453125,\n",
       "       -0.53125   , -0.21679688, -0.02258301, -0.09277344, -0.02612305,\n",
       "        0.14453125,  0.10839844, -0.23242188, -0.34765625, -0.09423828,\n",
       "        0.19726562,  0.06054688,  0.11230469, -0.16894531, -0.21972656,\n",
       "        0.12011719,  0.18164062, -0.0177002 , -0.18359375, -0.22070312,\n",
       "        0.09863281, -0.06787109, -0.36132812,  0.09423828, -0.00601196,\n",
       "        0.38085938,  0.2890625 , -0.02661133, -0.14550781,  0.02832031,\n",
       "        0.3984375 , -0.1328125 ,  0.09960938,  0.04882812,  0.03466797,\n",
       "       -0.05078125,  0.25390625,  0.09716797,  0.06152344, -0.16210938,\n",
       "       -0.11523438,  0.07861328,  0.47851562,  0.546875  ,  0.05859375,\n",
       "       -0.15039062, -0.08398438, -0.22070312,  0.25195312,  0.14355469,\n",
       "       -0.18457031, -0.22851562, -0.11767578,  0.21386719, -0.14746094,\n",
       "        0.02307129, -0.20019531, -0.09423828,  0.1015625 , -0.04589844,\n",
       "       -0.09472656,  0.03320312, -0.06835938,  0.05566406,  0.30273438,\n",
       "       -0.0456543 , -0.02111816,  0.18847656,  0.33007812,  0.3984375 ,\n",
       "        0.12695312, -0.03173828,  0.35742188, -0.12792969,  0.28320312,\n",
       "       -0.17773438, -0.29101562, -0.10839844, -0.13183594,  0.15527344,\n",
       "        0.20800781,  0.2734375 , -0.14355469, -0.11865234, -0.16699219,\n",
       "       -0.04101562, -0.03564453,  0.00174713, -0.0859375 , -0.17773438])"
      ]
     },
     "execution_count": 17,
     "metadata": {},
     "output_type": "execute_result"
    }
   ],
   "source": [
    "new_weights[52730]"
   ]
  },
  {
   "cell_type": "markdown",
   "metadata": {},
   "source": [
    "### generating training data"
   ]
  },
  {
   "cell_type": "code",
   "execution_count": 18,
   "metadata": {},
   "outputs": [
    {
     "name": "stdout",
     "output_type": "stream",
     "text": [
      "52730\n"
     ]
    }
   ],
   "source": [
    "window_size = 5\n",
    "vocab_size = len(word2index)\n",
    "print(vocab_size)"
   ]
  },
  {
   "cell_type": "code",
   "execution_count": 19,
   "metadata": {
    "collapsed": true
   },
   "outputs": [],
   "source": [
    "maxlen = max([len(sentence) for sentence in tokenized_indexed_sentences])"
   ]
  },
  {
   "cell_type": "code",
   "execution_count": 20,
   "metadata": {
    "collapsed": true
   },
   "outputs": [],
   "source": [
    "tokenized_indexed_sentences = sequence.pad_sequences(tokenized_indexed_sentences)"
   ]
  },
  {
   "cell_type": "code",
   "execution_count": 24,
   "metadata": {},
   "outputs": [
    {
     "data": {
      "text/plain": [
       "42"
      ]
     },
     "execution_count": 24,
     "metadata": {},
     "output_type": "execute_result"
    }
   ],
   "source": [
    "len(tokenized_indexed_sentences[0])"
   ]
  },
  {
   "cell_type": "code",
   "execution_count": 25,
   "metadata": {},
   "outputs": [
    {
     "name": "stdout",
     "output_type": "stream",
     "text": [
      "Number of samples :  97974\n"
     ]
    }
   ],
   "source": [
    "seq_in = []\n",
    "seq_out = []\n",
    "# generating dataset\n",
    "tokenized_indexed_sentences = [sentence for sentence in tokenized_indexed_sentences if len(sentence) > 0]\n",
    "for sentence in tokenized_indexed_sentences:\n",
    "    x = sentence\n",
    "    y = np.append(sentence[1:], np.array(sentence[len(sentence)-1]))\n",
    "    seq_in.append(x)\n",
    "    seq_out.append([new_weights[index] for index in y])\n",
    "\n",
    "# converting seq_in and seq_out into numpy array\n",
    "seq_in = np.array(seq_in)\n",
    "seq_out = np.array(seq_out)\n",
    "n_samples = len(seq_in)\n",
    "print (\"Number of samples : \", n_samples)"
   ]
  },
  {
   "cell_type": "markdown",
   "metadata": {},
   "source": [
    "## Defining model"
   ]
  },
  {
   "cell_type": "code",
   "execution_count": 26,
   "metadata": {},
   "outputs": [
    {
     "name": "stdout",
     "output_type": "stream",
     "text": [
      "_________________________________________________________________\n",
      "Layer (type)                 Output Shape              Param #   \n",
      "=================================================================\n",
      "embedding_1 (Embedding)      (None, None, 300)         15819300  \n",
      "_________________________________________________________________\n",
      "lstm_1 (LSTM)                (None, None, 1024)        5427200   \n",
      "_________________________________________________________________\n",
      "lstm_2 (LSTM)                (None, None, 1024)        8392704   \n",
      "_________________________________________________________________\n",
      "lstm_3 (LSTM)                (None, None, 300)         1590000   \n",
      "=================================================================\n",
      "Total params: 31,229,204\n",
      "Trainable params: 31,229,204\n",
      "Non-trainable params: 0\n",
      "_________________________________________________________________\n"
     ]
    }
   ],
   "source": [
    "# Changes to the model to be done here\n",
    "model = Sequential()\n",
    "model.add(Embedding(input_dim=new_weights.shape[0], output_dim=new_weights.shape[1], weights=[new_weights], mask_zero=True))\n",
    "model.add(LSTM(1024, return_sequences=True))\n",
    "model.add(LSTM(1024, return_sequences=True))\n",
    "model.add(LSTM(300, return_sequences=True))\n",
    "model.load_weights(\"../weights/lstm-3-1024-1024-batchsize-512-epochs-30-Sequence/weights.29.hdf5\")\n",
    "model.compile(loss='cosine_proximity', optimizer='adam',metrics=['accuracy'])\n",
    "model.summary()"
   ]
  },
  {
   "cell_type": "code",
   "execution_count": 27,
   "metadata": {
    "collapsed": true
   },
   "outputs": [],
   "source": [
    "model_weights_path = \"../weights/lstm-3-1024-1024-batchsize-512-epochs-30-Sequence\"\n",
    "if not os.path.exists(model_weights_path):\n",
    "    os.makedirs(model_weights_path)\n",
    "checkpoint_path = model_weights_path + '/weights.{epoch:02d}.hdf5'\n",
    "checkpoint = ModelCheckpoint(filepath=checkpoint_path, verbose=1, save_best_only=False, mode='max')"
   ]
  },
  {
   "cell_type": "markdown",
   "metadata": {},
   "source": [
    "## Train Model"
   ]
  },
  {
   "cell_type": "code",
   "execution_count": 28,
   "metadata": {
    "collapsed": true
   },
   "outputs": [],
   "source": [
    "# model.fit(seq_in, seq_out, epochs=30, verbose=1, batch_size=512, callbacks=[checkpoint])"
   ]
  },
  {
   "cell_type": "code",
   "execution_count": 95,
   "metadata": {
    "collapsed": true
   },
   "outputs": [],
   "source": [
    "accuracy = model.evaluate(seq_in, seq_out, verbose=0)"
   ]
  },
  {
   "cell_type": "markdown",
   "metadata": {},
   "source": [
    "### model predict"
   ]
  },
  {
   "cell_type": "code",
   "execution_count": null,
   "metadata": {
    "collapsed": true
   },
   "outputs": [],
   "source": []
  },
  {
   "cell_type": "code",
   "execution_count": 96,
   "metadata": {},
   "outputs": [
    {
     "data": {
      "text/plain": [
       "[-0.00093102607380229658, 0.12032599566464017]"
      ]
     },
     "execution_count": 96,
     "metadata": {},
     "output_type": "execute_result"
    }
   ],
   "source": [
    "accuracy"
   ]
  },
  {
   "cell_type": "code",
   "execution_count": null,
   "metadata": {
    "collapsed": true
   },
   "outputs": [],
   "source": []
  },
  {
   "cell_type": "code",
   "execution_count": 99,
   "metadata": {
    "scrolled": true
   },
   "outputs": [
    {
     "name": "stdout",
     "output_type": "stream",
     "text": [
      "indexed_sentences  [1, 11, 8, 2]\n",
      "\" squadstart how is the\n",
      "consociational used for the "
     ]
    }
   ],
   "source": [
    "start = 0\n",
    "sentence_test = \"how is the \"\n",
    "indexed_sentences = embeddings.get_indexed_query(sentence_test)\n",
    "print(\"indexed_sentences \",indexed_sentences)\n",
    "sent = np.array(indexed_sentences) + 1\n",
    "#pattern = list(seq_in[start])\n",
    "pattern = list(sent)\n",
    "print(\"\\\"\",' '.join(index2word[index] for index in pattern))\n",
    "for i in range(4):\n",
    "    prediction = model.predict(np.array([pattern]))\n",
    "    pred_word = word2vec_model.similar_by_vector(prediction[0][prediction.shape[1] - 1])[0][0]\n",
    "    sys.stdout.write(pred_word+\" \")\n",
    "    pattern.append(word2index[pred_word])\n",
    "    pattern = pattern[:len(pattern)]"
   ]
  },
  {
   "cell_type": "code",
   "execution_count": null,
   "metadata": {
    "collapsed": true
   },
   "outputs": [],
   "source": [
    "\n",
    "\n",
    "================================\n",
    "# 1word\n",
    "which nfl team represented the afc\n",
    "what day the game\n"
   ]
  },
  {
   "cell_type": "code",
   "execution_count": 46,
   "metadata": {},
   "outputs": [
    {
     "ename": "SyntaxError",
     "evalue": "invalid syntax (<ipython-input-46-432fa0cc0048>, line 1)",
     "output_type": "error",
     "traceback": [
      "\u001b[0;36m  File \u001b[0;32m\"<ipython-input-46-432fa0cc0048>\"\u001b[0;36m, line \u001b[0;32m1\u001b[0m\n\u001b[0;31m    [[ 0.18412007  0.04542543  0.21795343 ...,  0.05103429  0.10333754\u001b[0m\n\u001b[0m                            ^\u001b[0m\n\u001b[0;31mSyntaxError\u001b[0m\u001b[0;31m:\u001b[0m invalid syntax\n"
     ]
    }
   ],
   "source": [
    "[[ 0.18412007  0.04542543  0.21795343 ...,  0.05103429  0.10333754\n",
    "  -0.24055868]\n",
    " [ 0.06989234  0.02780185  0.18792398 ..., -0.0966404   0.1660459\n",
    "   0.02869556]\n",
    " [-0.14092228 -0.10479636 -0.00315017 ..., -0.04664698 -0.0193012\n",
    "  -0.18405525]\n",
    " ..., \n",
    " [ 0.03898042  0.03138988  0.01595723 ..., -0.04284016  0.00147492 -0.        ]\n",
    " [-0.00096082 -0.00380996  0.01627631 ..., -0.01853406  0.01832031\n",
    "  -0.00879718]\n",
    " [ 0.02848312  0.0082074   0.02930731 ..., -0.02281111 -0.00461099\n",
    "  -0.00617669]]\n",
    "chedi [[ 0.18412007  0.04542543  0.21795343 ...,  0.05103429  0.10333754\n",
    "  -0.24055868]\n",
    " [ 0.06989234  0.02780185  0.18792398 ..., -0.0966404   0.1660459\n",
    "   0.02869556]\n",
    " [-0.14092228 -0.10479636 -0.00315017 ..., -0.04664698 -0.0193012\n",
    "  -0.18405525]\n",
    " ..., \n",
    " [-0.00096082 -0.00380996  0.01627631 ..., -0.01853406  0.01832031\n",
    "  -0.00879718]\n",
    " [ 0.02848312  0.0082074   0.02930731 ..., -0.02281111 -0.00461099\n",
    "  -0.00617669]\n",
    " [ 0.00630879 -0.00051082  0.00335852 ..., -0.00979137  0.01898552 -0.        ]]\n",
    "palace [[ 0.18412007  0.04542543  0.21795343 ...,  0.05103429  0.10333754\n",
    "  -0.24055868]\n",
    " [ 0.06989234  0.02780185  0.18792398 ..., -0.0966404   0.1660459\n",
    "   0.02869556]\n",
    " [-0.14092228 -0.10479636 -0.00315017 ..., -0.04664698 -0.0193012\n",
    "  -0.18405525]\n",
    " ..., \n",
    " [ 0.02848312  0.0082074   0.02930731 ..., -0.02281111 -0.00461099\n",
    "  -0.00617669]\n",
    " [ 0.00630879 -0.00051082  0.00335852 ..., -0.00979137  0.01898552 -0.        ]\n",
    " [-0.01971216 -0.00750435  0.00110365 ..., -0.00632941 -0.00917979\n",
    "  -0.03102284]]\n",
    "as [[ 0.18412007  0.04542543  0.21795343 ...,  0.05103429  0.10333754\n",
    "  -0.24055868]\n",
    " [ 0.06989234  0.02780185  0.18792398 ..., -0.0966404   0.1660459\n",
    "   0.02869556]\n",
    " [-0.14092228 -0.10479636 -0.00315017 ..., -0.04664698 -0.0193012\n",
    "  -0.18405525]\n",
    " ..., \n",
    " [ 0.00630879 -0.00051082  0.00335852 ..., -0.00979137  0.01898552 -0.        ]\n",
    " [-0.01971216 -0.00750435  0.00110365 ..., -0.00632941 -0.00917979\n",
    "  -0.03102284]\n",
    " [-0.00495647  0.00307422  0.00146239 ..., -0.00513899  0.01176982\n",
    "  -0.0073432 ]]\n",
    "polynesian [[ 0.18412007  0.04542543  0.21795343 ...,  0.05103429  0.10333754\n",
    "  -0.24055868]\n",
    " [ 0.06989234  0.02780185  0.18792398 ..., -0.0966404   0.1660459\n",
    "   0.02869556]\n",
    " [-0.14092228 -0.10479636 -0.00315017 ..., -0.04664698 -0.0193012\n",
    "  -0.18405525]\n",
    " ..., \n",
    " [-0.01971216 -0.00750435  0.00110365 ..., -0.00632941 -0.00917979\n",
    "  -0.03102284]\n",
    " [-0.00495647  0.00307422  0.00146239 ..., -0.00513899  0.01176982\n",
    "  -0.0073432 ]\n",
    " [ 0.06350882 -0.06063896  0.04302299 ..., -0.00506015 -0.33358458\n",
    "  -0.0859012 ]]\n",
    "interrupting [[ 0.18412007  0.04542543  0.21795343 ...,  0.05103429  0.10333754\n",
    "  -0.24055868]\n",
    " [ 0.06989234  0.02780185  0.18792398 ..., -0.0966404   0.1660459\n",
    "   0.02869556]\n",
    " [-0.14092228 -0.10479636 -0.00315017 ..., -0.04664698 -0.0193012\n",
    "  -0.18405525]\n",
    " ..., \n",
    " [-0.00495647  0.00307422  0.00146239 ..., -0.00513899  0.01176982\n",
    "  -0.0073432 ]\n",
    " [ 0.06350882 -0.06063896  0.04302299 ..., -0.00506015 -0.33358458\n",
    "  -0.0859012 ]\n",
    " [ 0.08807422 -0.09903663  0.09095348 ...,  0.09129792 -0.60016239\n",
    "  -0.20244008]]\n",
    "interrupting [[ 0.18412007  0.04542543  0.21795343 ...,  0.05103429  0.10333754\n",
    "  -0.24055868]\n",
    " [ 0.06989234  0.02780185  0.18792398 ..., -0.0966404   0.1660459\n",
    "   0.02869556]\n",
    " [-0.14092228 -0.10479636 -0.00315017 ..., -0.04664698 -0.0193012\n",
    "  -0.18405525]\n",
    " ..., \n",
    " [ 0.06350882 -0.06063896  0.04302299 ..., -0.00506015 -0.33358458\n",
    "  -0.0859012 ]\n",
    " [ 0.08807422 -0.09903663  0.09095348 ...,  0.09129792 -0.60016239\n",
    "  -0.20244008]\n",
    " [ 0.06299915 -0.07275582  0.10243553 ...,  0.13952872 -0.53645998\n",
    "  -0.18396612]]\n",
    "interrupting [[ 0.18412007  0.04542543  0.21795343 ...,  0.05103429  0.10333754\n",
    "  -0.24055868]\n",
    " [ 0.06989234  0.02780185  0.18792398 ..., -0.0966404   0.1660459\n",
    "   0.02869556]\n",
    " [-0.14092228 -0.10479636 -0.00315017 ..., -0.04664698 -0.0193012\n",
    "  -0.18405525]\n",
    " ..., \n",
    " [ 0.08807422 -0.09903663  0.09095348 ...,  0.09129792 -0.60016239\n",
    "  -0.20244008]\n",
    " [ 0.06299915 -0.07275582  0.10243553 ...,  0.13952872 -0.53645998\n",
    "  -0.18396612]\n",
    " [ 0.04037373 -0.05459753  0.09878035 ...,  0.14784373 -0.45596743\n",
    "  -0.15770634]]\n",
    "interrupting [[ 0.18412007  0.04542543  0.21795343 ...,  0.05103429  0.10333754\n",
    "  -0.24055868]\n",
    " [ 0.06989234  0.02780185  0.18792398 ..., -0.0966404   0.1660459\n",
    "   0.02869556]\n",
    " [-0.14092228 -0.10479636 -0.00315017 ..., -0.04664698 -0.0193012\n",
    "  -0.18405525]\n",
    " ..., \n",
    " [ 0.06299915 -0.07275582  0.10243553 ...,  0.13952872 -0.53645998\n",
    "  -0.18396612]\n",
    " [ 0.04037373 -0.05459753  0.09878035 ...,  0.14784373 -0.45596743\n",
    "  -0.15770634]\n",
    " [-0.0033474  -0.03021199  0.08110242 ...,  0.15047802 -0.30225605\n",
    "  -0.0890971 ]]\n",
    "nerves [[ 0.18412007  0.04542543  0.21795343 ...,  0.05103429  0.10333754\n",
    "  -0.24055868]\n",
    " [ 0.06989234  0.02780185  0.18792398 ..., -0.0966404   0.1660459\n",
    "   0.02869556]\n",
    " [-0.14092228 -0.10479636 -0.00315017 ..., -0.04664698 -0.0193012\n",
    "  -0.18405525]\n",
    " ..., \n",
    " [ 0.04037373 -0.05459753  0.09878035 ...,  0.14784373 -0.45596743\n",
    "  -0.15770634]\n",
    " [-0.0033474  -0.03021199  0.08110242 ...,  0.15047802 -0.30225605\n",
    "  -0.0890971 ]\n",
    " [-0.02403891 -0.00142898  0.04814288 ...,  0.11747674 -0.02676389\n",
    "   0.0047134 ]]"
   ]
  },
  {
   "cell_type": "code",
   "execution_count": null,
   "metadata": {
    "collapsed": true
   },
   "outputs": [],
   "source": [
    "#e_model = embeddings.get_model()"
   ]
  },
  {
   "cell_type": "code",
   "execution_count": null,
   "metadata": {
    "collapsed": true
   },
   "outputs": [],
   "source": [
    "#e_model.similar_by_word(\"profitabl\")"
   ]
  },
  {
   "cell_type": "markdown",
   "metadata": {
    "collapsed": true
   },
   "source": [
    "## Accuracy"
   ]
  },
  {
   "cell_type": "code",
   "execution_count": null,
   "metadata": {
    "collapsed": true
   },
   "outputs": [],
   "source": [
    "def accuracy():\n",
    "    count = 0\n",
    "    correct = 0\n",
    "    for sub_sample_in, sub_sample_out in zip(seq_in, seq_out):\n",
    "        ypred = model.predict_on_batch(np.expand_dims(sub_sample_in, axis=0))[0]\n",
    "        ytrue = sub_sample_out\n",
    "        pred_word = word2vec_model.similar_by_vector(ypred)[0][0]\n",
    "        true_word = word2vec_model.similar_by_vector(ytrue)[0][0]\n",
    "        similarity = word2vec_model.similarity(pred_word, true_word)\n",
    "        if similarity == 1:\n",
    "            correct += 1\n",
    "        count += 1\n",
    "    print(\"Accuracy {0}\".format(correct/count))"
   ]
  },
  {
   "cell_type": "code",
   "execution_count": null,
   "metadata": {
    "collapsed": true
   },
   "outputs": [],
   "source": [
    "#seq_out[0]"
   ]
  },
  {
   "cell_type": "code",
   "execution_count": null,
   "metadata": {
    "collapsed": true
   },
   "outputs": [],
   "source": [
    "# accuracy()"
   ]
  },
  {
   "cell_type": "code",
   "execution_count": null,
   "metadata": {
    "collapsed": true
   },
   "outputs": [],
   "source": [
    "#model_results = model_fit_summary.history"
   ]
  },
  {
   "cell_type": "code",
   "execution_count": null,
   "metadata": {
    "collapsed": true
   },
   "outputs": [],
   "source": [
    "#model_results.update(model_fit_summary.params)"
   ]
  },
  {
   "cell_type": "code",
   "execution_count": null,
   "metadata": {
    "collapsed": true,
    "scrolled": true
   },
   "outputs": [],
   "source": [
    "#model_results[\"train_accuracy\"] = accuracy()"
   ]
  },
  {
   "cell_type": "code",
   "execution_count": null,
   "metadata": {
    "collapsed": true
   },
   "outputs": [],
   "source": [
    "# n = no. of predictions\n",
    "# accuracy = accuracy(400)\n",
    "#print(model_results)"
   ]
  },
  {
   "cell_type": "code",
   "execution_count": null,
   "metadata": {
    "collapsed": true
   },
   "outputs": [],
   "source": [
    "#text_file_path = \"../weights/lstm-2-1024-512-batchsize-128-epochs-25/model_results.json\""
   ]
  },
  {
   "cell_type": "code",
   "execution_count": null,
   "metadata": {
    "collapsed": true
   },
   "outputs": [],
   "source": [
    "#with open(text_file_path, \"w\") as f:\n",
    "        #json.dump(model_results, f)\n",
    "        "
   ]
  },
  {
   "cell_type": "code",
   "execution_count": 108,
   "metadata": {},
   "outputs": [],
   "source": [
    "layer1_weights = model.layers[1].get_weights()[0]"
   ]
  },
  {
   "cell_type": "code",
   "execution_count": 118,
   "metadata": {},
   "outputs": [
    {
     "data": {
      "text/plain": [
       "(300, 4096)"
      ]
     },
     "execution_count": 118,
     "metadata": {},
     "output_type": "execute_result"
    }
   ],
   "source": [
    "layer1_weights.shape"
   ]
  },
  {
   "cell_type": "code",
   "execution_count": null,
   "metadata": {
    "collapsed": true
   },
   "outputs": [],
   "source": []
  },
  {
   "cell_type": "code",
   "execution_count": 115,
   "metadata": {},
   "outputs": [],
   "source": [
    "import seaborn as sns\n",
    "import matplotlib.pyplot as plt \n",
    "%matplotlib inline"
   ]
  },
  {
   "cell_type": "code",
   "execution_count": 134,
   "metadata": {},
   "outputs": [
    {
     "name": "stdout",
     "output_type": "stream",
     "text": [
      "The draw time for this plot will be slow for all clients.\n"
     ]
    },
    {
     "name": "stderr",
     "output_type": "stream",
     "text": [
      "/home/nishant/venvs/autofill/lib/python3.5/site-packages/plotly/api/v1/clientresp.py:40: UserWarning:\n",
      "\n",
      "Estimated Draw Time Too Long\n",
      "\n"
     ]
    },
    {
     "data": {
      "text/html": [
       "<iframe id=\"igraph\" scrolling=\"no\" style=\"border:none;\" seamless=\"seamless\" src=\"https://plot.ly/~nishantjain94/144.embed\" height=\"525px\" width=\"100%\"></iframe>"
      ],
      "text/plain": [
       "<plotly.tools.PlotlyDisplay object>"
      ]
     },
     "execution_count": 134,
     "metadata": {},
     "output_type": "execute_result"
    }
   ],
   "source": [
    "trace = go.Heatmap(z=layer1_weights)\n",
    "data=[trace]\n",
    "py.iplot(data, filename='labelled-heatmap')"
   ]
  },
  {
   "cell_type": "code",
   "execution_count": null,
   "metadata": {},
   "outputs": [],
   "source": [
    "layer1_weights = model.layers[1].get_weights()[1]\n",
    "trace = go.Heatmap(z=layer1_weights)\n",
    "data=[trace]\n",
    "py.iplot(data)"
   ]
  },
  {
   "cell_type": "code",
   "execution_count": null,
   "metadata": {
    "collapsed": true
   },
   "outputs": [],
   "source": []
  },
  {
   "cell_type": "code",
   "execution_count": 131,
   "metadata": {},
   "outputs": [
    {
     "data": {
      "text/plain": [
       "<matplotlib.figure.Figure at 0x7f0f3add3ac8>"
      ]
     },
     "execution_count": 131,
     "metadata": {},
     "output_type": "execute_result"
    },
    {
     "data": {
      "text/plain": [
       "<matplotlib.figure.Figure at 0x7f0f3add3ac8>"
      ]
     },
     "metadata": {},
     "output_type": "display_data"
    }
   ],
   "source": [
    "plt.figure(figsize=(1024, 10))"
   ]
  },
  {
   "cell_type": "code",
   "execution_count": 132,
   "metadata": {},
   "outputs": [
    {
     "data": {
      "text/plain": [
       "<matplotlib.axes._subplots.AxesSubplot at 0x7f0f5d3ddf98>"
      ]
     },
     "execution_count": 132,
     "metadata": {},
     "output_type": "execute_result"
    },
    {
     "data": {
      "image/png": "[encoded data removed]",
      "text/plain": [
       "<matplotlib.figure.Figure at 0x7f0f33b07dd8>"
      ]
     },
     "metadata": {},
     "output_type": "display_data"
    }
   ],
   "source": [
    "sns.heatmap(layer1_weights[:50, :50], )"
   ]
  },
  {
   "cell_type": "code",
   "execution_count": null,
   "metadata": {
    "collapsed": true
   },
   "outputs": [],
   "source": []
  },
  {
   "cell_type": "code",
   "execution_count": null,
   "metadata": {
    "collapsed": true
   },
   "outputs": [],
   "source": []
  }
 ],
 "metadata": {
  "kernelspec": {
   "display_name": "Python 3",
   "language": "python",
   "name": "python3"
  },
  "language_info": {
   "codemirror_mode": {
    "name": "ipython",
    "version": 3
   },
   "file_extension": ".py",
   "mimetype": "text/x-python",
   "name": "python",
   "nbconvert_exporter": "python",
   "pygments_lexer": "ipython3",
   "version": "3.5.2"
  }
 },
 "nbformat": 4,
 "nbformat_minor": 2
}
