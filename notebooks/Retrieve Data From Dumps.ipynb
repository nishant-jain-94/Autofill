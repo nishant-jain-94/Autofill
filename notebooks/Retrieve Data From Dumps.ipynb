{
 "cells": [
  {
   "cell_type": "code",
   "execution_count": 68,
   "metadata": {
    "collapsed": true
   },
   "outputs": [],
   "source": [
    "import json"
   ]
  },
  {
   "cell_type": "code",
   "execution_count": 69,
   "metadata": {
    "collapsed": true
   },
   "outputs": [],
   "source": [
    "def squaddata_processing():\n",
    "    # TODO: Path should point to the data folder in the current working directory     \n",
    "    with open('/home/user/Autofill/data/dev-v1.1.json') as data_file:\n",
    "        dataset = json.load(data_file)\n",
    "    raw_data = []\n",
    "    for data in dataset['data']:\n",
    "        paragraphs = data['paragraphs']\n",
    "        # TODO: Should be replaced by proper variable names         \n",
    "        # TODO: dct should be placed within the for loop and\n",
    "        # raw_data.append(dict) should be within the loop\n",
    "        dct = {}\n",
    "        for paragraph in paragraphs:\n",
    "            dct['Passages'] = paragraph['context']\n",
    "            qlist = []\n",
    "            for questions in paragraph['qas']:\n",
    "                qlist.append(questions['question'])\n",
    "            dct['Question'] = list(set(qlist)) \n",
    "        raw_data.append(dct)\n",
    "    # TODO: Path should point to the data folder in the current working directory\n",
    "    with open('/home/user/Autofill/data/squaddata.json', 'w') as outfile:\n",
    "        json.dump(raw_data,outfile)    "
   ]
  },
  {
   "cell_type": "code",
   "execution_count": 70,
   "metadata": {
    "collapsed": true
   },
   "outputs": [],
   "source": [
    "def combined_file():\n",
    "    # TODO: Path should point to the data folder in the current working directory\n",
    "    with open('/home/user/Autofill/data/squaddata.json') as data_file:\n",
    "        dataset1 = json.load(data_file)\n",
    "    # TODO: Path should point to the data folder in the current working directory\n",
    "    with open('/home/user/Autofill/data/wiki_text.json') as data_file:\n",
    "        dataset2 = json.load(data_file)\n",
    "    final_dict = {}\n",
    "    # TODO: replace final_para from string to list\n",
    "    final_para = \"\"\n",
    "    final_question = []\n",
    "    # TODO: should replace range with regular for loop\n",
    "    for i in range(0,len(dataset1),1):\n",
    "        para = (dataset1[i]['Passages'])\n",
    "        # TODO: Replace string concatenation with list\n",
    "        final_para = final_para + \" \" + para\n",
    "        # TODO: final_question.extend(dataset1[i][\"Question\"])\n",
    "        for j in range(0,len(dataset1[i]['Question']),1):\n",
    "            final_question.append(dataset1[i]['Question'][j])\n",
    "    final_para = final_para + \" \"   \n",
    "    for i in range(0,len(dataset2),1):\n",
    "        para = (dataset2[i]['Passages'])\n",
    "        final_para = final_para + \" \" +para\n",
    "        for j in range(0,len(dataset2[i]['Question']),1):\n",
    "            final_question.append(dataset2[i]['Question'][j])\n",
    "    final_dict['Paragraph'] = final_para\n",
    "    final_dict['Question'] = final_question\n",
    "    final_data = []\n",
    "    final_data.append(final_dict)\n",
    "    # TODO: Path should point to the data folder in the current working directory\n",
    "    with open('/home/user/Autofill/data/final_json_file.json','w') as outfile:\n",
    "        json.dump(final_data,outfile)"
   ]
  },
  {
   "cell_type": "code",
   "execution_count": 71,
   "metadata": {
    "collapsed": true
   },
   "outputs": [],
   "source": [
    "squaddata_processing()"
   ]
  },
  {
   "cell_type": "code",
   "execution_count": 72,
   "metadata": {
    "collapsed": true
   },
   "outputs": [],
   "source": [
    "combined_file()"
   ]
  },
  {
   "cell_type": "code",
   "execution_count": null,
   "metadata": {
    "collapsed": true
   },
   "outputs": [],
   "source": []
  }
 ],
 "metadata": {
  "kernelspec": {
   "display_name": "Python 3",
   "language": "python",
   "name": "python3"
  },
  "language_info": {
   "codemirror_mode": {
    "name": "ipython",
    "version": 3
   },
   "file_extension": ".py",
   "mimetype": "text/x-python",
   "name": "python",
   "nbconvert_exporter": "python",
   "pygments_lexer": "ipython3",
   "version": "3.5.2"
  }
 },
 "nbformat": 4,
 "nbformat_minor": 2
}
